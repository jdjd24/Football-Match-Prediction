{
 "cells": [
  {
   "cell_type": "code",
   "execution_count": 1,
   "metadata": {},
   "outputs": [],
   "source": [
    "import pandas as pd\n",
    "import numpy as np\n",
    "from sklearn import linear_model\n",
    "from sklearn import svm\n",
    "from sklearn import ensemble\n",
    "from sklearn import preprocessing\n",
    "from sklearn.model_selection import learning_curve\n",
    "from sklearn.multiclass import OneVsRestClassifier\n",
    "from sklearn.metrics import mean_squared_error, log_loss\n",
    "import matplotlib.pyplot as plt"
   ]
  },
  {
   "cell_type": "code",
   "execution_count": 2,
   "metadata": {},
   "outputs": [],
   "source": [
    "def match_date_to_rating_date(df, rating_dates):\n",
    "    pos = rating_dates.searchsorted(df.date)-1\n",
    "    df['rating_date'] = pos.clip(min=0)"
   ]
  },
  {
   "cell_type": "code",
   "execution_count": 3,
   "metadata": {},
   "outputs": [],
   "source": [
    "def player_id_to_nearest_rating(df, dictionary):\n",
    "    player_attrs = pd.read_csv('Player_Attributes.csv')\n",
    "    player_attrs['date'] = pd.to_datetime(player_attrs['date'])\n",
    "    player_attrs = player_attrs.sort_values('date', ascending = True)\n",
    "    player_attrs['date'] = player_attrs['date'].map(dictionary)\n",
    "    player_attrs = player_attrs.set_index(['player_api_id', 'date'])['overall_rating']\n",
    "    positions = ['home_player_1',\n",
    "                 'home_player_2',\n",
    "                 'home_player_3',\n",
    "                 'home_player_4',\n",
    "                 'home_player_5',\n",
    "                 'home_player_6',\n",
    "                 'home_player_7',\n",
    "                 'home_player_8',\n",
    "                 'home_player_9',\n",
    "                 'home_player_10',\n",
    "                 'home_player_11',\n",
    "                 'away_player_1',\n",
    "                 'away_player_2',\n",
    "                 'away_player_3',\n",
    "                 'away_player_4',\n",
    "                 'away_player_5',\n",
    "                 'away_player_6',\n",
    "                 'away_player_7',\n",
    "                 'away_player_8',\n",
    "                 'away_player_9',\n",
    "                 'away_player_10',\n",
    "                 'away_player_11']\n",
    "    for pos in positions:\n",
    "        multiindex = list(zip(df[pos], df.rating_date))\n",
    "        print(player_attrs.index)\n",
    "        print(player_attrs.loc[( 39902,   0)])\n",
    "        for mult in multiindex:\n",
    "            print(player_attrs.loc[mult])\n",
    "        df[pos] = player_attrs.loc[multiindex]"
   ]
  },
  {
   "cell_type": "code",
   "execution_count": null,
   "metadata": {},
   "outputs": [],
   "source": [
    "df = pd.read_csv('Match.csv')\n",
    "df['date'] = pd.to_datetime(df['date'])"
   ]
  },
  {
   "cell_type": "code",
   "execution_count": null,
   "metadata": {},
   "outputs": [],
   "source": [
    "date = pd.to_datetime(df.loc[122,'date'])\n",
    "print(date)\n",
    "date1 = pd.to_datetime(df.loc[1,'date'])\n",
    "print(date1)\n",
    "print(date < date1)"
   ]
  },
  {
   "cell_type": "code",
   "execution_count": null,
   "metadata": {},
   "outputs": [],
   "source": [
    "p = pd.read_csv('Player_Attributes.csv')['date']\n",
    "p = pd.to_datetime(p)\n",
    "p = p.sort_values(ascending = True)\n",
    "p = pd.unique(p)\n",
    "match_date_to_rating_date(df, pd.unique(p))"
   ]
  },
  {
   "cell_type": "code",
   "execution_count": null,
   "metadata": {},
   "outputs": [],
   "source": [
    "dictionary = dict()\n",
    "for i, date in enumerate(p):\n",
    "    dictionary[date] = i\n",
    "player_id_to_nearest_rating(df, dictionary)\n",
    "df.home_player_1"
   ]
  },
  {
   "cell_type": "code",
   "execution_count": 82,
   "metadata": {},
   "outputs": [],
   "source": [
    "def load_in_data():\n",
    "    x_tr = pd.read_csv('x_train.csv', index_col = 'match_api_id')\n",
    "    y_tr = pd.read_csv('y_train.csv', index_col = 'match_api_id').target_binary\n",
    "    x_cv = pd.read_csv('x_val.csv', index_col = 'match_api_id')\n",
    "    y_cv = pd.read_csv('y_val.csv', index_col = 'match_api_id').target_binary\n",
    "    x_te = pd.read_csv('x_test.csv', index_col = 'match_api_id')\n",
    "    y_te = pd.read_csv('y_test.csv', index_col = 'match_api_id').target_binary\n",
    "    return x_tr, y_tr, x_cv, y_cv, x_te, y_te"
   ]
  },
  {
   "cell_type": "code",
   "execution_count": 83,
   "metadata": {},
   "outputs": [],
   "source": [
    "x_tr, y_tr, x_cv, y_cv, x_te, y_te = load_in_data()"
   ]
  },
  {
   "cell_type": "code",
   "execution_count": 205,
   "metadata": {},
   "outputs": [],
   "source": [
    "y_tr[y_tr == -1] = 0\n",
    "y_cv[y_cv == -1] = 0\n",
    "y_te[y_te == -1] = 0"
   ]
  },
  {
   "cell_type": "code",
   "execution_count": null,
   "metadata": {},
   "outputs": [],
   "source": [
    "def add_historical_data()"
   ]
  },
  {
   "cell_type": "code",
   "execution_count": 39,
   "metadata": {},
   "outputs": [
    {
     "data": {
      "text/plain": [
       "Index(['home_player_1_overall_rating', 'home_player_1_short_passing',\n",
       "       'home_player_1_long_passing', 'home_player_1_acceleration',\n",
       "       'home_player_1_sprint_speed', 'home_player_1_reactions',\n",
       "       'home_player_1_shot_power', 'home_player_1_strength',\n",
       "       'home_player_1_aggression', 'home_player_1_positioning',\n",
       "       'home_player_1_penalties', 'home_player_1_marking',\n",
       "       'home_player_1_standing_tackle', 'home_player_1_gk_diving',\n",
       "       'home_player_1_gk_handling'],\n",
       "      dtype='object')"
      ]
     },
     "execution_count": 39,
     "metadata": {},
     "output_type": "execute_result"
    }
   ],
   "source": [
    "x_tr.columns[[0,4,8,10,11,12,14,15,17,19,21,22,23,25,26]]"
   ]
  },
  {
   "cell_type": "code",
   "execution_count": 206,
   "metadata": {},
   "outputs": [],
   "source": [
    "columns_keep = ['overall_rating']\n",
    "positions = ['home_player_1',\n",
    "             'home_player_2',\n",
    "             'home_player_3',\n",
    "             'home_player_4',\n",
    "             'home_player_5',\n",
    "             'home_player_6',\n",
    "             'home_player_7',\n",
    "             'home_player_8',\n",
    "             'home_player_9',\n",
    "             'home_player_10',\n",
    "             'home_player_11',\n",
    "             'away_player_1',\n",
    "             'away_player_2',\n",
    "             'away_player_3',\n",
    "             'away_player_4',\n",
    "             'away_player_5',\n",
    "             'away_player_6',\n",
    "             'away_player_7',\n",
    "             'away_player_8',\n",
    "             'away_player_9',\n",
    "             'away_player_10',\n",
    "             'away_player_11']\n",
    "columns = []\n",
    "for pos in positions:\n",
    "    arr = [pos + '_' + column_name for column_name in columns_keep]\n",
    "    columns = columns + arr\n",
    "x_tr = x_tr[columns]\n",
    "x_cv = x_cv[columns]\n",
    "x_te = x_te[columns]"
   ]
  },
  {
   "cell_type": "code",
   "execution_count": 84,
   "metadata": {},
   "outputs": [],
   "source": [
    "min_max_scaler = preprocessing.MinMaxScaler()\n",
    "x_tr = pd.DataFrame(min_max_scaler.fit_transform(x_tr), index = x_tr.index, columns = x_tr.columns)\n",
    "x_cv = pd.DataFrame(min_max_scaler.fit_transform(x_cv), index = x_cv.index, columns = x_cv.columns)\n",
    "x_te = pd.DataFrame(min_max_scaler.fit_transform(x_te), index = x_te.index, columns = x_te.columns)"
   ]
  },
  {
   "cell_type": "code",
   "execution_count": 85,
   "metadata": {},
   "outputs": [],
   "source": [
    "x_tr.fillna(x_tr.mean(), inplace=True)\n",
    "x_cv.fillna(x_cv.mean(), inplace=True)\n",
    "x_te.fillna(x_te.mean(), inplace=True)"
   ]
  },
  {
   "cell_type": "code",
   "execution_count": 12,
   "metadata": {},
   "outputs": [],
   "source": [
    "def plot_learning_curve(estimator, x_tr, y_tr):\n",
    "    train_sizes, train_scores, test_scores = \\\n",
    "        learning_curve(estimator, x_tr, y_tr, train_sizes = np.linspace(0.2, 1, 20))\n",
    "    \n",
    "    plt.plot(train_sizes, -train_scores.mean(1), 'o-', label = str(estimator.__class__.__name__) + ' train')\n",
    "    plt.plot(train_sizes, -test_scores.mean(1), 'o-', label = str(estimator.__class__.__name__) + ' test')\n",
    "    plt.legend(loc=\"best\")"
   ]
  },
  {
   "cell_type": "code",
   "execution_count": 13,
   "metadata": {},
   "outputs": [],
   "source": [
    "def do_stuff(model, x_tr, y_tr, x_cv, y_cv):\n",
    "    clf = OneVsRestClassifier(model).fit(x_tr, y_tr)\n",
    "    predict_tr = clf.predict(x_tr).reshape((-1, 1))\n",
    "    predict_cv = clf.predict(x_cv).reshape((-1, 1))\n",
    "    print(np.mean(predict_tr == y_tr))\n",
    "    print(np.mean(predict_cv == y_cv))\n",
    "    #plot_learning_curve(clf, x_tr, y_tr)\n",
    "    return clf"
   ]
  },
  {
   "cell_type": "code",
   "execution_count": 89,
   "metadata": {},
   "outputs": [],
   "source": [
    "def logistic_model(x_tr, y_tr, x_cv, y_cv):\n",
    "    log = linear_model.LogisticRegression(max_iter = 200, C = 0.1, l1_ratio = 0.5, penalty = 'elasticnet', solver = 'saga')\n",
    "    clf = log.fit(x_tr, y_tr)\n",
    "    return clf\n",
    "\n",
    "def svm_model(x_tr, y_tr, x_cv, y_cv):\n",
    "    svc = svm.SVC(kernel = 'rbf', max_iter = 1000, verbose = 5)\n",
    "    return do_stuff(svc, x_tr, y_tr, x_cv, y_cv)\n",
    "    \n",
    "def rf_model(x_tr, y_tr, x_cv, y_cv):\n",
    "    rf = ensemble.RandomForestClassifier(n_estimators = 100, max_features = 'auto', max_depth = 6)\n",
    "    clf = rf.fit(x_tr, y_tr)\n",
    "    return clf"
   ]
  },
  {
   "cell_type": "code",
   "execution_count": 90,
   "metadata": {
    "scrolled": true
   },
   "outputs": [],
   "source": [
    "clf_log = logistic_model(x_tr, y_tr, x_cv, y_cv)"
   ]
  },
  {
   "cell_type": "code",
   "execution_count": 91,
   "metadata": {},
   "outputs": [],
   "source": [
    "clf_rf = rf_model(x_tr, y_tr, x_cv, y_cv)"
   ]
  },
  {
   "cell_type": "code",
   "execution_count": 92,
   "metadata": {},
   "outputs": [
    {
     "name": "stdout",
     "output_type": "stream",
     "text": [
      "0.35361171106311495\n",
      "0.35091083413231067\n",
      "0.31725461963042956\n",
      "0.3576222435282838\n"
     ]
    }
   ],
   "source": [
    "print(mean_squared_error(y_tr, clf_log.predict(x_tr).reshape((-1, 1))))\n",
    "print(mean_squared_error(y_cv, clf_log.predict(x_cv).reshape((-1, 1))))\n",
    "print(mean_squared_error(y_tr, clf_rf.predict(x_tr).reshape((-1, 1))))\n",
    "print(mean_squared_error(y_cv, clf_rf.predict(x_cv).reshape((-1, 1))))"
   ]
  },
  {
   "cell_type": "code",
   "execution_count": 93,
   "metadata": {},
   "outputs": [
    {
     "name": "stdout",
     "output_type": "stream",
     "text": [
      "0.619194183799871\n",
      "0.6193223346263451\n",
      "0.5869469409768365\n",
      "0.6187522993536477\n"
     ]
    }
   ],
   "source": [
    "print(log_loss(y_tr, clf_log.predict_proba(x_tr)))\n",
    "print(log_loss(y_cv, clf_log.predict_proba(x_cv)))\n",
    "print(log_loss(y_tr, clf_rf.predict_proba(x_tr)))\n",
    "print(log_loss(y_cv, clf_rf.predict_proba(x_cv)))"
   ]
  },
  {
   "cell_type": "code",
   "execution_count": 66,
   "metadata": {},
   "outputs": [
    {
     "data": {
      "text/plain": [
       "array([ 0.06795003, -0.2396197 ,  0.1660052 ,  0.08840537,  0.5680267 ,\n",
       "        0.75287973, -0.51416432, -0.42405566, -0.24202101,  0.53834616,\n",
       "       -0.29261512, -0.21489304,  0.10548235, -0.00081843])"
      ]
     },
     "execution_count": 66,
     "metadata": {},
     "output_type": "execute_result"
    }
   ],
   "source": [
    "coefs = clf_log.coef_\n",
    "coefs[0].reshape((-1,14))\n",
    "np.sum(coefs[0].reshape((-1, 14)), axis=0)"
   ]
  },
  {
   "cell_type": "code",
   "execution_count": 71,
   "metadata": {},
   "outputs": [
    {
     "name": "stdout",
     "output_type": "stream",
     "text": [
      "16673\n",
      "11984\n",
      "137\n",
      "4552\n"
     ]
    }
   ],
   "source": [
    "p = clf_log.predict(x_tr)\n",
    "print(len(p))\n",
    "print(len(p[p == 1]))\n",
    "print(len(p[p == 0]))\n",
    "print(len(p[p == -1]))"
   ]
  },
  {
   "cell_type": "code",
   "execution_count": 67,
   "metadata": {},
   "outputs": [
    {
     "data": {
      "text/plain": [
       "Index(['home_player_1_overall_rating', 'home_player_2_overall_rating',\n",
       "       'home_player_3_overall_rating', 'home_player_1_potential',\n",
       "       'home_player_2_potential', 'home_player_3_potential',\n",
       "       'home_player_4_potential', 'home_player_1_crossing',\n",
       "       'home_player_2_crossing', 'home_player_3_crossing',\n",
       "       'home_player_4_crossing', 'home_player_1_finishing'],\n",
       "      dtype='object')"
      ]
     },
     "execution_count": 67,
     "metadata": {},
     "output_type": "execute_result"
    }
   ],
   "source": [
    "x_tr.columns[[0,1,2,4,5,6,7,8,9,10,11,12]]\n"
   ]
  },
  {
   "cell_type": "code",
   "execution_count": 95,
   "metadata": {},
   "outputs": [],
   "source": [
    "df = pd.read_csv('Match.csv')"
   ]
  },
  {
   "cell_type": "code",
   "execution_count": 96,
   "metadata": {},
   "outputs": [],
   "source": [
    "df = df.set_index('match_api_id')"
   ]
  },
  {
   "cell_type": "code",
   "execution_count": 97,
   "metadata": {},
   "outputs": [],
   "source": [
    "col = 'B365'\n",
    "cols = [col + 'H', col + 'D', col + 'A']"
   ]
  },
  {
   "cell_type": "code",
   "execution_count": 98,
   "metadata": {},
   "outputs": [],
   "source": [
    "df = df[cols]"
   ]
  },
  {
   "cell_type": "code",
   "execution_count": 99,
   "metadata": {},
   "outputs": [],
   "source": [
    "df = np.reciprocal(df)\n",
    "df = df.div(df.sum(axis=1), axis=0)"
   ]
  },
  {
   "cell_type": "code",
   "execution_count": 100,
   "metadata": {},
   "outputs": [],
   "source": [
    "b_tr = 1 - df.loc[y_tr.index][col + 'H'].fillna(0.5)\n",
    "b_cv = 1 - df.loc[y_cv.index][col + 'H'].fillna(0.5)\n",
    "b_te = 1 - df.loc[y_te.index][col + 'H'].fillna(0.5)"
   ]
  },
  {
   "cell_type": "code",
   "execution_count": 101,
   "metadata": {},
   "outputs": [
    {
     "data": {
      "text/plain": [
       "match_api_id\n",
       "1989891    0.402207\n",
       "2030467    0.338871\n",
       "2030536    0.461078\n",
       "1989960    0.863636\n",
       "2060469    0.670921\n",
       "             ...   \n",
       "1988783    0.466907\n",
       "1988787    0.575211\n",
       "1988790    0.267026\n",
       "1988794    0.625115\n",
       "1988799    0.521768\n",
       "Name: B365H, Length: 1046, dtype: float64"
      ]
     },
     "execution_count": 101,
     "metadata": {},
     "output_type": "execute_result"
    }
   ],
   "source": [
    "b_te"
   ]
  },
  {
   "cell_type": "code",
   "execution_count": 122,
   "metadata": {},
   "outputs": [],
   "source": [
    "a = 0.3\n",
    "pred_tr_log = a * b_tr + (1-a) * clf_log.predict_proba(x_tr)[:,1]\n",
    "pred_cv_log = a * b_cv + (1-a) * clf_log.predict_proba(x_cv)[:,1]\n",
    "\n",
    "a = 0.3\n",
    "pred_tr_rf = a * b_tr + (1-a) * clf_rf.predict_proba(x_tr)[:,1]\n",
    "pred_cv_rf = a * b_cv + (1-a) * clf_rf.predict_proba(x_cv)[:,1]"
   ]
  },
  {
   "cell_type": "code",
   "execution_count": 123,
   "metadata": {},
   "outputs": [
    {
     "name": "stdout",
     "output_type": "stream",
     "text": [
      "0.6196670895056657\n",
      "0.6190025844139819\n",
      "0.5967842731359135\n",
      "0.618452673736341\n"
     ]
    }
   ],
   "source": [
    "print(log_loss(y_tr, pred_tr_log))\n",
    "print(log_loss(y_cv, pred_cv_log))\n",
    "print(log_loss(y_tr, pred_tr_rf))\n",
    "print(log_loss(y_cv, pred_cv_rf))"
   ]
  },
  {
   "cell_type": "code",
   "execution_count": 177,
   "metadata": {},
   "outputs": [
    {
     "data": {
      "text/plain": [
       "match_api_id\n",
       "1260188    0.562008\n",
       "674537     0.707714\n",
       "1989891    0.597793\n",
       "1474945    0.261146\n",
       "1506175    0.505973\n",
       "             ...   \n",
       "1709842    0.780312\n",
       "1223991    0.751067\n",
       "1239571    0.614186\n",
       "704398     0.458695\n",
       "1019336    0.358441\n",
       "Name: B365H, Length: 16673, dtype: float64"
      ]
     },
     "execution_count": 177,
     "metadata": {},
     "output_type": "execute_result"
    }
   ],
   "source": [
    "b_tr"
   ]
  },
  {
   "cell_type": "code",
   "execution_count": 263,
   "metadata": {},
   "outputs": [
    {
     "data": {
      "text/plain": [
       "0"
      ]
     },
     "execution_count": 263,
     "metadata": {},
     "output_type": "execute_result"
    }
   ],
   "source": [
    "np.sum(x_te.index - y_te.index)"
   ]
  },
  {
   "cell_type": "code",
   "execution_count": null,
   "metadata": {},
   "outputs": [],
   "source": []
  },
  {
   "cell_type": "code",
   "execution_count": null,
   "metadata": {},
   "outputs": [],
   "source": []
  }
 ],
 "metadata": {
  "kernelspec": {
   "display_name": "Python 3",
   "language": "python",
   "name": "python3"
  },
  "language_info": {
   "codemirror_mode": {
    "name": "ipython",
    "version": 3
   },
   "file_extension": ".py",
   "mimetype": "text/x-python",
   "name": "python",
   "nbconvert_exporter": "python",
   "pygments_lexer": "ipython3",
   "version": "3.8.2"
  }
 },
 "nbformat": 4,
 "nbformat_minor": 4
}
