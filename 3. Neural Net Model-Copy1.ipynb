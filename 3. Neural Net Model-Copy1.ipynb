{
 "cells": [
  {
   "cell_type": "code",
   "execution_count": 461,
   "metadata": {},
   "outputs": [
    {
     "name": "stdout",
     "output_type": "stream",
     "text": [
      "The autoreload extension is already loaded. To reload it, use:\n",
      "  %reload_ext autoreload\n"
     ]
    }
   ],
   "source": [
    "import pandas as pd\n",
    "import matplotlib.pyplot as plt\n",
    "import torch\n",
    "import torch.nn as nn\n",
    "import numpy as np\n",
    "from torch.utils.data import DataLoader\n",
    "from torch.optim import lr_scheduler\n",
    "import time\n",
    "import matplotlib.pyplot as plt\n",
    "import sklearn.preprocessing as preprocessing\n",
    "import sklearn.metrics\n",
    "from sklearn.model_selection import train_test_split\n",
    "import math\n",
    "from torch.utils.data import DataLoader, TensorDataset\n",
    "from torch import Tensor\n",
    "from sklearn.utils import resample\n",
    "from sklearn.metrics import log_loss\n",
    "from sklearn.model_selection import KFold\n",
    "from sklearn.ensemble import RandomForestClassifier\n",
    "from sklearn.metrics import roc_auc_score\n",
    "cross = nn.CrossEntropyLoss()\n",
    "\n",
    "%load_ext autoreload\n",
    "%autoreload 2\n",
    "from NNFunctions import *"
   ]
  },
  {
   "cell_type": "markdown",
   "metadata": {},
   "source": [
    "## Load Data"
   ]
  },
  {
   "cell_type": "code",
   "execution_count": 419,
   "metadata": {},
   "outputs": [
    {
     "data": {
      "text/plain": [
       "((8767, 53), (827, 53), (832, 53))"
      ]
     },
     "execution_count": 419,
     "metadata": {},
     "output_type": "execute_result"
    }
   ],
   "source": [
    "x_train = pd.read_csv('./Data with correct player_atts/x_train.csv')\n",
    "x_val = pd.read_csv('./Data with correct player_atts/x_val.csv')\n",
    "x_test = pd.read_csv('./Data with correct player_atts/x_test.csv')\n",
    "\n",
    "y_train = pd.read_csv('./Data with correct player_atts/y_train.csv')\n",
    "y_val = pd.read_csv('./Data with correct player_atts/y_val.csv')\n",
    "y_test = pd.read_csv('./Data with correct player_atts/y_test.csv')\n",
    "\n",
    "x_train.shape, x_val.shape, x_test.shape"
   ]
  },
  {
   "cell_type": "markdown",
   "metadata": {},
   "source": [
    "## Initialise Models"
   ]
  },
  {
   "cell_type": "code",
   "execution_count": 420,
   "metadata": {
    "jupyter": {
     "source_hidden": true
    }
   },
   "outputs": [],
   "source": [
    "class LinearNN():\n",
    "    def __init__(self, num_layers, sizes, activation_type, drop_out):\n",
    "        self.model = self.n_layer_net(num_layers, sizes, activation_type, drop_out)\n",
    "        self.activation_type = activation_type\n",
    "        self.drop_out_p = drop_out\n",
    "        self.num_layers = num_layers\n",
    "        self.activation_type = activation_type\n",
    "        \n",
    "    \n",
    "    def n_layer_net(self, num_layers, sizes, activation_type, drop_out):\n",
    "        assert len(sizes) == num_layers\n",
    "  \n",
    "        if num_layers ==4:\n",
    "            model = nn.Sequential(nn.Linear(input_size, sizes[0]), activation_type, nn.Dropout(p=drop_out), nn.BatchNorm1d(sizes[0]), nn.Linear(sizes[0], sizes[1]),\n",
    "                    activation_type, nn.Dropout(p=drop_out), nn.BatchNorm1d(sizes[1]), nn.Linear(sizes[1], sizes[2]), activation_type, nn.Dropout(p=drop_out), \n",
    "                    nn.BatchNorm1d(sizes[2]), nn.Linear(sizes[2], sizes[3]), activation_type, nn.Dropout(p=drop_out), nn.BatchNorm1d(sizes[3]), nn.Linear(sizes[3],\n",
    "                    output_size), nn.Softmax(dim = 1)\n",
    "                        )     \n",
    "        elif num_layers ==5:\n",
    "            model = nn.Sequential(nn.Linear(input_size, sizes[0]), activation_type, nn.Dropout(p=drop_out), nn.BatchNorm1d(sizes[0]), nn.Linear(sizes[0], sizes[1]),\n",
    "                    activation_type, nn.Dropout(p=drop_out), nn.BatchNorm1d(sizes[1]), nn.Linear(sizes[1], sizes[2]), activation_type, nn.Dropout(p=drop_out), \n",
    "                    nn.BatchNorm1d(sizes[2]), nn.Linear(sizes[2], sizes[3]), activation_type, nn.Dropout(p=drop_out), nn.BatchNorm1d(sizes[3]), nn.Linear(sizes[3],\n",
    "                    sizes[4]), activation_type, nn.Dropout(p=drop_out), nn.BatchNorm1d(sizes[4]), nn.Linear(sizes[4], output_size), nn.Softmax(dim = 1)\n",
    "                        )  \n",
    "        elif num_layers ==6:\n",
    "            model = nn.Sequential(nn.Linear(input_size, sizes[0]), activation_type, nn.Dropout(p=drop_out), nn.BatchNorm1d(sizes[0]), nn.Linear(sizes[0], sizes[1]),\n",
    "                    activation_type, nn.Dropout(p=drop_out), nn.BatchNorm1d(sizes[1]), nn.Linear(sizes[1], sizes[2]), activation_type, nn.Dropout(p=drop_out), \n",
    "                    nn.BatchNorm1d(sizes[2]), nn.Linear(sizes[2], sizes[3]), activation_type, nn.Dropout(p=drop_out), nn.BatchNorm1d(sizes[3]), nn.Linear(sizes[3],\n",
    "                    sizes[4]), activation_type, nn.Dropout(p=drop_out), nn.BatchNorm1d(sizes[4]), nn.Linear(sizes[4], sizes[5]), activation_type, \n",
    "                    nn.Dropout(p=drop_out), nn.BatchNorm1d(sizes[5]), nn.Linear(sizes[5], output_size), nn.Softmax(dim = 1)\n",
    "                        )\n",
    "        elif num_layers ==7:\n",
    "            model = nn.Sequential(nn.Linear(input_size, sizes[0]), activation_type, nn.Dropout(p=drop_out), nn.BatchNorm1d(sizes[0]), nn.Linear(sizes[0], sizes[1]),\n",
    "                    activation_type, nn.Dropout(p=drop_out), nn.BatchNorm1d(sizes[1]), nn.Linear(sizes[1], sizes[2]), activation_type, nn.Dropout(p=drop_out), \n",
    "                    nn.BatchNorm1d(sizes[2]), nn.Linear(sizes[2], sizes[3]), activation_type, nn.Dropout(p=drop_out), nn.BatchNorm1d(sizes[3]), nn.Linear(sizes[3],\n",
    "                    sizes[4]), activation_type, nn.Dropout(p=drop_out), nn.BatchNorm1d(sizes[4]), nn.Linear(sizes[4], sizes[5]), activation_type, \n",
    "                    nn.Dropout(p=drop_out), nn.BatchNorm1d(sizes[5]), nn.Linear(sizes[5], sizes[6]), activation_type, \n",
    "                    nn.Dropout(p=drop_out), nn.BatchNorm1d(sizes[6]),  nn.Linear(sizes[6], output_size), nn.Softmax(dim = 1)\n",
    "                        )\n",
    "        elif num_layers ==8:\n",
    "            model = nn.Sequential(nn.Linear(input_size, sizes[0]), activation_type, nn.Dropout(p=drop_out), nn.BatchNorm1d(sizes[0]), nn.Linear(sizes[0], sizes[1]),\n",
    "                    activation_type, nn.Dropout(p=drop_out), nn.BatchNorm1d(sizes[1]), nn.Linear(sizes[1], sizes[2]), activation_type, nn.Dropout(p=drop_out), \n",
    "                    nn.BatchNorm1d(sizes[2]), nn.Linear(sizes[2], sizes[3]), activation_type, nn.Dropout(p=drop_out), nn.BatchNorm1d(sizes[3]), nn.Linear(sizes[3],\n",
    "                    sizes[4]), activation_type, nn.Dropout(p=drop_out), nn.BatchNorm1d(sizes[4]), nn.Linear(sizes[4], sizes[5]), activation_type, \n",
    "                    nn.Dropout(p=drop_out), nn.BatchNorm1d(sizes[5]), nn.Linear(sizes[5], sizes[6]), activation_type, \n",
    "                    nn.Dropout(p=drop_out), nn.BatchNorm1d(sizes[6]),nn.Linear(sizes[6], sizes[7]), activation_type, \n",
    "                    nn.Dropout(p=drop_out), nn.BatchNorm1d(sizes[7]),  nn.Linear(sizes[7], output_size), nn.Softmax(dim = 1)\n",
    "                        )\n",
    "        elif num_layers ==9:\n",
    "            model = nn.Sequential(nn.Linear(input_size, sizes[0]), activation_type, nn.Dropout(p=drop_out), nn.BatchNorm1d(sizes[0]), nn.Linear(sizes[0], sizes[1]),\n",
    "                    activation_type, nn.Dropout(p=drop_out), nn.BatchNorm1d(sizes[1]), nn.Linear(sizes[1], sizes[2]), activation_type, nn.Dropout(p=drop_out), \n",
    "                    nn.BatchNorm1d(sizes[2]), nn.Linear(sizes[2], sizes[3]), activation_type, nn.Dropout(p=drop_out), nn.BatchNorm1d(sizes[3]), nn.Linear(sizes[3],\n",
    "                    sizes[4]), activation_type, nn.Dropout(p=drop_out), nn.BatchNorm1d(sizes[4]), nn.Linear(sizes[4], sizes[5]), activation_type, \n",
    "                    nn.Dropout(p=drop_out), nn.BatchNorm1d(sizes[5]), nn.Linear(sizes[5], sizes[6]), activation_type, \n",
    "                    nn.Dropout(p=drop_out), nn.BatchNorm1d(sizes[6]),nn.Linear(sizes[6], sizes[7]), activation_type, \n",
    "                    nn.Dropout(p=drop_out), nn.BatchNorm1d(sizes[7]),nn.Linear(sizes[7], sizes[8]), activation_type, \n",
    "                    nn.Dropout(p=drop_out), nn.BatchNorm1d(sizes[8]),  nn.Linear(sizes[8], output_size), nn.Softmax(dim = 1)\n",
    "                        )\n",
    "        elif num_layers ==10:\n",
    "            model = nn.Sequential(nn.Linear(input_size, sizes[0]), activation_type, nn.Dropout(p=drop_out), nn.BatchNorm1d(sizes[0]), nn.Linear(sizes[0], sizes[1]),\n",
    "                    activation_type, nn.Dropout(p=drop_out), nn.BatchNorm1d(sizes[1]), nn.Linear(sizes[1], sizes[2]), activation_type, nn.Dropout(p=drop_out), \n",
    "                    nn.BatchNorm1d(sizes[2]), nn.Linear(sizes[2], sizes[3]), activation_type, nn.Dropout(p=drop_out), nn.BatchNorm1d(sizes[3]), nn.Linear(sizes[3],\n",
    "                    sizes[4]), activation_type, nn.Dropout(p=drop_out), nn.BatchNorm1d(sizes[4]), nn.Linear(sizes[4], sizes[5]), activation_type, \n",
    "                    nn.Dropout(p=drop_out), nn.BatchNorm1d(sizes[5]), nn.Linear(sizes[5], sizes[6]), activation_type, \n",
    "                    nn.Dropout(p=drop_out), nn.BatchNorm1d(sizes[6]),nn.Linear(sizes[6], sizes[7]), activation_type, \n",
    "                    nn.Dropout(p=drop_out), nn.BatchNorm1d(sizes[7]),nn.Linear(sizes[7], sizes[8]), activation_type, \n",
    "                    nn.Dropout(p=drop_out), nn.BatchNorm1d(sizes[8]),nn.Linear(sizes[8], sizes[9]), activation_type, \n",
    "                    nn.Dropout(p=drop_out), nn.BatchNorm1d(sizes[9]),  nn.Linear(sizes[9], output_size), nn.Softmax(dim = 1)\n",
    "                        )\n",
    "        else:\n",
    "            print('Invalid num_layers: choose between 4 and 10')\n",
    "        return model"
   ]
  },
  {
   "cell_type": "code",
   "execution_count": 421,
   "metadata": {},
   "outputs": [],
   "source": [
    "input_size = len(x_train.drop(columns ='match_api_id').columns)\n",
    "output_size = 3\n",
    "\n",
    "model_dict = {\n",
    "\n",
    "'model4': LinearNN(5, [128,256,128,32,16], nn.ReLU(), 0.5),\n",
    "'model5': LinearNN(5, [128,512,256,128,32], nn.ReLU(), 0.5),\n",
    "'model6': LinearNN(5, [64,512,256,128,32], nn.ReLU(), 0),\n",
    "'model7': LinearNN(6, [128,256,256,128,32,16], nn.ReLU(), 0.5),\n",
    "'model8': LinearNN(6, [64,256,256,128,64,32], nn.ReLU(), 0),\n",
    "'model9': LinearNN(6, [256,512,512,128,32,16], nn.ReLU(), 0.5),\n",
    "'model10': LinearNN(7, [64,256,256,128,32,16,8], nn.ReLU(), 0.5),\n",
    "'model11': LinearNN(7, [128,256,256,128,32,16,8], nn.ReLU(), 0),\n",
    "'model12': LinearNN(7, [256,512,128,64,32,16,8], nn.ReLU(), 0.5),\n",
    "'model13': LinearNN(8, [64,128,256,128,64,32,16,8], nn.ReLU(), 0.5),\n",
    "'model14': LinearNN(8, [128,256,256,128,64,32,16,8], nn.ReLU(), 0.5),\n",
    "'model15': LinearNN(8, [256,512,512,128,32,16,8,8], nn.ReLU(), 0.5),\n",
    "'model13': LinearNN(9, [64,128,256,256,128,64,32,16,8], nn.ReLU(), 0.5),\n",
    "'model14': LinearNN(9, [128,256,256,128,128,64,32,16,8], nn.ReLU(), 0.5),\n",
    "'model15': LinearNN(9, [256,512,512,256,128,32,16,8,8], nn.ReLU(), 0.5),\n",
    "'model13': LinearNN(10, [64,128,256,256,256,128,64,32,16,8], nn.ReLU(), 0.5),\n",
    "'model14': LinearNN(10, [128,256,256,512,256,128,64,32,16,8], nn.ReLU(), 0.5),\n",
    "'model15': LinearNN(10, [256,512,512,256,256,128,32,16,8,8], nn.ReLU(), 0.5),\n",
    "}"
   ]
  },
  {
   "cell_type": "markdown",
   "metadata": {},
   "source": [
    "## Train Models"
   ]
  },
  {
   "cell_type": "code",
   "execution_count": 503,
   "metadata": {},
   "outputs": [],
   "source": [
    "def train(model, X_train, Y_train, X_val, Y_val, epochs, batch_size, learning_rate):\n",
    "    StandardScaler = preprocessing.StandardScaler().fit(X_train.iloc[:,1:])\n",
    "    X_train = pd.DataFrame(StandardScaler.transform(X_train.iloc[:,1:]), index = X_train['match_api_id'], columns = X_train.iloc[:,1:].columns)\n",
    "    X_val = pd.DataFrame(StandardScaler.transform(X_val.iloc[:,1:]), index = X_val['match_api_id'], columns = X_val.iloc[:,1:].columns)\n",
    "    \n",
    "    loss, counter = 0, 0\n",
    "    losses_train, losses_val = [], []\n",
    "\n",
    "    dataset = TensorDataset(Tensor(X_train.values), torch.Tensor(Y_train['target'].values))\n",
    "    train_loader = DataLoader(dataset, batch_size = batch_size, shuffle=False)\n",
    "    optimizer = torch.optim.Adam(model.parameters(), lr=learning_rate, betas=(0.9,0.999), weight_decay=0.1)\n",
    "    scheduler = torch.optim.lr_scheduler.StepLR(optimizer, step_size= 25 , gamma = 0.1)\n",
    "    \n",
    "    #Train Model\n",
    "    t = time.time()\n",
    "    for epoch in range(epochs):\n",
    "        for x, y in iter(train_loader):\n",
    "            model.train()\n",
    "            model.zero_grad()\n",
    "            \n",
    "            #forward\n",
    "            y_pred = model(x)\n",
    "            loss = cross(y_pred, y.long())\n",
    " \n",
    "            #backward + update\n",
    "            loss.backward()\n",
    "            optimizer.step()\n",
    "            \n",
    "            #store errors\n",
    "            with torch.no_grad():\n",
    "                y_train_pred = model(Tensor(X_train.values))\n",
    "                y_val_pred = model(Tensor(X_val.values))\n",
    "                \n",
    "                loss_train = cross(y_train_pred, Tensor(Y_train['target'].values).long())\n",
    "                loss_val = cross(y_val_pred, Tensor(Y_val['target'].values).long())\n",
    "                \n",
    "                losses_train.append(loss_train.item())\n",
    "                losses_val.append(loss_val.item())\n",
    "                \n",
    "                \n",
    "            #if counter % 100 ==0:\n",
    "                #print('Loss after iteration {}: {}'.format(counter, loss_train.item()))\n",
    "                \n",
    "            counter+=1 \n",
    "        scheduler.step()\n",
    "    time.time()-t        \n",
    "    \n",
    "    ##Returns train/val accuracy/losses, the losses during the training for plotting, the prediction probabilities to be used for ensemble stuff\n",
    "    return list(evaluate(model, X_train, Y_train)) + list(evaluate(model, X_val, Y_val)), (losses_train, losses_val), (y_train_pred,y_val_pred) \n",
    "\n",
    "def evaluate(model, x, y):\n",
    "    model.eval()\n",
    "    with torch.no_grad():\n",
    "        pred = model(Tensor(x.values))\n",
    "    global pred_results \n",
    "    pred_results = pd.Series(pred.max(1).indices)\n",
    "\n",
    "    return sklearn.metrics.accuracy_score(pred_results, y['target']), log_loss(y['target'], pred) "
   ]
  },
  {
   "cell_type": "code",
   "execution_count": 311,
   "metadata": {},
   "outputs": [],
   "source": [
    "input_size = len(x_train.drop(columns ='match_api_id').columns)\n",
    "output_size = 3\n",
    "\n",
    "model_dict = {\n",
    "\n",
    "'model4': LinearNN(5, [128,256,128,32,16], nn.ReLU(), 0.5),\n",
    "'model5': LinearNN(5, [128,512,256,128,32], nn.ReLU(), 0.5)}\n"
   ]
  },
  {
   "cell_type": "code",
   "execution_count": 498,
   "metadata": {
    "jupyter": {
     "source_hidden": true
    }
   },
   "outputs": [
    {
     "name": "stdout",
     "output_type": "stream",
     "text": [
      "model5\n",
      "model6\n",
      "model7\n",
      "model8\n"
     ]
    },
    {
     "data": {
      "text/html": [
       "<div>\n",
       "<style scoped>\n",
       "    .dataframe tbody tr th:only-of-type {\n",
       "        vertical-align: middle;\n",
       "    }\n",
       "\n",
       "    .dataframe tbody tr th {\n",
       "        vertical-align: top;\n",
       "    }\n",
       "\n",
       "    .dataframe thead th {\n",
       "        text-align: right;\n",
       "    }\n",
       "</style>\n",
       "<table border=\"1\" class=\"dataframe\">\n",
       "  <thead>\n",
       "    <tr style=\"text-align: right;\">\n",
       "      <th></th>\n",
       "      <th>t_acc</th>\n",
       "      <th>t_loss</th>\n",
       "      <th>v_acc</th>\n",
       "      <th>v_loss</th>\n",
       "    </tr>\n",
       "  </thead>\n",
       "  <tbody>\n",
       "    <tr>\n",
       "      <th>model5</th>\n",
       "      <td>0.456257</td>\n",
       "      <td>1.065620</td>\n",
       "      <td>0.456257</td>\n",
       "      <td>1.065783</td>\n",
       "    </tr>\n",
       "    <tr>\n",
       "      <th>model6</th>\n",
       "      <td>0.456257</td>\n",
       "      <td>1.057019</td>\n",
       "      <td>0.456257</td>\n",
       "      <td>1.056987</td>\n",
       "    </tr>\n",
       "    <tr>\n",
       "      <th>model7</th>\n",
       "      <td>0.456257</td>\n",
       "      <td>1.065936</td>\n",
       "      <td>0.456257</td>\n",
       "      <td>1.066012</td>\n",
       "    </tr>\n",
       "    <tr>\n",
       "      <th>model8</th>\n",
       "      <td>0.456257</td>\n",
       "      <td>1.067201</td>\n",
       "      <td>0.456257</td>\n",
       "      <td>1.067443</td>\n",
       "    </tr>\n",
       "  </tbody>\n",
       "</table>\n",
       "</div>"
      ],
      "text/plain": [
       "           t_acc    t_loss     v_acc    v_loss\n",
       "model5  0.456257  1.065620  0.456257  1.065783\n",
       "model6  0.456257  1.057019  0.456257  1.056987\n",
       "model7  0.456257  1.065936  0.456257  1.066012\n",
       "model8  0.456257  1.067201  0.456257  1.067443"
      ]
     },
     "execution_count": 498,
     "metadata": {},
     "output_type": "execute_result"
    }
   ],
   "source": [
    "splits = 3\n",
    "kf = KFold(n_splits=splits, random_state=1, shuffle=True)\n",
    "\n",
    "results = pd.DataFrame(data = 0, index = model_dict.keys(), columns = ['t_acc', 't_loss', 'v_acc', 'v_loss'])\n",
    "#x_ens = pd.DataFrame(data =  0, index = x_train.index, columns = [])\n",
    "#train_ens_dict = {}\n",
    "\n",
    "big_losses_list = [] ##for plotting losses\n",
    "\n",
    "\n",
    "for model_name in model_dict:\n",
    "    \n",
    "    model = model_dict[model_name].model\n",
    "    #x_train_ens = pd.DataFrame(data = 0, index = x_train.index, columns = ['{}_0'.format(model_name), '{}_1'.format(model_name), '{}_2'.format(model_name)])\n",
    "\n",
    "    print(model_name)\n",
    "    \n",
    "    for train_index, val_index in kf.split(x_train):    \n",
    "        \n",
    "        X_train, X_val = x_train[x_train.index.isin(train_index)], x_train[x_train.index.isin(val_index)]\n",
    "        Y_train, Y_val = y_train[y_train.index.isin(train_index)], y_train[y_train.index.isin(val_index)]\n",
    "        \n",
    "        results_list, losses, all_pred = train(model, X_train, Y_train, X_val, Y_val,  5, len(X_train), 0.01)\n",
    "        \n",
    "        results.loc[model_name, :] = results.loc[model_name, :].add(results_list)\n",
    "        big_losses_list.append(losses)\n",
    "        #x_train_ens.loc[x_train_ens.index.isin(train_index), :] += (np.array(all_pred[0]))\n",
    "        #x_train_ens.loc[x_train_ens.index.isin(val_index), :] += (np.array(all_pred[1]))\n",
    "        \n",
    "    #train_ens_dict[model_name] = x_train_ens/splits\n",
    "    #x_ens = pd.concat([x_ens, train_ens_dict[model_name]], axis = 1)\n",
    "    \n",
    "results /= splits\n",
    "results"
   ]
  },
  {
   "cell_type": "code",
   "execution_count": 517,
   "metadata": {},
   "outputs": [
    {
     "name": "stdout",
     "output_type": "stream",
     "text": [
      "model5\n",
      "model6\n",
      "model7\n",
      "model8\n"
     ]
    }
   ],
   "source": [
    "results, big_losses_list = train_many(model_dict, x_train, y_train, batch_size = len(x_train), splits = 1, epochs = 1, learning_rate = 0.01)"
   ]
  },
  {
   "cell_type": "code",
   "execution_count": 516,
   "metadata": {},
   "outputs": [
    {
     "data": {
      "text/html": [
       "<div>\n",
       "<style scoped>\n",
       "    .dataframe tbody tr th:only-of-type {\n",
       "        vertical-align: middle;\n",
       "    }\n",
       "\n",
       "    .dataframe tbody tr th {\n",
       "        vertical-align: top;\n",
       "    }\n",
       "\n",
       "    .dataframe thead th {\n",
       "        text-align: right;\n",
       "    }\n",
       "</style>\n",
       "<table border=\"1\" class=\"dataframe\">\n",
       "  <thead>\n",
       "    <tr style=\"text-align: right;\">\n",
       "      <th></th>\n",
       "      <th>t_acc</th>\n",
       "      <th>t_loss</th>\n",
       "      <th>v_acc</th>\n",
       "      <th>v_loss</th>\n",
       "    </tr>\n",
       "  </thead>\n",
       "  <tbody>\n",
       "    <tr>\n",
       "      <th>model5</th>\n",
       "      <td>0.456449</td>\n",
       "      <td>1.065990</td>\n",
       "      <td>0.456449</td>\n",
       "      <td>1.065990</td>\n",
       "    </tr>\n",
       "    <tr>\n",
       "      <th>model6</th>\n",
       "      <td>0.456449</td>\n",
       "      <td>1.067298</td>\n",
       "      <td>0.456449</td>\n",
       "      <td>1.067298</td>\n",
       "    </tr>\n",
       "    <tr>\n",
       "      <th>model7</th>\n",
       "      <td>0.456449</td>\n",
       "      <td>1.066038</td>\n",
       "      <td>0.456449</td>\n",
       "      <td>1.066038</td>\n",
       "    </tr>\n",
       "    <tr>\n",
       "      <th>model8</th>\n",
       "      <td>0.456449</td>\n",
       "      <td>1.066064</td>\n",
       "      <td>0.456449</td>\n",
       "      <td>1.066064</td>\n",
       "    </tr>\n",
       "  </tbody>\n",
       "</table>\n",
       "</div>"
      ],
      "text/plain": [
       "           t_acc    t_loss     v_acc    v_loss\n",
       "model5  0.456449  1.065990  0.456449  1.065990\n",
       "model6  0.456449  1.067298  0.456449  1.067298\n",
       "model7  0.456449  1.066038  0.456449  1.066038\n",
       "model8  0.456449  1.066064  0.456449  1.066064"
      ]
     },
     "execution_count": 516,
     "metadata": {},
     "output_type": "execute_result"
    }
   ],
   "source": [
    "results"
   ]
  },
  {
   "cell_type": "code",
   "execution_count": 478,
   "metadata": {},
   "outputs": [],
   "source": [
    "\n",
    "model_dict = {\n",
    "\n",
    "'model1': LinearNN(5, [128,256,128,32,16], nn.Tanh(), 0.5),\n",
    "'model2': LinearNN(5, [128,512,256,128,32], nn.Tanh(), 0.5),\n",
    "'model3': LinearNN(6, [128,256,256,128,32,16], nn.Tanh(), 0.5),\n",
    "'model4': LinearNN(6, [64,256,256,128,64,32], nn.Tanh(), 0),\n",
    "'model5': LinearNN(7, [64,256,256,128,32,16,8], nn.Tanh(), 0.5),\n",
    "'model6': LinearNN(7, [128,256,256,128,32,16,8], nn.Tanh(), 0.5),\n",
    "'model7': LinearNN(8, [64,128,256,128,64,32,16,8], nn.Tanh(), 0.5),\n",
    "'model8': LinearNN(8, [128,256,256,128,64,32,16,8], nn.Tanh(), 0.5),\n",
    "'model9': LinearNN(9, [64,128,256,256,128,64,32,16,8], nn.Tanh(), 0.5),\n",
    "'model10': LinearNN(9, [128,256,256,128,128,64,32,16,8], nn.Tanh(), 0.5),\n",
    "'model11': LinearNN(10, [64,128,256,256,256,128,64,32,16,8], nn.Tanh(), 0.5),\n",
    "'model12': LinearNN(10, [128,256,256,512,256,128,64,32,16,8], nn.ReLU(), 0.5),\n",
    "}"
   ]
  },
  {
   "cell_type": "code",
   "execution_count": 496,
   "metadata": {},
   "outputs": [],
   "source": [
    "del model_dict['model9'], model_dict['model11'], model_dict['model12']"
   ]
  },
  {
   "cell_type": "code",
   "execution_count": 492,
   "metadata": {},
   "outputs": [],
   "source": [
    "del model_dict['model10']"
   ]
  },
  {
   "cell_type": "code",
   "execution_count": 485,
   "metadata": {},
   "outputs": [],
   "source": [
    "model_dict['model6'] =  LinearNN(7, [128,256,256,128,32,16,8], nn.ReLU(), 0.4)"
   ]
  },
  {
   "cell_type": "code",
   "execution_count": 495,
   "metadata": {},
   "outputs": [
    {
     "data": {
      "text/plain": [
       "{'model5': <__main__.LinearNN at 0x1da12442828>,\n",
       " 'model6': <__main__.LinearNN at 0x1da14041dd8>,\n",
       " 'model7': <__main__.LinearNN at 0x1da007a90f0>,\n",
       " 'model8': <__main__.LinearNN at 0x1da0f77a2b0>,\n",
       " 'model9': <__main__.LinearNN at 0x1da0f7da5f8>,\n",
       " 'model11': <__main__.LinearNN at 0x1da0f805518>,\n",
       " 'model12': <__main__.LinearNN at 0x1da0f81f630>}"
      ]
     },
     "execution_count": 495,
     "metadata": {},
     "output_type": "execute_result"
    }
   ],
   "source": [
    "model_dict"
   ]
  },
  {
   "cell_type": "code",
   "execution_count": 499,
   "metadata": {},
   "outputs": [
    {
     "data": {
      "image/png": "[encoded data removed]",
      "text/plain": [
       "<Figure size 864x576 with 12 Axes>"
      ]
     },
     "metadata": {
      "needs_background": "light"
     },
     "output_type": "display_data"
    }
   ],
   "source": [
    "plot_losses(big_losses_list, model_dict, splits)"
   ]
  },
  {
   "cell_type": "code",
   "execution_count": 472,
   "metadata": {},
   "outputs": [
    {
     "data": {
      "text/plain": [
       "RandomForestClassifier(max_depth=2, random_state=0)"
      ]
     },
     "execution_count": 472,
     "metadata": {},
     "output_type": "execute_result"
    }
   ],
   "source": [
    "## Ensemble learning\n",
    "scaler = preprocessing.StandardScaler().fit(x_train.iloc[:,1:])\n",
    "x_ens = get_ens_df(x_train, scaler, model_dict)\n",
    "x_ens_val = get_ens_df(x_val, scaler, model_dict)\n",
    "\n",
    "RF_clf = RandomForestClassifier(max_depth=2, random_state=0)\n",
    "RF_clf.fit(x_ens, y_train['target'])\n"
   ]
  },
  {
   "cell_type": "code",
   "execution_count": 474,
   "metadata": {},
   "outputs": [
    {
     "name": "stdout",
     "output_type": "stream",
     "text": [
      "Train Accuracy: 0.5301699555149995\n",
      "Val Accuracy: 0.5199516324062878\n",
      "Train log loss: 0.9830946016609288\n",
      "Val log loss: 0.9974619016570601\n"
     ]
    }
   ],
   "source": [
    "print('Train Accuracy: {}'.format(RF_clf.score(x_ens, y_train['target'])))\n",
    "print('Val Accuracy: {}'.format(RF_clf.score(x_ens_val, y_val['target'])))\n",
    "print('Train log loss: {}'.format(log_loss(y_train['target'], RF_clf.predict_proba(x_ens))))\n",
    "print('Val log loss: {}'.format(log_loss(y_val['target'], RF_clf.predict_proba(x_ens_val))))"
   ]
  },
  {
   "cell_type": "code",
   "execution_count": null,
   "metadata": {},
   "outputs": [],
   "source": []
  },
  {
   "cell_type": "code",
   "execution_count": null,
   "metadata": {},
   "outputs": [],
   "source": []
  },
  {
   "cell_type": "code",
   "execution_count": null,
   "metadata": {},
   "outputs": [],
   "source": []
  }
 ],
 "metadata": {
  "kernelspec": {
   "display_name": "Python 3",
   "language": "python",
   "name": "python3"
  },
  "language_info": {
   "codemirror_mode": {
    "name": "ipython",
    "version": 3
   },
   "file_extension": ".py",
   "mimetype": "text/x-python",
   "name": "python",
   "nbconvert_exporter": "python",
   "pygments_lexer": "ipython3",
   "version": "3.7.3"
  }
 },
 "nbformat": 4,
 "nbformat_minor": 4
}
