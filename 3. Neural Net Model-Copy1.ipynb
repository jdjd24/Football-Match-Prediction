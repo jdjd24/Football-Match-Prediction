{
 "cells": [
  {
   "cell_type": "code",
   "execution_count": 1,
   "metadata": {},
   "outputs": [],
   "source": [
    "import pandas as pd\n",
    "import matplotlib.pyplot as plt\n",
    "import torch\n",
    "import torch.nn as nn\n",
    "import numpy as np\n",
    "from torch.utils.data import DataLoader\n",
    "from torch.optim import lr_scheduler\n",
    "import time\n",
    "import matplotlib.pyplot as plt\n",
    "import sklearn.preprocessing as preprocessing\n",
    "import sklearn.metrics\n",
    "from sklearn.model_selection import train_test_split\n",
    "import math\n",
    "from torch.utils.data import DataLoader, TensorDataset\n",
    "from torch import Tensor\n",
    "from sklearn.utils import resample"
   ]
  },
  {
   "cell_type": "code",
   "execution_count": 2,
   "metadata": {},
   "outputs": [],
   "source": [
    "x_full = pd.read_csv('x_full.csv')\n",
    "y_full = pd.read_csv('./Data with correct player_atts/y_full.csv')\n",
    "match = pd.read_csv('./Data/Match.csv')"
   ]
  },
  {
   "cell_type": "code",
   "execution_count": 3,
   "metadata": {},
   "outputs": [],
   "source": [
    "x_full = x_full.merge(match[['match_api_id','league_id', 'date']], how = 'left', on ='match_api_id')\n",
    "y_full = y_full.merge(match[['match_api_id','league_id', 'date']], how = 'left', on = 'match_api_id')\n",
    "\n",
    "assert (x_full.match_api_id == y_full.match_api_id).sum() == len(x_full)"
   ]
  },
  {
   "cell_type": "markdown",
   "metadata": {},
   "source": [
    "## Data Processing"
   ]
  },
  {
   "cell_type": "code",
   "execution_count": 4,
   "metadata": {},
   "outputs": [],
   "source": [
    "label_dict = {1:0, 0:1, -1:1 }\n",
    "y_full.loc[:,'target'] = y_full['result'].map(label_dict)"
   ]
  },
  {
   "cell_type": "code",
   "execution_count": 5,
   "metadata": {},
   "outputs": [
    {
     "data": {
      "text/plain": [
       "(6876, 35)"
      ]
     },
     "execution_count": 5,
     "metadata": {},
     "output_type": "execute_result"
    }
   ],
   "source": [
    "x_pl = x_full[x_full['league_id'].isin([1729,21518,7809,10257,4769])].drop(columns ='league_id')\n",
    "y_pl = y_full[y_full['league_id'].isin([1729,21518,7809,10257,4769])].drop(columns ='league_id')\n",
    "x_pl = x_pl[x_pl['date'] > '2010-08-01'].drop(columns ='date')\n",
    "y_pl = y_pl[y_pl['date'] > '2010-08-01'].drop(columns ='date')\n",
    "\n",
    "x_train, x_test, y_train, y_test = train_test_split(x_pl,y_pl, test_size = 0.1)\n",
    "x_train, x_val, y_train, y_val = train_test_split(x_train,y_train, test_size = 0.12)\n",
    "\n",
    "x_train.shape"
   ]
  },
  {
   "cell_type": "code",
   "execution_count": 6,
   "metadata": {},
   "outputs": [],
   "source": [
    "## creating different training set for ensemble learning\n",
    "\n",
    "x1, y1 = resample(x_train, y_train, random_state=0)\n",
    "x2, y2 = resample(x_train, y_train, random_state=1)\n",
    "x3, y3 = resample(x_train, y_train, random_state=2)"
   ]
  },
  {
   "cell_type": "code",
   "execution_count": 8,
   "metadata": {},
   "outputs": [
    {
     "data": {
      "text/plain": [
       " 1    0.460297\n",
       "-1    0.284322\n",
       " 0    0.255381\n",
       "Name: result, dtype: float64"
      ]
     },
     "execution_count": 8,
     "metadata": {},
     "output_type": "execute_result"
    }
   ],
   "source": [
    "#check distribution of classes\n",
    "y_train['result'].value_counts(normalize=True)"
   ]
  },
  {
   "cell_type": "markdown",
   "metadata": {},
   "source": [
    "## Training"
   ]
  },
  {
   "cell_type": "code",
   "execution_count": 9,
   "metadata": {},
   "outputs": [],
   "source": [
    "# Build Network\n",
    "input_size = len(x_train.drop(columns ='match_api_id').columns)\n",
    "hidden_sizes = [128,256,256,128,32,16]\n",
    "output_size = 2\n",
    "prob = 0.5\n",
    "# Build a feed-forward network\n",
    "LinearNN1 = nn.Sequential(nn.Linear(input_size, hidden_sizes[0]),\n",
    "                      nn.ReLU(),\n",
    "                          nn.Dropout(p=prob),\n",
    "                         nn.BatchNorm1d(hidden_sizes[0]),\n",
    "                      nn.Linear(hidden_sizes[0], hidden_sizes[1]),\n",
    "                      nn.ReLU(),\n",
    "                          nn.Dropout(p=prob),\n",
    "                         nn.BatchNorm1d(hidden_sizes[1]),\n",
    "                      nn.Linear(hidden_sizes[1], hidden_sizes[2]),\n",
    "                        nn.ReLU(),\n",
    "                          nn.Dropout(p=prob),\n",
    "                         nn.BatchNorm1d(hidden_sizes[2]),\n",
    "                        nn.Linear(hidden_sizes[2], hidden_sizes[3]),\n",
    "                        nn.ReLU(),\n",
    "                          nn.Dropout(p=prob),\n",
    "                         nn.BatchNorm1d(hidden_sizes[3]),\n",
    "                        nn.Linear(hidden_sizes[3], hidden_sizes[4]),\n",
    "                        nn.ReLU(),\n",
    "                         nn.Dropout(p=prob),\n",
    "                         nn.BatchNorm1d(hidden_sizes[4]),\n",
    "                         nn.Linear(hidden_sizes[4], output_size),\n",
    "                      nn.Softmax(dim = 1)\n",
    "                        )\n",
    "\n"
   ]
  },
  {
   "cell_type": "code",
   "execution_count": 753,
   "metadata": {},
   "outputs": [],
   "source": [
    "# Build Network\n",
    "input_size = len(x_train.drop(columns ='match_api_id').columns)\n",
    "hidden_sizes = [256,512,256,128,32,16]\n",
    "output_size = 3\n",
    "prob = 0.6\n",
    "# Build a feed-forward network\n",
    "LinearNN2 = nn.Sequential(nn.Linear(input_size, hidden_sizes[0]),\n",
    "                      nn.ReLU(),\n",
    "                          nn.Dropout(p=prob),\n",
    "                         nn.BatchNorm1d(hidden_sizes[0]),\n",
    "                      nn.Linear(hidden_sizes[0], hidden_sizes[1]),\n",
    "                      nn.ReLU(),\n",
    "                          nn.Dropout(p=prob),\n",
    "                         nn.BatchNorm1d(hidden_sizes[1]),\n",
    "                      nn.Linear(hidden_sizes[1], hidden_sizes[2]),\n",
    "                        nn.ReLU(),\n",
    "                          nn.Dropout(p=prob),\n",
    "                         nn.BatchNorm1d(hidden_sizes[2]),\n",
    "                        nn.Linear(hidden_sizes[2], hidden_sizes[3]),\n",
    "                        nn.ReLU(),\n",
    "                          nn.Dropout(p=prob),\n",
    "                         nn.BatchNorm1d(hidden_sizes[3]),\n",
    "                        nn.Linear(hidden_sizes[3], hidden_sizes[4]),\n",
    "                        nn.ReLU(),\n",
    "                         nn.Dropout(p=prob),\n",
    "                         nn.BatchNorm1d(hidden_sizes[4]),\n",
    "                        nn.Linear(hidden_sizes[4], hidden_sizes[5]),\n",
    "                        nn.ReLU(),\n",
    "                         nn.Dropout(p=prob),\n",
    "                         nn.BatchNorm1d(hidden_sizes[5]),\n",
    "                         nn.Linear(hidden_sizes[5], output_size),\n",
    "                      nn.Softmax(dim = 1)\n",
    "                        )\n",
    "\n"
   ]
  },
  {
   "cell_type": "code",
   "execution_count": 763,
   "metadata": {},
   "outputs": [],
   "source": [
    "# Build Network\n",
    "input_size = len(x_train.drop(columns ='match_api_id').columns)\n",
    "hidden_sizes = [512,256,128,64,32,16,8]\n",
    "output_size = 3\n",
    "prob = 0.6\n",
    "# Build a feed-forward network\n",
    "LinearNN3 = nn.Sequential(nn.Linear(input_size, hidden_sizes[0]),\n",
    "                      nn.Tanh(),\n",
    "                          nn.Dropout(p=prob),\n",
    "                         nn.BatchNorm1d(hidden_sizes[0]),\n",
    "                      nn.Linear(hidden_sizes[0], hidden_sizes[1]),\n",
    "                      nn.Tanh(),\n",
    "                          nn.Dropout(p=prob),\n",
    "                         nn.BatchNorm1d(hidden_sizes[1]),\n",
    "                      nn.Linear(hidden_sizes[1], hidden_sizes[2]),\n",
    "                        nn.Tanh(),\n",
    "                          nn.Dropout(p=prob),\n",
    "                         nn.BatchNorm1d(hidden_sizes[2]),\n",
    "                        nn.Linear(hidden_sizes[2], hidden_sizes[3]),\n",
    "                        nn.Tanh(),\n",
    "                          nn.Dropout(p=prob),\n",
    "                         nn.BatchNorm1d(hidden_sizes[3]),\n",
    "                        nn.Linear(hidden_sizes[3], hidden_sizes[4]),\n",
    "                        nn.ReLU(),\n",
    "                         nn.Dropout(p=prob),\n",
    "                         nn.BatchNorm1d(hidden_sizes[4]),\n",
    "                        nn.Linear(hidden_sizes[4], hidden_sizes[5]),\n",
    "                        nn.ReLU(),\n",
    "                         nn.Dropout(p=prob),\n",
    "                         nn.BatchNorm1d(hidden_sizes[5]),\n",
    "                            nn.Linear(hidden_sizes[5], hidden_sizes[6]),\n",
    "                        nn.ReLU(),\n",
    "                         nn.Dropout(p=prob),\n",
    "                         nn.BatchNorm1d(hidden_sizes[6]),\n",
    "                         nn.Linear(hidden_sizes[6], output_size),\n",
    "                      nn.Softmax(dim = 1)\n",
    "                        )\n",
    "\n"
   ]
  },
  {
   "cell_type": "code",
   "execution_count": 19,
   "metadata": {},
   "outputs": [],
   "source": [
    "# Hyperparameters\n",
    "\n",
    "batch_size = 512 #len(x_train)\n",
    "epochs = 20\n",
    "learning_rate = 0.001\n",
    "loss = 0\n",
    "losses = []\n",
    "losses_val = []\n",
    "counter = 0\n",
    "\n",
    "\n",
    "dataset = TensorDataset( Tensor(x_train.values), torch.Tensor(y_train['target'].values) )\n",
    "train_loader = DataLoader(dataset, batch_size = batch_size, shuffle=False)\n",
    "\n",
    "optimizer = torch.optim.Adam(LinearNN1.parameters(), lr=learning_rate, betas=(0.9,0.999))\n",
    "\n",
    "scheduler = torch.optim.lr_scheduler.StepLR(optimizer, step_size= 60 , gamma = 0.1)\n",
    "mse = torch.nn.MSELoss()\n",
    "cross = nn.CrossEntropyLoss()"
   ]
  },
  {
   "cell_type": "code",
   "execution_count": 22,
   "metadata": {},
   "outputs": [
    {
     "ename": "RuntimeError",
     "evalue": "size mismatch, m1: [512 x 35], m2: [34 x 128] at C:\\w\\1\\s\\tmp_conda_3.7_055457\\conda\\conda-bld\\pytorch_1565416617654\\work\\aten\\src\\TH/generic/THTensorMath.cpp:752",
     "output_type": "error",
     "traceback": [
      "\u001b[1;31m---------------------------------------------------------------------------\u001b[0m",
      "\u001b[1;31mRuntimeError\u001b[0m                              Traceback (most recent call last)",
      "\u001b[1;32m<ipython-input-22-dbb87637ff92>\u001b[0m in \u001b[0;36m<module>\u001b[1;34m\u001b[0m\n\u001b[0;32m      7\u001b[0m         \u001b[0mLinearNN1\u001b[0m\u001b[1;33m.\u001b[0m\u001b[0mzero_grad\u001b[0m\u001b[1;33m(\u001b[0m\u001b[1;33m)\u001b[0m\u001b[1;33m\u001b[0m\u001b[1;33m\u001b[0m\u001b[0m\n\u001b[0;32m      8\u001b[0m \u001b[1;33m\u001b[0m\u001b[0m\n\u001b[1;32m----> 9\u001b[1;33m         \u001b[0my_pred\u001b[0m \u001b[1;33m=\u001b[0m \u001b[0mLinearNN1\u001b[0m\u001b[1;33m(\u001b[0m\u001b[0mx\u001b[0m\u001b[1;33m)\u001b[0m\u001b[1;33m\u001b[0m\u001b[1;33m\u001b[0m\u001b[0m\n\u001b[0m\u001b[0;32m     10\u001b[0m         \u001b[0my_val_pred\u001b[0m \u001b[1;33m=\u001b[0m \u001b[0mLinearNN1\u001b[0m\u001b[1;33m(\u001b[0m\u001b[0mTensor\u001b[0m\u001b[1;33m(\u001b[0m\u001b[0mx_val\u001b[0m\u001b[1;33m.\u001b[0m\u001b[0mvalues\u001b[0m\u001b[1;33m)\u001b[0m\u001b[1;33m)\u001b[0m\u001b[1;33m\u001b[0m\u001b[1;33m\u001b[0m\u001b[0m\n\u001b[0;32m     11\u001b[0m \u001b[1;33m\u001b[0m\u001b[0m\n",
      "\u001b[1;32m~\\AppData\\Local\\Continuum\\anaconda3\\lib\\site-packages\\torch\\nn\\modules\\module.py\u001b[0m in \u001b[0;36m__call__\u001b[1;34m(self, *input, **kwargs)\u001b[0m\n\u001b[0;32m    545\u001b[0m             \u001b[0mresult\u001b[0m \u001b[1;33m=\u001b[0m \u001b[0mself\u001b[0m\u001b[1;33m.\u001b[0m\u001b[0m_slow_forward\u001b[0m\u001b[1;33m(\u001b[0m\u001b[1;33m*\u001b[0m\u001b[0minput\u001b[0m\u001b[1;33m,\u001b[0m \u001b[1;33m**\u001b[0m\u001b[0mkwargs\u001b[0m\u001b[1;33m)\u001b[0m\u001b[1;33m\u001b[0m\u001b[1;33m\u001b[0m\u001b[0m\n\u001b[0;32m    546\u001b[0m         \u001b[1;32melse\u001b[0m\u001b[1;33m:\u001b[0m\u001b[1;33m\u001b[0m\u001b[1;33m\u001b[0m\u001b[0m\n\u001b[1;32m--> 547\u001b[1;33m             \u001b[0mresult\u001b[0m \u001b[1;33m=\u001b[0m \u001b[0mself\u001b[0m\u001b[1;33m.\u001b[0m\u001b[0mforward\u001b[0m\u001b[1;33m(\u001b[0m\u001b[1;33m*\u001b[0m\u001b[0minput\u001b[0m\u001b[1;33m,\u001b[0m \u001b[1;33m**\u001b[0m\u001b[0mkwargs\u001b[0m\u001b[1;33m)\u001b[0m\u001b[1;33m\u001b[0m\u001b[1;33m\u001b[0m\u001b[0m\n\u001b[0m\u001b[0;32m    548\u001b[0m         \u001b[1;32mfor\u001b[0m \u001b[0mhook\u001b[0m \u001b[1;32min\u001b[0m \u001b[0mself\u001b[0m\u001b[1;33m.\u001b[0m\u001b[0m_forward_hooks\u001b[0m\u001b[1;33m.\u001b[0m\u001b[0mvalues\u001b[0m\u001b[1;33m(\u001b[0m\u001b[1;33m)\u001b[0m\u001b[1;33m:\u001b[0m\u001b[1;33m\u001b[0m\u001b[1;33m\u001b[0m\u001b[0m\n\u001b[0;32m    549\u001b[0m             \u001b[0mhook_result\u001b[0m \u001b[1;33m=\u001b[0m \u001b[0mhook\u001b[0m\u001b[1;33m(\u001b[0m\u001b[0mself\u001b[0m\u001b[1;33m,\u001b[0m \u001b[0minput\u001b[0m\u001b[1;33m,\u001b[0m \u001b[0mresult\u001b[0m\u001b[1;33m)\u001b[0m\u001b[1;33m\u001b[0m\u001b[1;33m\u001b[0m\u001b[0m\n",
      "\u001b[1;32m~\\AppData\\Local\\Continuum\\anaconda3\\lib\\site-packages\\torch\\nn\\modules\\container.py\u001b[0m in \u001b[0;36mforward\u001b[1;34m(self, input)\u001b[0m\n\u001b[0;32m     90\u001b[0m     \u001b[1;32mdef\u001b[0m \u001b[0mforward\u001b[0m\u001b[1;33m(\u001b[0m\u001b[0mself\u001b[0m\u001b[1;33m,\u001b[0m \u001b[0minput\u001b[0m\u001b[1;33m)\u001b[0m\u001b[1;33m:\u001b[0m\u001b[1;33m\u001b[0m\u001b[1;33m\u001b[0m\u001b[0m\n\u001b[0;32m     91\u001b[0m         \u001b[1;32mfor\u001b[0m \u001b[0mmodule\u001b[0m \u001b[1;32min\u001b[0m \u001b[0mself\u001b[0m\u001b[1;33m.\u001b[0m\u001b[0m_modules\u001b[0m\u001b[1;33m.\u001b[0m\u001b[0mvalues\u001b[0m\u001b[1;33m(\u001b[0m\u001b[1;33m)\u001b[0m\u001b[1;33m:\u001b[0m\u001b[1;33m\u001b[0m\u001b[1;33m\u001b[0m\u001b[0m\n\u001b[1;32m---> 92\u001b[1;33m             \u001b[0minput\u001b[0m \u001b[1;33m=\u001b[0m \u001b[0mmodule\u001b[0m\u001b[1;33m(\u001b[0m\u001b[0minput\u001b[0m\u001b[1;33m)\u001b[0m\u001b[1;33m\u001b[0m\u001b[1;33m\u001b[0m\u001b[0m\n\u001b[0m\u001b[0;32m     93\u001b[0m         \u001b[1;32mreturn\u001b[0m \u001b[0minput\u001b[0m\u001b[1;33m\u001b[0m\u001b[1;33m\u001b[0m\u001b[0m\n\u001b[0;32m     94\u001b[0m \u001b[1;33m\u001b[0m\u001b[0m\n",
      "\u001b[1;32m~\\AppData\\Local\\Continuum\\anaconda3\\lib\\site-packages\\torch\\nn\\modules\\module.py\u001b[0m in \u001b[0;36m__call__\u001b[1;34m(self, *input, **kwargs)\u001b[0m\n\u001b[0;32m    545\u001b[0m             \u001b[0mresult\u001b[0m \u001b[1;33m=\u001b[0m \u001b[0mself\u001b[0m\u001b[1;33m.\u001b[0m\u001b[0m_slow_forward\u001b[0m\u001b[1;33m(\u001b[0m\u001b[1;33m*\u001b[0m\u001b[0minput\u001b[0m\u001b[1;33m,\u001b[0m \u001b[1;33m**\u001b[0m\u001b[0mkwargs\u001b[0m\u001b[1;33m)\u001b[0m\u001b[1;33m\u001b[0m\u001b[1;33m\u001b[0m\u001b[0m\n\u001b[0;32m    546\u001b[0m         \u001b[1;32melse\u001b[0m\u001b[1;33m:\u001b[0m\u001b[1;33m\u001b[0m\u001b[1;33m\u001b[0m\u001b[0m\n\u001b[1;32m--> 547\u001b[1;33m             \u001b[0mresult\u001b[0m \u001b[1;33m=\u001b[0m \u001b[0mself\u001b[0m\u001b[1;33m.\u001b[0m\u001b[0mforward\u001b[0m\u001b[1;33m(\u001b[0m\u001b[1;33m*\u001b[0m\u001b[0minput\u001b[0m\u001b[1;33m,\u001b[0m \u001b[1;33m**\u001b[0m\u001b[0mkwargs\u001b[0m\u001b[1;33m)\u001b[0m\u001b[1;33m\u001b[0m\u001b[1;33m\u001b[0m\u001b[0m\n\u001b[0m\u001b[0;32m    548\u001b[0m         \u001b[1;32mfor\u001b[0m \u001b[0mhook\u001b[0m \u001b[1;32min\u001b[0m \u001b[0mself\u001b[0m\u001b[1;33m.\u001b[0m\u001b[0m_forward_hooks\u001b[0m\u001b[1;33m.\u001b[0m\u001b[0mvalues\u001b[0m\u001b[1;33m(\u001b[0m\u001b[1;33m)\u001b[0m\u001b[1;33m:\u001b[0m\u001b[1;33m\u001b[0m\u001b[1;33m\u001b[0m\u001b[0m\n\u001b[0;32m    549\u001b[0m             \u001b[0mhook_result\u001b[0m \u001b[1;33m=\u001b[0m \u001b[0mhook\u001b[0m\u001b[1;33m(\u001b[0m\u001b[0mself\u001b[0m\u001b[1;33m,\u001b[0m \u001b[0minput\u001b[0m\u001b[1;33m,\u001b[0m \u001b[0mresult\u001b[0m\u001b[1;33m)\u001b[0m\u001b[1;33m\u001b[0m\u001b[1;33m\u001b[0m\u001b[0m\n",
      "\u001b[1;32m~\\AppData\\Local\\Continuum\\anaconda3\\lib\\site-packages\\torch\\nn\\modules\\linear.py\u001b[0m in \u001b[0;36mforward\u001b[1;34m(self, input)\u001b[0m\n\u001b[0;32m     85\u001b[0m \u001b[1;33m\u001b[0m\u001b[0m\n\u001b[0;32m     86\u001b[0m     \u001b[1;32mdef\u001b[0m \u001b[0mforward\u001b[0m\u001b[1;33m(\u001b[0m\u001b[0mself\u001b[0m\u001b[1;33m,\u001b[0m \u001b[0minput\u001b[0m\u001b[1;33m)\u001b[0m\u001b[1;33m:\u001b[0m\u001b[1;33m\u001b[0m\u001b[1;33m\u001b[0m\u001b[0m\n\u001b[1;32m---> 87\u001b[1;33m         \u001b[1;32mreturn\u001b[0m \u001b[0mF\u001b[0m\u001b[1;33m.\u001b[0m\u001b[0mlinear\u001b[0m\u001b[1;33m(\u001b[0m\u001b[0minput\u001b[0m\u001b[1;33m,\u001b[0m \u001b[0mself\u001b[0m\u001b[1;33m.\u001b[0m\u001b[0mweight\u001b[0m\u001b[1;33m,\u001b[0m \u001b[0mself\u001b[0m\u001b[1;33m.\u001b[0m\u001b[0mbias\u001b[0m\u001b[1;33m)\u001b[0m\u001b[1;33m\u001b[0m\u001b[1;33m\u001b[0m\u001b[0m\n\u001b[0m\u001b[0;32m     88\u001b[0m \u001b[1;33m\u001b[0m\u001b[0m\n\u001b[0;32m     89\u001b[0m     \u001b[1;32mdef\u001b[0m \u001b[0mextra_repr\u001b[0m\u001b[1;33m(\u001b[0m\u001b[0mself\u001b[0m\u001b[1;33m)\u001b[0m\u001b[1;33m:\u001b[0m\u001b[1;33m\u001b[0m\u001b[1;33m\u001b[0m\u001b[0m\n",
      "\u001b[1;32m~\\AppData\\Local\\Continuum\\anaconda3\\lib\\site-packages\\torch\\nn\\functional.py\u001b[0m in \u001b[0;36mlinear\u001b[1;34m(input, weight, bias)\u001b[0m\n\u001b[0;32m   1367\u001b[0m     \u001b[1;32mif\u001b[0m \u001b[0minput\u001b[0m\u001b[1;33m.\u001b[0m\u001b[0mdim\u001b[0m\u001b[1;33m(\u001b[0m\u001b[1;33m)\u001b[0m \u001b[1;33m==\u001b[0m \u001b[1;36m2\u001b[0m \u001b[1;32mand\u001b[0m \u001b[0mbias\u001b[0m \u001b[1;32mis\u001b[0m \u001b[1;32mnot\u001b[0m \u001b[1;32mNone\u001b[0m\u001b[1;33m:\u001b[0m\u001b[1;33m\u001b[0m\u001b[1;33m\u001b[0m\u001b[0m\n\u001b[0;32m   1368\u001b[0m         \u001b[1;31m# fused op is marginally faster\u001b[0m\u001b[1;33m\u001b[0m\u001b[1;33m\u001b[0m\u001b[1;33m\u001b[0m\u001b[0m\n\u001b[1;32m-> 1369\u001b[1;33m         \u001b[0mret\u001b[0m \u001b[1;33m=\u001b[0m \u001b[0mtorch\u001b[0m\u001b[1;33m.\u001b[0m\u001b[0maddmm\u001b[0m\u001b[1;33m(\u001b[0m\u001b[0mbias\u001b[0m\u001b[1;33m,\u001b[0m \u001b[0minput\u001b[0m\u001b[1;33m,\u001b[0m \u001b[0mweight\u001b[0m\u001b[1;33m.\u001b[0m\u001b[0mt\u001b[0m\u001b[1;33m(\u001b[0m\u001b[1;33m)\u001b[0m\u001b[1;33m)\u001b[0m\u001b[1;33m\u001b[0m\u001b[1;33m\u001b[0m\u001b[0m\n\u001b[0m\u001b[0;32m   1370\u001b[0m     \u001b[1;32melse\u001b[0m\u001b[1;33m:\u001b[0m\u001b[1;33m\u001b[0m\u001b[1;33m\u001b[0m\u001b[0m\n\u001b[0;32m   1371\u001b[0m         \u001b[0moutput\u001b[0m \u001b[1;33m=\u001b[0m \u001b[0minput\u001b[0m\u001b[1;33m.\u001b[0m\u001b[0mmatmul\u001b[0m\u001b[1;33m(\u001b[0m\u001b[0mweight\u001b[0m\u001b[1;33m.\u001b[0m\u001b[0mt\u001b[0m\u001b[1;33m(\u001b[0m\u001b[1;33m)\u001b[0m\u001b[1;33m)\u001b[0m\u001b[1;33m\u001b[0m\u001b[1;33m\u001b[0m\u001b[0m\n",
      "\u001b[1;31mRuntimeError\u001b[0m: size mismatch, m1: [512 x 35], m2: [34 x 128] at C:\\w\\1\\s\\tmp_conda_3.7_055457\\conda\\conda-bld\\pytorch_1565416617654\\work\\aten\\src\\TH/generic/THTensorMath.cpp:752"
     ]
    }
   ],
   "source": [
    "#Train Model\n",
    "\n",
    "t = time.time()\n",
    "for epoch in range(epochs):\n",
    "    for x, y in iter(train_loader):\n",
    "        LinearNN1.train()\n",
    "        LinearNN1.zero_grad()\n",
    "        \n",
    "        y_pred = LinearNN1(x)\n",
    "        y_val_pred = LinearNN1(Tensor(x_val.values))\n",
    "\n",
    "        loss = cross(y_pred, y.long())\n",
    "        loss_val = cross(y_val_pred, Tensor(y_val['target'].values).long())\n",
    "\n",
    "        if counter % 500 ==0:\n",
    "            print('Loss after iteration {}: {}'.format(counter, loss.item()))\n",
    "        \n",
    "        losses.append(loss.item())\n",
    "        losses_val.append(loss_val.item())\n",
    "        \n",
    "        loss.backward()\n",
    "        optimizer.step()\n",
    "        \n",
    "        counter+=1 \n",
    "    counter+=1\n",
    "    scheduler.step()\n",
    "time.time()-t        \n",
    "        \n",
    "        \n",
    "print('Elapsed time: {} s'.format(time.time()-t))    \n",
    "print(loss.item())  \n",
    "plt.plot(range(len(losses)), losses, label = 'train')\n",
    "plt.plot(range(len(losses)), losses_val, label = 'val')\n",
    "plt.legend(loc=\"lower left\")\n",
    "plt.show()"
   ]
  },
  {
   "cell_type": "code",
   "execution_count": null,
   "metadata": {},
   "outputs": [],
   "source": [
    "##Eval \n",
    "\n",
    "LinearNN.eval()\n",
    "with torch.no_grad():\n",
    "    val_pred = LinearNN(Tensor(x_val.values))\n",
    "    train_pred = LinearNN(Tensor(x_train.values))\n",
    "y_val_pred = pd.Series(val_pred.max(1).indices).map({0:1,1:0,2:-1})\n",
    "y_train_pred = pd.Series(train_pred.max(1).indices).map({0:1,1:0,2:-1})\n",
    "\n",
    "print(sklearn.metrics.accuracy_score(y_train_pred, y_train['result']))\n",
    "print(sklearn.metrics.accuracy_score(y_val_pred, y_val['result']))"
   ]
  },
  {
   "cell_type": "code",
   "execution_count": 555,
   "metadata": {},
   "outputs": [
    {
     "data": {
      "text/plain": [
       " 1    1008\n",
       "-1     457\n",
       "dtype: int64"
      ]
     },
     "execution_count": 555,
     "metadata": {},
     "output_type": "execute_result"
    }
   ],
   "source": [
    "y_val_pred.value_counts()"
   ]
  },
  {
   "cell_type": "code",
   "execution_count": null,
   "metadata": {},
   "outputs": [],
   "source": [
    "##Test \n",
    "\n",
    "LinearNN.eval()\n",
    "with torch.no_grad():\n",
    "    val_pred = LinearNN(Tensor(x_test.values))\n",
    "    \n",
    "y_val_pred = pd.Series(val_pred.max(1).indices).map({0:1,1:0,2:-1})\n",
    "sklearn.metrics.accuracy_score(y_val_pred, y_test['result'])"
   ]
  },
  {
   "cell_type": "code",
   "execution_count": 275,
   "metadata": {},
   "outputs": [
    {
     "data": {
      "text/plain": [
       " 1    797\n",
       "-1    296\n",
       "dtype: int64"
      ]
     },
     "execution_count": 275,
     "metadata": {},
     "output_type": "execute_result"
    }
   ],
   "source": [
    "y_val_pred.value_counts()"
   ]
  },
  {
   "cell_type": "markdown",
   "metadata": {},
   "source": [
    "## Ensemble Learning"
   ]
  },
  {
   "cell_type": "code",
   "execution_count": 16,
   "metadata": {},
   "outputs": [],
   "source": [
    "def train(model, X_train,Y_train, X_val, Y_val,  epochs, batch_size, learning_rate):\n",
    "    StandardScaler = preprocessing.StandardScaler().fit(X_train.iloc[:,1:])\n",
    "    \n",
    "    X_train = pd.DataFrame(StandardScaler.transform(X_train.iloc[:,1:]), index = X_train['match_api_id'], columns = X_train.iloc[:,1:].columns)\n",
    "    X_val = pd.DataFrame(StandardScaler.transform(X_val.iloc[:,1:]), index = X_val['match_api_id'], columns = X_val.iloc[:,1:].columns)\n",
    "    \n",
    "    # Hyperparameters\n",
    "\n",
    "    batch_size = batch_size #len(x_train)\n",
    "    epochs = epochs\n",
    "    learning_rate = learning_rate\n",
    "    loss = 0\n",
    "    losses = []\n",
    "    losses_val = []\n",
    "    counter = 0\n",
    "    \n",
    "\n",
    "    dataset = TensorDataset( Tensor(X_train.values), torch.Tensor(Y_train['target'].values) )\n",
    "    train_loader = DataLoader(dataset, batch_size = batch_size, shuffle=False)\n",
    "    optimizer = torch.optim.Adam(model.parameters(), lr=learning_rate, betas=(0.9,0.999), weight_decay=0.1)\n",
    "    scheduler = torch.optim.lr_scheduler.StepLR(optimizer, step_size= 25 , gamma = 0.1)\n",
    "    cross = nn.CrossEntropyLoss()\n",
    "    \n",
    "    #Train Model\n",
    "\n",
    "    t = time.time()\n",
    "    for epoch in range(epochs):\n",
    "        for x, y in iter(train_loader):\n",
    "            model.train()\n",
    "            model.zero_grad()\n",
    "\n",
    "            y_pred = model(x)\n",
    "            y_val_pred = model(Tensor(X_val.values))\n",
    "\n",
    "            loss = cross(y_pred, y.long())\n",
    "            loss_val = cross(y_val_pred, Tensor(y_val['target'].values).long())\n",
    "\n",
    "            if counter % 500 ==0:\n",
    "                print('Loss after iteration {}: {}'.format(counter, loss.item()))\n",
    "\n",
    "            losses.append(loss.item())\n",
    "            losses_val.append(loss_val.item())\n",
    "\n",
    "            loss.backward()\n",
    "            optimizer.step()\n",
    "\n",
    "            counter+=1 \n",
    "        counter+=1\n",
    "        scheduler.step()\n",
    "    time.time()-t        \n",
    "\n",
    "\n",
    "    print('Elapsed time: {} s'.format(time.time()-t))    \n",
    "    print(loss.item())  \n",
    "    plt.plot(range(len(losses)), losses, label = 'train')\n",
    "    plt.plot(range(len(losses)), losses_val, label = 'val')\n",
    "    plt.legend(loc=\"lower left\")\n",
    "    plt.show()\n",
    "    \n",
    "    ##Eval \n",
    "\n",
    "    model.eval()\n",
    "    with torch.no_grad():\n",
    "        val_pred = model(Tensor(X_val.values))\n",
    "        train_pred = model(Tensor(X_train.values))\n",
    "    y_val_pred = pd.Series(val_pred.max(1).indices).map({0:1,1:0})\n",
    "    y_train_pred = pd.Series(train_pred.max(1).indices).map({0:1,1:0})\n",
    "\n",
    "    print('Train accuracy: {}'.format(sklearn.metrics.accuracy_score(y_train_pred, Y_train['target'])))\n",
    "    print('Val accuracy: {}'.format(sklearn.metrics.accuracy_score(y_val_pred, Y_val['target'])))"
   ]
  },
  {
   "cell_type": "code",
   "execution_count": 23,
   "metadata": {},
   "outputs": [
    {
     "name": "stdout",
     "output_type": "stream",
     "text": [
      "Loss after iteration 0: 0.6558895707130432\n",
      "Elapsed time: 173.23799061775208 s\n",
      "0.614633321762085\n"
     ]
    },
    {
     "data": {
      "image/png": "[encoded data removed]",
      "text/plain": [
       "<Figure size 432x288 with 1 Axes>"
      ]
     },
     "metadata": {
      "needs_background": "light"
     },
     "output_type": "display_data"
    },
    {
     "name": "stdout",
     "output_type": "stream",
     "text": [
      "Train accuracy: 0.27952297847585805\n",
      "Val accuracy: 0.36353944562899787\n"
     ]
    }
   ],
   "source": [
    "train(LinearNN1, x1, y1, x_val, y_val,  100, 4096, 0.001)\n",
    "# train(LinearNN2, x2, y2, x_val, y_val,  50, 4096, 0.001)\n",
    "# train(LinearNN3, x3, y3, x_val, y_val,  50, 4096, 0.001)"
   ]
  },
  {
   "cell_type": "code",
   "execution_count": 15,
   "metadata": {},
   "outputs": [
    {
     "data": {
      "text/plain": [
       "10285    1\n",
       "1123     1\n",
       "3678     1\n",
       "6888     1\n",
       "5243     0\n",
       "2983     0\n",
       "1517     0\n",
       "12170    1\n",
       "1087     1\n",
       "14569    0\n",
       "5916     0\n",
       "9821     0\n",
       "13754    1\n",
       "12296    1\n",
       "576      0\n",
       "15942    1\n",
       "2259     0\n",
       "15462    1\n",
       "5506     1\n",
       "0        0\n",
       "8882     1\n",
       "2206     1\n",
       "1338     0\n",
       "6384     0\n",
       "13500    1\n",
       "15070    1\n",
       "3297     1\n",
       "15407    1\n",
       "3357     0\n",
       "3031     0\n",
       "        ..\n",
       "4544     1\n",
       "13183    1\n",
       "10025    1\n",
       "16165    1\n",
       "14578    0\n",
       "9263     1\n",
       "1167     0\n",
       "10568    1\n",
       "7411     0\n",
       "15866    1\n",
       "3280     1\n",
       "5935     1\n",
       "15619    1\n",
       "3819     0\n",
       "969      1\n",
       "8435     1\n",
       "6235     1\n",
       "5579     1\n",
       "10911    0\n",
       "7462     1\n",
       "1397     1\n",
       "13155    1\n",
       "1099     0\n",
       "12603    0\n",
       "9324     1\n",
       "12858    1\n",
       "8624     0\n",
       "5266     0\n",
       "492      1\n",
       "15337    0\n",
       "Name: target, Length: 6876, dtype: int64"
      ]
     },
     "execution_count": 15,
     "metadata": {},
     "output_type": "execute_result"
    }
   ],
   "source": [
    "y_train['target']"
   ]
  },
  {
   "cell_type": "code",
   "execution_count": 765,
   "metadata": {},
   "outputs": [
    {
     "name": "stdout",
     "output_type": "stream",
     "text": [
      "Loss after iteration 0: 1.0808428525924683\n",
      "Elapsed time: 71.02489614486694 s\n",
      "1.0622118711471558\n"
     ]
    },
    {
     "data": {
      "image/png": "[encoded data removed]",
      "text/plain": [
       "<Figure size 432x288 with 1 Axes>"
      ]
     },
     "metadata": {
      "needs_background": "light"
     },
     "output_type": "display_data"
    },
    {
     "name": "stdout",
     "output_type": "stream",
     "text": [
      "Train accuracy: 0.5218150087260035\n",
      "Val accuracy: 0.5458422174840085\n"
     ]
    }
   ],
   "source": [
    "train(LinearNN3, x3, y3, x_val, y_val,  50, 2048, 0.001)"
   ]
  },
  {
   "cell_type": "code",
   "execution_count": 778,
   "metadata": {},
   "outputs": [],
   "source": [
    "# torch.save(LinearNN1, './nn1.pt')\n",
    "# torch.save(LinearNN2, './nn2.pt')\n",
    "# torch.save(LinearNN3, './nn3.pt')"
   ]
  },
  {
   "cell_type": "code",
   "execution_count": 704,
   "metadata": {},
   "outputs": [],
   "source": [
    "def ensemble_predict(models, training_data, training_labels, x_val, y_val):\n",
    "    ensemble = []\n",
    "    val_pred_ensemble = 0\n",
    "    for i,model in enumerate(models):\n",
    "        StandardScaler = preprocessing.StandardScaler().fit(training_data[i].iloc[:,1:])\n",
    "        X_train = pd.DataFrame(StandardScaler.transform(training_data[i].iloc[:,1:]), index = training_data[i]['match_api_id'], columns = training_data[i].iloc[:,1:].columns)\n",
    "        X_val = pd.DataFrame(StandardScaler.transform(x_val.iloc[:,1:]), index = x_val['match_api_id'], columns = x_val.iloc[:,1:].columns)\n",
    "        \n",
    "        model.eval()\n",
    "        with torch.no_grad():\n",
    "            val_pred = model(Tensor(X_val.values))\n",
    "            train_pred = model(Tensor(X_train.values))\n",
    "        y_val_pred = pd.Series(val_pred.max(1).indices).map({0:1,1:0,2:-1})\n",
    "        y_train_pred = pd.Series(train_pred.max(1).indices).map({0:1,1:0,2:-1})\n",
    "        \n",
    "        val_pred_ensemble += val_pred\n",
    "        print('model: {}'.format(i))\n",
    "        print('Train accuracy: {}'.format(sklearn.metrics.accuracy_score(y_train_pred, training_labels[i]['result'])))\n",
    "        print('Val accuracy: {}'.format(sklearn.metrics.accuracy_score(y_val_pred, y_val['result'])))\n",
    "        \n",
    "    global y_ens\n",
    "    y_ens = pd.Series(val_pred_ensemble.max(1).indices).map({0:1,1:0,2:-1})\n",
    "    print('Ensemble Val accuracy: {}'.format(sklearn.metrics.accuracy_score(y_ens, y_val['result'])))\n"
   ]
  },
  {
   "cell_type": "code",
   "execution_count": 772,
   "metadata": {},
   "outputs": [
    {
     "name": "stdout",
     "output_type": "stream",
     "text": [
      "model: 0\n",
      "Train accuracy: 0.5629726585223968\n",
      "Val accuracy: 0.5362473347547975\n",
      "model: 1\n",
      "Train accuracy: 0.5158522396742292\n",
      "Val accuracy: 0.523454157782516\n",
      "model: 2\n",
      "Train accuracy: 0.5218150087260035\n",
      "Val accuracy: 0.5458422174840085\n",
      "Ensemble Val accuracy: 0.5511727078891258\n"
     ]
    }
   ],
   "source": [
    "ensemble_predict([LinearNN1,LinearNN2,LinearNN3], [x1,x2,x3], [y1,y2,y3], x_val, y_val)"
   ]
  },
  {
   "cell_type": "code",
   "execution_count": 773,
   "metadata": {},
   "outputs": [
    {
     "name": "stdout",
     "output_type": "stream",
     "text": [
      "model: 0\n",
      "Train accuracy: 0.5629726585223968\n",
      "Val accuracy: 0.5362473347547975\n",
      "model: 1\n",
      "Train accuracy: 0.5218150087260035\n",
      "Val accuracy: 0.5458422174840085\n",
      "Ensemble Val accuracy: 0.5501066098081023\n"
     ]
    }
   ],
   "source": [
    "ensemble_predict([LinearNN1,LinearNN3], [x1,x3], [y1,y3], x_val, y_val)"
   ]
  },
  {
   "cell_type": "code",
   "execution_count": 774,
   "metadata": {},
   "outputs": [
    {
     "name": "stdout",
     "output_type": "stream",
     "text": [
      "model: 0\n",
      "Train accuracy: 0.5629726585223968\n",
      "Val accuracy: 0.5362473347547975\n",
      "model: 1\n",
      "Train accuracy: 0.5158522396742292\n",
      "Val accuracy: 0.523454157782516\n",
      "Ensemble Val accuracy: 0.5415778251599147\n"
     ]
    }
   ],
   "source": [
    "ensemble_predict([LinearNN1,LinearNN2], [x1,x2], [y1,y2], x_val, y_val)"
   ]
  },
  {
   "cell_type": "code",
   "execution_count": 775,
   "metadata": {},
   "outputs": [
    {
     "name": "stdout",
     "output_type": "stream",
     "text": [
      "model: 0\n",
      "Train accuracy: 0.5158522396742292\n",
      "Val accuracy: 0.523454157782516\n",
      "model: 1\n",
      "Train accuracy: 0.5218150087260035\n",
      "Val accuracy: 0.5458422174840085\n",
      "Ensemble Val accuracy: 0.5479744136460555\n"
     ]
    }
   ],
   "source": [
    "ensemble_predict([LinearNN2,LinearNN3], [x2,x3], [y2,y3], x_val, y_val)"
   ]
  },
  {
   "cell_type": "code",
   "execution_count": null,
   "metadata": {},
   "outputs": [],
   "source": []
  },
  {
   "cell_type": "code",
   "execution_count": 707,
   "metadata": {},
   "outputs": [
    {
     "data": {
      "text/plain": [
       " 1    1007\n",
       "-1     305\n",
       "dtype: int64"
      ]
     },
     "execution_count": 707,
     "metadata": {},
     "output_type": "execute_result"
    }
   ],
   "source": [
    "y_ens.value_counts()"
   ]
  },
  {
   "cell_type": "code",
   "execution_count": null,
   "metadata": {},
   "outputs": [],
   "source": []
  }
 ],
 "metadata": {
  "kernelspec": {
   "display_name": "Python 3",
   "language": "python",
   "name": "python3"
  },
  "language_info": {
   "codemirror_mode": {
    "name": "ipython",
    "version": 3
   },
   "file_extension": ".py",
   "mimetype": "text/x-python",
   "name": "python",
   "nbconvert_exporter": "python",
   "pygments_lexer": "ipython3",
   "version": "3.7.3"
  }
 },
 "nbformat": 4,
 "nbformat_minor": 4
}
