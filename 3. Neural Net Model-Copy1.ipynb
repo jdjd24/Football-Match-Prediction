{
 "cells": [
  {
   "cell_type": "code",
   "execution_count": 26,
   "metadata": {},
   "outputs": [],
   "source": [
    "import pandas as pd\n",
    "import matplotlib.pyplot as plt\n",
    "import torch\n",
    "import torch.nn as nn\n",
    "import numpy as np\n",
    "from torch.utils.data import DataLoader\n",
    "from torch.optim import lr_scheduler\n",
    "import time\n",
    "import matplotlib.pyplot as plt\n",
    "import sklearn.preprocessing as preprocessing\n",
    "import sklearn.metrics\n",
    "from sklearn.model_selection import train_test_split\n",
    "import math\n",
    "from torch.utils.data import DataLoader, TensorDataset\n",
    "from torch import Tensor\n",
    "from sklearn.utils import resample\n",
    "from sklearn.metrics import log_loss\n",
    "from sklearn.model_selection import KFold\n",
    "\n",
    "cross = nn.CrossEntropyLoss()"
   ]
  },
  {
   "cell_type": "markdown",
   "metadata": {},
   "source": [
    "## Data Processing"
   ]
  },
  {
   "cell_type": "code",
   "execution_count": 4,
   "metadata": {},
   "outputs": [
    {
     "data": {
      "text/plain": [
       "((8767, 53), (827, 53), (832, 53))"
      ]
     },
     "execution_count": 4,
     "metadata": {},
     "output_type": "execute_result"
    }
   ],
   "source": [
    "x_train = pd.read_csv('./Data with correct player_atts/x_train.csv')\n",
    "x_val = pd.read_csv('./Data with correct player_atts/x_val.csv')\n",
    "x_test = pd.read_csv('./Data with correct player_atts/x_test.csv')\n",
    "\n",
    "y_train = pd.read_csv('./Data with correct player_atts/y_train.csv')\n",
    "y_val = pd.read_csv('./Data with correct player_atts/y_val.csv')\n",
    "y_test = pd.read_csv('./Data with correct player_atts/y_test.csv')\n",
    "\n",
    "x_train.shape, x_val.shape, x_test.shape"
   ]
  },
  {
   "cell_type": "markdown",
   "metadata": {},
   "source": [
    "## Training"
   ]
  },
  {
   "cell_type": "code",
   "execution_count": 7,
   "metadata": {},
   "outputs": [],
   "source": [
    "class LinearNN():\n",
    "    def __init__(self, num_layers, sizes, activation_type, drop_out):\n",
    "        self.model = self.n_layer_net(num_layers, sizes, activation_type, drop_out)\n",
    "        self.activation_type = activation_type\n",
    "        self.drop_out_p = drop_out\n",
    "        self.num_layers = num_layers\n",
    "        self.activation_type = activation_type\n",
    "        \n",
    "    \n",
    "    def n_layer_net(self, num_layers, sizes, activation_type, drop_out):\n",
    "        assert len(sizes) == num_layers\n",
    "  \n",
    "        if num_layers ==4:\n",
    "            model = nn.Sequential(nn.Linear(input_size, sizes[0]), activation_type, nn.Dropout(p=drop_out), nn.BatchNorm1d(sizes[0]), nn.Linear(sizes[0], sizes[1]),\n",
    "                    activation_type, nn.Dropout(p=drop_out), nn.BatchNorm1d(sizes[1]), nn.Linear(sizes[1], sizes[2]), activation_type, nn.Dropout(p=drop_out), \n",
    "                    nn.BatchNorm1d(sizes[2]), nn.Linear(sizes[2], sizes[3]), activation_type, nn.Dropout(p=drop_out), nn.BatchNorm1d(sizes[3]), nn.Linear(sizes[3],\n",
    "                    output_size), nn.Softmax(dim = 1)\n",
    "                        )     \n",
    "        elif num_layers ==5:\n",
    "            model = nn.Sequential(nn.Linear(input_size, sizes[0]), activation_type, nn.Dropout(p=drop_out), nn.BatchNorm1d(sizes[0]), nn.Linear(sizes[0], sizes[1]),\n",
    "                    activation_type, nn.Dropout(p=drop_out), nn.BatchNorm1d(sizes[1]), nn.Linear(sizes[1], sizes[2]), activation_type, nn.Dropout(p=drop_out), \n",
    "                    nn.BatchNorm1d(sizes[2]), nn.Linear(sizes[2], sizes[3]), activation_type, nn.Dropout(p=drop_out), nn.BatchNorm1d(sizes[3]), nn.Linear(sizes[3],\n",
    "                    sizes[4]), activation_type, nn.Dropout(p=drop_out), nn.BatchNorm1d(sizes[4]), nn.Linear(sizes[4], output_size), nn.Softmax(dim = 1)\n",
    "                        )  \n",
    "        elif num_layers ==6:\n",
    "            model = nn.Sequential(nn.Linear(input_size, sizes[0]), activation_type, nn.Dropout(p=drop_out), nn.BatchNorm1d(sizes[0]), nn.Linear(sizes[0], sizes[1]),\n",
    "                    activation_type, nn.Dropout(p=drop_out), nn.BatchNorm1d(sizes[1]), nn.Linear(sizes[1], sizes[2]), activation_type, nn.Dropout(p=drop_out), \n",
    "                    nn.BatchNorm1d(sizes[2]), nn.Linear(sizes[2], sizes[3]), activation_type, nn.Dropout(p=drop_out), nn.BatchNorm1d(sizes[3]), nn.Linear(sizes[3],\n",
    "                    sizes[4]), activation_type, nn.Dropout(p=drop_out), nn.BatchNorm1d(sizes[4]), nn.Linear(sizes[4], sizes[5]), activation_type, \n",
    "                    nn.Dropout(p=drop_out), nn.BatchNorm1d(sizes[5]), nn.Linear(sizes[5], output_size), nn.Softmax(dim = 1)\n",
    "                        )\n",
    "        elif num_layers ==7:\n",
    "            model = nn.Sequential(nn.Linear(input_size, sizes[0]), activation_type, nn.Dropout(p=drop_out), nn.BatchNorm1d(sizes[0]), nn.Linear(sizes[0], sizes[1]),\n",
    "                    activation_type, nn.Dropout(p=drop_out), nn.BatchNorm1d(sizes[1]), nn.Linear(sizes[1], sizes[2]), activation_type, nn.Dropout(p=drop_out), \n",
    "                    nn.BatchNorm1d(sizes[2]), nn.Linear(sizes[2], sizes[3]), activation_type, nn.Dropout(p=drop_out), nn.BatchNorm1d(sizes[3]), nn.Linear(sizes[3],\n",
    "                    sizes[4]), activation_type, nn.Dropout(p=drop_out), nn.BatchNorm1d(sizes[4]), nn.Linear(sizes[4], sizes[5]), activation_type, \n",
    "                    nn.Dropout(p=drop_out), nn.BatchNorm1d(sizes[5]), nn.Linear(sizes[5], sizes[6]), activation_type, \n",
    "                    nn.Dropout(p=drop_out), nn.BatchNorm1d(sizes[6]),  nn.Linear(sizes[6], output_size), nn.Softmax(dim = 1)\n",
    "                        )\n",
    "        elif num_layers ==8:\n",
    "            model = nn.Sequential(nn.Linear(input_size, sizes[0]), activation_type, nn.Dropout(p=drop_out), nn.BatchNorm1d(sizes[0]), nn.Linear(sizes[0], sizes[1]),\n",
    "                    activation_type, nn.Dropout(p=drop_out), nn.BatchNorm1d(sizes[1]), nn.Linear(sizes[1], sizes[2]), activation_type, nn.Dropout(p=drop_out), \n",
    "                    nn.BatchNorm1d(sizes[2]), nn.Linear(sizes[2], sizes[3]), activation_type, nn.Dropout(p=drop_out), nn.BatchNorm1d(sizes[3]), nn.Linear(sizes[3],\n",
    "                    sizes[4]), activation_type, nn.Dropout(p=drop_out), nn.BatchNorm1d(sizes[4]), nn.Linear(sizes[4], sizes[5]), activation_type, \n",
    "                    nn.Dropout(p=drop_out), nn.BatchNorm1d(sizes[5]), nn.Linear(sizes[5], sizes[6]), activation_type, \n",
    "                    nn.Dropout(p=drop_out), nn.BatchNorm1d(sizes[6]),nn.Linear(sizes[6], sizes[7]), activation_type, \n",
    "                    nn.Dropout(p=drop_out), nn.BatchNorm1d(sizes[7]),  nn.Linear(sizes[7], output_size), nn.Softmax(dim = 1)\n",
    "                        )\n",
    "        elif num_layers ==9:\n",
    "            model = nn.Sequential(nn.Linear(input_size, sizes[0]), activation_type, nn.Dropout(p=drop_out), nn.BatchNorm1d(sizes[0]), nn.Linear(sizes[0], sizes[1]),\n",
    "                    activation_type, nn.Dropout(p=drop_out), nn.BatchNorm1d(sizes[1]), nn.Linear(sizes[1], sizes[2]), activation_type, nn.Dropout(p=drop_out), \n",
    "                    nn.BatchNorm1d(sizes[2]), nn.Linear(sizes[2], sizes[3]), activation_type, nn.Dropout(p=drop_out), nn.BatchNorm1d(sizes[3]), nn.Linear(sizes[3],\n",
    "                    sizes[4]), activation_type, nn.Dropout(p=drop_out), nn.BatchNorm1d(sizes[4]), nn.Linear(sizes[4], sizes[5]), activation_type, \n",
    "                    nn.Dropout(p=drop_out), nn.BatchNorm1d(sizes[5]), nn.Linear(sizes[5], sizes[6]), activation_type, \n",
    "                    nn.Dropout(p=drop_out), nn.BatchNorm1d(sizes[6]),nn.Linear(sizes[6], sizes[7]), activation_type, \n",
    "                    nn.Dropout(p=drop_out), nn.BatchNorm1d(sizes[7]),nn.Linear(sizes[7], sizes[8]), activation_type, \n",
    "                    nn.Dropout(p=drop_out), nn.BatchNorm1d(sizes[8]),  nn.Linear(sizes[8], output_size), nn.Softmax(dim = 1)\n",
    "                        )\n",
    "        elif num_layers ==10:\n",
    "            model = nn.Sequential(nn.Linear(input_size, sizes[0]), activation_type, nn.Dropout(p=drop_out), nn.BatchNorm1d(sizes[0]), nn.Linear(sizes[0], sizes[1]),\n",
    "                    activation_type, nn.Dropout(p=drop_out), nn.BatchNorm1d(sizes[1]), nn.Linear(sizes[1], sizes[2]), activation_type, nn.Dropout(p=drop_out), \n",
    "                    nn.BatchNorm1d(sizes[2]), nn.Linear(sizes[2], sizes[3]), activation_type, nn.Dropout(p=drop_out), nn.BatchNorm1d(sizes[3]), nn.Linear(sizes[3],\n",
    "                    sizes[4]), activation_type, nn.Dropout(p=drop_out), nn.BatchNorm1d(sizes[4]), nn.Linear(sizes[4], sizes[5]), activation_type, \n",
    "                    nn.Dropout(p=drop_out), nn.BatchNorm1d(sizes[5]), nn.Linear(sizes[5], sizes[6]), activation_type, \n",
    "                    nn.Dropout(p=drop_out), nn.BatchNorm1d(sizes[6]),nn.Linear(sizes[6], sizes[7]), activation_type, \n",
    "                    nn.Dropout(p=drop_out), nn.BatchNorm1d(sizes[7]),nn.Linear(sizes[7], sizes[8]), activation_type, \n",
    "                    nn.Dropout(p=drop_out), nn.BatchNorm1d(sizes[8]),nn.Linear(sizes[8], sizes[9]), activation_type, \n",
    "                    nn.Dropout(p=drop_out), nn.BatchNorm1d(sizes[9]),  nn.Linear(sizes[9], output_size), nn.Softmax(dim = 1)\n",
    "                        )\n",
    "        else:\n",
    "            print('Invalid num_layers: choose between 4 and 10')\n",
    "        return model"
   ]
  },
  {
   "cell_type": "code",
   "execution_count": 178,
   "metadata": {},
   "outputs": [],
   "source": [
    "input_size = len(x_train.drop(columns ='match_api_id').columns)\n",
    "output_size = 3\n",
    "\n",
    "model_dict = {\n",
    "\n",
    "'model4': LinearNN(5, [128,256,128,32,16], nn.ReLU(), 0.5),\n",
    "'model5': LinearNN(5, [128,512,256,128,32], nn.ReLU(), 0.5),\n",
    "'model6': LinearNN(5, [64,512,256,128,32], nn.ReLU(), 0),\n",
    "'model7': LinearNN(6, [128,256,256,128,32,16], nn.ReLU(), 0.5),\n",
    "'model8': LinearNN(6, [64,256,256,128,64,32], nn.ReLU(), 0),\n",
    "'model9': LinearNN(6, [256,512,512,128,32,16], nn.ReLU(), 0.5),\n",
    "'model10': LinearNN(7, [64,256,256,128,32,16,8], nn.ReLU(), 0.5),\n",
    "'model11': LinearNN(7, [128,256,256,128,32,16,8], nn.ReLU(), 0),\n",
    "'model12': LinearNN(7, [256,512,128,64,32,16,8], nn.ReLU(), 0.5),\n",
    "'model13': LinearNN(8, [64,128,256,128,64,32,16,8], nn.ReLU(), 0.5),\n",
    "'model14': LinearNN(8, [128,256,256,128,64,32,16,8], nn.ReLU(), 0.5),\n",
    "'model15': LinearNN(8, [256,512,512,128,32,16,8,8], nn.ReLU(), 0.5),\n",
    "'model13': LinearNN(9, [64,128,256,256,128,64,32,16,8], nn.ReLU(), 0.5),\n",
    "'model14': LinearNN(9, [128,256,256,128,128,64,32,16,8], nn.ReLU(), 0.5),\n",
    "'model15': LinearNN(9, [256,512,512,256,128,32,16,8,8], nn.ReLU(), 0.5),\n",
    "'model13': LinearNN(10, [64,128,256,256,256,128,64,32,16,8], nn.ReLU(), 0.5),\n",
    "'model14': LinearNN(10, [128,256,256,512,256,128,64,32,16,8], nn.ReLU(), 0.5),\n",
    "'model15': LinearNN(10, [256,512,512,256,256,128,32,16,8,8], nn.ReLU(), 0.5),\n",
    "}"
   ]
  },
  {
   "cell_type": "markdown",
   "metadata": {},
   "source": [
    "## Ensemble Learning"
   ]
  },
  {
   "cell_type": "code",
   "execution_count": 314,
   "metadata": {},
   "outputs": [],
   "source": [
    "def train(model, X_train, Y_train, X_val, Y_val, epochs, batch_size, learning_rate):\n",
    "    StandardScaler = preprocessing.StandardScaler().fit(X_train.iloc[:,1:])\n",
    "    X_train = pd.DataFrame(StandardScaler.transform(X_train.iloc[:,1:]), index = X_train['match_api_id'], columns = X_train.iloc[:,1:].columns)\n",
    "    X_val = pd.DataFrame(StandardScaler.transform(X_val.iloc[:,1:]), index = X_val['match_api_id'], columns = X_val.iloc[:,1:].columns)\n",
    "    \n",
    "    loss, counter = 0, 0\n",
    "    losses_train, losses_val = [], []\n",
    "\n",
    "    dataset = TensorDataset(Tensor(X_train.values), torch.Tensor(Y_train['target'].values))\n",
    "    train_loader = DataLoader(dataset, batch_size = batch_size, shuffle=False)\n",
    "    optimizer = torch.optim.Adam(model.parameters(), lr=learning_rate, betas=(0.9,0.999), weight_decay=0.1)\n",
    "    scheduler = torch.optim.lr_scheduler.StepLR(optimizer, step_size= 25 , gamma = 0.1)\n",
    "    \n",
    "    #Train Model\n",
    "    t = time.time()\n",
    "    for epoch in range(epochs):\n",
    "        for x, y in iter(train_loader):\n",
    "            model.train()\n",
    "            model.zero_grad()\n",
    "            \n",
    "            #forward\n",
    "            y_pred = model(x)\n",
    "            loss = cross(y_pred, y.long())\n",
    " \n",
    "            #backward + update\n",
    "            loss.backward()\n",
    "            optimizer.step()\n",
    "            \n",
    "            #store errors\n",
    "            with torch.no_grad():\n",
    "                y_train_pred = model(Tensor(X_train.values))\n",
    "                y_val_pred = model(Tensor(X_val.values))\n",
    "                \n",
    "                loss_train = cross(y_train_pred, Tensor(Y_train['target'].values).long())\n",
    "                loss_val = cross(y_val_pred, Tensor(Y_val['target'].values).long())\n",
    "                \n",
    "                losses_train.append(loss_train.item())\n",
    "                losses_val.append(loss_val.item())\n",
    "                \n",
    "                \n",
    "            if counter % 100 ==0:\n",
    "                print('Loss after iteration {}: {}'.format(counter, loss_train.item()))\n",
    "                \n",
    "            counter+=1 \n",
    "        scheduler.step()\n",
    "    time.time()-t        \n",
    "    \n",
    "    ##Returns train/val accuracy/losses, the losses during the training for plotting, the prediction probabilities to be used for ensemble stuff\n",
    "    return list(evaluate(model, X_train, Y_train)) + list(evaluate(model, X_val, Y_val)), (losses_train, losses_val), (y_train_pred,y_val_pred) \n",
    "\n",
    "def evaluate(model, x, y):\n",
    "    model.eval()\n",
    "    with torch.no_grad():\n",
    "        pred = model(Tensor(x.values))\n",
    "    global pred_results \n",
    "    pred_results = pd.Series(pred.max(1).indices)\n",
    "\n",
    "    return sklearn.metrics.accuracy_score(pred_results, y['target']), log_loss(y['target'], pred) "
   ]
  },
  {
   "cell_type": "code",
   "execution_count": 311,
   "metadata": {},
   "outputs": [],
   "source": [
    "input_size = len(x_train.drop(columns ='match_api_id').columns)\n",
    "output_size = 3\n",
    "\n",
    "model_dict = {\n",
    "\n",
    "'model4': LinearNN(5, [128,256,128,32,16], nn.ReLU(), 0.5),\n",
    "'model5': LinearNN(5, [128,512,256,128,32], nn.ReLU(), 0.5)}\n"
   ]
  },
  {
   "cell_type": "code",
   "execution_count": 317,
   "metadata": {},
   "outputs": [
    {
     "name": "stdout",
     "output_type": "stream",
     "text": [
      "model4\n",
      "Loss after iteration 0: 1.0974276065826416\n",
      "Loss after iteration 0: 1.0948771238327026\n",
      "Loss after iteration 0: 1.095057487487793\n",
      "model5\n",
      "Loss after iteration 0: 1.0869423151016235\n",
      "Loss after iteration 0: 1.080271601676941\n",
      "Loss after iteration 0: 1.0774931907653809\n"
     ]
    },
    {
     "data": {
      "text/html": [
       "<div>\n",
       "<style scoped>\n",
       "    .dataframe tbody tr th:only-of-type {\n",
       "        vertical-align: middle;\n",
       "    }\n",
       "\n",
       "    .dataframe tbody tr th {\n",
       "        vertical-align: top;\n",
       "    }\n",
       "\n",
       "    .dataframe thead th {\n",
       "        text-align: right;\n",
       "    }\n",
       "</style>\n",
       "<table border=\"1\" class=\"dataframe\">\n",
       "  <thead>\n",
       "    <tr style=\"text-align: right;\">\n",
       "      <th></th>\n",
       "      <th>t_acc</th>\n",
       "      <th>t_loss</th>\n",
       "      <th>v_acc</th>\n",
       "      <th>v_loss</th>\n",
       "    </tr>\n",
       "  </thead>\n",
       "  <tbody>\n",
       "    <tr>\n",
       "      <th>model4</th>\n",
       "      <td>0.348807</td>\n",
       "      <td>1.084618</td>\n",
       "      <td>0.346756</td>\n",
       "      <td>1.084636</td>\n",
       "    </tr>\n",
       "    <tr>\n",
       "      <th>model5</th>\n",
       "      <td>0.271814</td>\n",
       "      <td>1.116006</td>\n",
       "      <td>0.269079</td>\n",
       "      <td>1.116072</td>\n",
       "    </tr>\n",
       "  </tbody>\n",
       "</table>\n",
       "</div>"
      ],
      "text/plain": [
       "           t_acc    t_loss     v_acc    v_loss\n",
       "model4  0.348807  1.084618  0.346756  1.084636\n",
       "model5  0.271814  1.116006  0.269079  1.116072"
      ]
     },
     "execution_count": 317,
     "metadata": {},
     "output_type": "execute_result"
    }
   ],
   "source": [
    "splits = 3\n",
    "kf = KFold(n_splits=splits, random_state=1, shuffle=True)\n",
    "\n",
    "results = pd.DataFrame(data = 0, index = model_dict.keys(), columns = ['t_acc', 't_loss', 'v_acc', 'v_loss'])\n",
    "x_ens = pd.DataFrame(data =  0, index = x_train.index, columns = [])\n",
    "train_ens_dict = {}\n",
    "big_losses_list = []\n",
    "\n",
    "\n",
    "for model_name in model_dict:\n",
    "    \n",
    "    model = model_dict[model_name].model\n",
    "    x_train_ens = pd.DataFrame(data = 0, index = x_train.index, columns = ['{}_0'.format(model_name), '{}_1'.format(model_name), '{}_2'.format(model_name)])\n",
    "\n",
    "    print(model_name)\n",
    "    \n",
    "    for train_index, val_index in kf.split(x_train):    \n",
    "        \n",
    "        X_train, X_val = x_train[x_train.index.isin(train_index)], x_train[x_train.index.isin(val_index)]\n",
    "        Y_train, Y_val = y_train[y_train.index.isin(train_index)], y_train[y_train.index.isin(val_index)]\n",
    "        \n",
    "        results_list, losses, all_pred = train(model, X_train, Y_train, X_val, Y_val,  2, len(X_train), 0.001)\n",
    "        results.loc[model_name, :] = results.loc[model_name, :].add(results_list)\n",
    "        big_losses_list.append(losses)\n",
    "   \n",
    "        x_train_ens.loc[x_train_ens.index.isin(train_index), :] += (np.array(all_pred[0]))\n",
    "        x_train_ens.loc[x_train_ens.index.isin(val_index), :] += (np.array(all_pred[1]))\n",
    "        \n",
    "    train_ens_dict[model_name] = x_train_ens/splits\n",
    "    x_ens = pd.concat([x_ens, train_ens_dict[model_name]], axis = 1)\n",
    "    \n",
    "results /= splits\n",
    "results"
   ]
  },
  {
   "cell_type": "code",
   "execution_count": 322,
   "metadata": {},
   "outputs": [
    {
     "data": {
      "image/png": "[encoded data removed]",
      "text/plain": [
       "<Figure size 432x288 with 6 Axes>"
      ]
     },
     "metadata": {
      "needs_background": "light"
     },
     "output_type": "display_data"
    }
   ],
   "source": [
    "fig, axes = plt.subplots(nrows=len(model_dict), ncols=splits)\n",
    "for i, ax in enumerate(axes.flatten()):\n",
    "    if i < len(big_losses_list):\n",
    "        ax.plot(big_losses_list[i][0])\n",
    "        ax.plot(big_losses_list[i][1])\n",
    "        ax.set_title(results.index[math.floor(i/kf.n_splits)])\n"
   ]
  },
  {
   "cell_type": "code",
   "execution_count": 180,
   "metadata": {},
   "outputs": [],
   "source": [
    "def save_models(models):\n",
    "    for model in models:\n",
    "        torch.save(model_dict[model].model, './NN Models/{}.pt'.format(model))"
   ]
  },
  {
   "cell_type": "code",
   "execution_count": 350,
   "metadata": {},
   "outputs": [],
   "source": [
    "def ensemble_predict(models, x, y, scaler):\n",
    "    global pred_ensemble, y_ens\n",
    "    \n",
    "    pred_ensemble = 0\n",
    "    X = pd.DataFrame(scaler.transform(x.iloc[:,1:]), index = x['match_api_id'], columns = x.iloc[:,1:].columns)\n",
    "    \n",
    "    for i,model in enumerate(models):\n",
    "        model.eval()\n",
    "        with torch.no_grad():\n",
    "            pred = model(Tensor(X.values))\n",
    "            pred_ensemble += pred\n",
    "\n",
    "        \n",
    "    \n",
    "    y_ens = pd.Series(pred_ensemble.max(1).indices)\n",
    "    print('Ensemble Val accuracy: {}'.format(sklearn.metrics.accuracy_score(y_ens, y['target'])))\n"
   ]
  },
  {
   "cell_type": "code",
   "execution_count": 355,
   "metadata": {},
   "outputs": [
    {
     "name": "stdout",
     "output_type": "stream",
     "text": [
      "Ensemble Val accuracy: 0.28995095243526864\n"
     ]
    }
   ],
   "source": [
    "ensemble_predict([model_dict['model4'].model, model_dict['model5'].model], x_train, y_train, preprocessing.StandardScaler().fit(x_train.iloc[:,1:]))"
   ]
  },
  {
   "cell_type": "code",
   "execution_count": null,
   "metadata": {},
   "outputs": [],
   "source": []
  }
 ],
 "metadata": {
  "kernelspec": {
   "display_name": "Python 3",
   "language": "python",
   "name": "python3"
  },
  "language_info": {
   "codemirror_mode": {
    "name": "ipython",
    "version": 3
   },
   "file_extension": ".py",
   "mimetype": "text/x-python",
   "name": "python",
   "nbconvert_exporter": "python",
   "pygments_lexer": "ipython3",
   "version": "3.7.3"
  }
 },
 "nbformat": 4,
 "nbformat_minor": 4
}
