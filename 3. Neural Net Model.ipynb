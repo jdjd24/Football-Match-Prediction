{
 "cells": [
  {
   "cell_type": "code",
   "execution_count": 74,
   "metadata": {},
   "outputs": [],
   "source": [
    "import pandas as pd\n",
    "import matplotlib.pyplot as plt\n",
    "import torch\n",
    "import torch.nn as nn\n",
    "import numpy as np\n",
    "from torch.utils.data import DataLoader\n",
    "from torch.optim import lr_scheduler\n",
    "import time\n",
    "import matplotlib.pyplot as plt\n",
    "import sklearn.preprocessing as preprocessing\n",
    "import sklearn.metrics\n",
    "from sklearn.model_selection import train_test_split\n",
    "import math\n",
    "from torch.utils.data import DataLoader, TensorDataset\n",
    "from torch import Tensor\n",
    "from sklearn.utils import resample\n",
    "from sklearn.metrics import log_loss\n",
    "\n",
    "cross = nn.CrossEntropyLoss()"
   ]
  },
  {
   "cell_type": "markdown",
   "metadata": {},
   "source": [
    "## Data Processing"
   ]
  },
  {
   "cell_type": "code",
   "execution_count": 54,
   "metadata": {},
   "outputs": [
    {
     "data": {
      "text/plain": [
       "((8766, 53), (824, 53), (836, 53))"
      ]
     },
     "execution_count": 54,
     "metadata": {},
     "output_type": "execute_result"
    }
   ],
   "source": [
    "x_train = pd.read_csv('./Data with correct player_atts/x_train.csv')\n",
    "x_val = pd.read_csv('./Data with correct player_atts/x_val.csv')\n",
    "x_test = pd.read_csv('./Data with correct player_atts/x_test.csv')\n",
    "\n",
    "y_train = pd.read_csv('./Data with correct player_atts/y_train.csv')\n",
    "y_val = pd.read_csv('./Data with correct player_atts/y_val.csv')\n",
    "y_test = pd.read_csv('./Data with correct player_atts/y_test.csv')\n",
    "\n",
    "x_train.shape, x_val.shape, x_test.shape"
   ]
  },
  {
   "cell_type": "code",
   "execution_count": 62,
   "metadata": {},
   "outputs": [
    {
     "data": {
      "text/plain": [
       "0    0.459160\n",
       "2    0.287132\n",
       "1    0.253708\n",
       "Name: target, dtype: float64"
      ]
     },
     "execution_count": 62,
     "metadata": {},
     "output_type": "execute_result"
    }
   ],
   "source": [
    "## creating different training set for ensemble learning\n",
    "\n",
    "\n",
    "x1, x1_val, y1, y1_val = train_test_split(x_train,y_train, test_size = 8/84, random_state =1) \n",
    "x2, x2_val, y2, y2_val = train_test_split(x_train,y_train, test_size = 8/84, random_state =2) \n",
    "x3, x3_val, y3, y3_val = train_test_split(x_train,y_train, test_size = 8/84, random_state =3) \n",
    "\n",
    "#check distribution of classes\n",
    "y_train['target'].value_counts(normalize=True)"
   ]
  },
  {
   "cell_type": "markdown",
   "metadata": {},
   "source": [
    "## Training"
   ]
  },
  {
   "cell_type": "code",
   "execution_count": 68,
   "metadata": {
    "jupyter": {
     "source_hidden": true
    }
   },
   "outputs": [],
   "source": [
    "class LinearNN():\n",
    "    def __init__(self, num_layers, sizes, activation_type, drop_out):\n",
    "        self.model = self.n_layer_net(num_layers, sizes, activation_type, drop_out)\n",
    "        self.activation_type = activation_type\n",
    "        self.drop_out_p = drop_out\n",
    "        self.num_layers = num_layers\n",
    "        self.activation_type = activation_type\n",
    "        \n",
    "    \n",
    "    def n_layer_net(self, num_layers, sizes, activation_type, drop_out):\n",
    "        assert len(sizes) == num_layers\n",
    "  \n",
    "        if num_layers ==4:\n",
    "            model = nn.Sequential(nn.Linear(input_size, sizes[0]), activation_type, nn.Dropout(p=drop_out), nn.BatchNorm1d(sizes[0]), nn.Linear(sizes[0], sizes[1]),\n",
    "                    activation_type, nn.Dropout(p=drop_out), nn.BatchNorm1d(sizes[1]), nn.Linear(sizes[1], sizes[2]), activation_type, nn.Dropout(p=drop_out), \n",
    "                    nn.BatchNorm1d(sizes[2]), nn.Linear(sizes[2], sizes[3]), activation_type, nn.Dropout(p=drop_out), nn.BatchNorm1d(sizes[3]), nn.Linear(sizes[3],\n",
    "                    output_size), nn.Softmax(dim = 1)\n",
    "                        )     \n",
    "        elif num_layers ==5:\n",
    "            model = nn.Sequential(nn.Linear(input_size, sizes[0]), activation_type, nn.Dropout(p=drop_out), nn.BatchNorm1d(sizes[0]), nn.Linear(sizes[0], sizes[1]),\n",
    "                    activation_type, nn.Dropout(p=drop_out), nn.BatchNorm1d(sizes[1]), nn.Linear(sizes[1], sizes[2]), activation_type, nn.Dropout(p=drop_out), \n",
    "                    nn.BatchNorm1d(sizes[2]), nn.Linear(sizes[2], sizes[3]), activation_type, nn.Dropout(p=drop_out), nn.BatchNorm1d(sizes[3]), nn.Linear(sizes[3],\n",
    "                    sizes[4]), activation_type, nn.Dropout(p=drop_out), nn.BatchNorm1d(sizes[4]), nn.Linear(sizes[4], output_size), nn.Softmax(dim = 1)\n",
    "                        )  \n",
    "        elif num_layers ==6:\n",
    "            model = nn.Sequential(nn.Linear(input_size, sizes[0]), activation_type, nn.Dropout(p=drop_out), nn.BatchNorm1d(sizes[0]), nn.Linear(sizes[0], sizes[1]),\n",
    "                    activation_type, nn.Dropout(p=drop_out), nn.BatchNorm1d(sizes[1]), nn.Linear(sizes[1], sizes[2]), activation_type, nn.Dropout(p=drop_out), \n",
    "                    nn.BatchNorm1d(sizes[2]), nn.Linear(sizes[2], sizes[3]), activation_type, nn.Dropout(p=drop_out), nn.BatchNorm1d(sizes[3]), nn.Linear(sizes[3],\n",
    "                    sizes[4]), activation_type, nn.Dropout(p=drop_out), nn.BatchNorm1d(sizes[4]), nn.Linear(sizes[4], sizes[5]), activation_type, \n",
    "                    nn.Dropout(p=drop_out), nn.BatchNorm1d(sizes[5]), nn.Linear(sizes[5], output_size), nn.Softmax(dim = 1)\n",
    "                        )\n",
    "        elif num_layers ==7:\n",
    "            model = nn.Sequential(nn.Linear(input_size, sizes[0]), activation_type, nn.Dropout(p=drop_out), nn.BatchNorm1d(sizes[0]), nn.Linear(sizes[0], sizes[1]),\n",
    "                    activation_type, nn.Dropout(p=drop_out), nn.BatchNorm1d(sizes[1]), nn.Linear(sizes[1], sizes[2]), activation_type, nn.Dropout(p=drop_out), \n",
    "                    nn.BatchNorm1d(sizes[2]), nn.Linear(sizes[2], sizes[3]), activation_type, nn.Dropout(p=drop_out), nn.BatchNorm1d(sizes[3]), nn.Linear(sizes[3],\n",
    "                    sizes[4]), activation_type, nn.Dropout(p=drop_out), nn.BatchNorm1d(sizes[4]), nn.Linear(sizes[4], sizes[5]), activation_type, \n",
    "                    nn.Dropout(p=drop_out), nn.BatchNorm1d(sizes[5]), nn.Linear(sizes[5], sizes[6]), activation_type, \n",
    "                    nn.Dropout(p=drop_out), nn.BatchNorm1d(sizes[6]),  nn.Linear(sizes[6], output_size), nn.Softmax(dim = 1)\n",
    "                        )\n",
    "        elif num_layers ==8:\n",
    "            model = nn.Sequential(nn.Linear(input_size, sizes[0]), activation_type, nn.Dropout(p=drop_out), nn.BatchNorm1d(sizes[0]), nn.Linear(sizes[0], sizes[1]),\n",
    "                    activation_type, nn.Dropout(p=drop_out), nn.BatchNorm1d(sizes[1]), nn.Linear(sizes[1], sizes[2]), activation_type, nn.Dropout(p=drop_out), \n",
    "                    nn.BatchNorm1d(sizes[2]), nn.Linear(sizes[2], sizes[3]), activation_type, nn.Dropout(p=drop_out), nn.BatchNorm1d(sizes[3]), nn.Linear(sizes[3],\n",
    "                    sizes[4]), activation_type, nn.Dropout(p=drop_out), nn.BatchNorm1d(sizes[4]), nn.Linear(sizes[4], sizes[5]), activation_type, \n",
    "                    nn.Dropout(p=drop_out), nn.BatchNorm1d(sizes[5]), nn.Linear(sizes[5], sizes[6]), activation_type, \n",
    "                    nn.Dropout(p=drop_out), nn.BatchNorm1d(sizes[6]),nn.Linear(sizes[6], sizes[7]), activation_type, \n",
    "                    nn.Dropout(p=drop_out), nn.BatchNorm1d(sizes[7]),  nn.Linear(sizes[7], output_size), nn.Softmax(dim = 1)\n",
    "                        )\n",
    "        elif num_layers ==9:\n",
    "            model = nn.Sequential(nn.Linear(input_size, sizes[0]), activation_type, nn.Dropout(p=drop_out), nn.BatchNorm1d(sizes[0]), nn.Linear(sizes[0], sizes[1]),\n",
    "                    activation_type, nn.Dropout(p=drop_out), nn.BatchNorm1d(sizes[1]), nn.Linear(sizes[1], sizes[2]), activation_type, nn.Dropout(p=drop_out), \n",
    "                    nn.BatchNorm1d(sizes[2]), nn.Linear(sizes[2], sizes[3]), activation_type, nn.Dropout(p=drop_out), nn.BatchNorm1d(sizes[3]), nn.Linear(sizes[3],\n",
    "                    sizes[4]), activation_type, nn.Dropout(p=drop_out), nn.BatchNorm1d(sizes[4]), nn.Linear(sizes[4], sizes[5]), activation_type, \n",
    "                    nn.Dropout(p=drop_out), nn.BatchNorm1d(sizes[5]), nn.Linear(sizes[5], sizes[6]), activation_type, \n",
    "                    nn.Dropout(p=drop_out), nn.BatchNorm1d(sizes[6]),nn.Linear(sizes[6], sizes[7]), activation_type, \n",
    "                    nn.Dropout(p=drop_out), nn.BatchNorm1d(sizes[7]),nn.Linear(sizes[7], sizes[8]), activation_type, \n",
    "                    nn.Dropout(p=drop_out), nn.BatchNorm1d(sizes[8]),  nn.Linear(sizes[8], output_size), nn.Softmax(dim = 1)\n",
    "                        )\n",
    "        elif num_layers ==10:\n",
    "            model = nn.Sequential(nn.Linear(input_size, sizes[0]), activation_type, nn.Dropout(p=drop_out), nn.BatchNorm1d(sizes[0]), nn.Linear(sizes[0], sizes[1]),\n",
    "                    activation_type, nn.Dropout(p=drop_out), nn.BatchNorm1d(sizes[1]), nn.Linear(sizes[1], sizes[2]), activation_type, nn.Dropout(p=drop_out), \n",
    "                    nn.BatchNorm1d(sizes[2]), nn.Linear(sizes[2], sizes[3]), activation_type, nn.Dropout(p=drop_out), nn.BatchNorm1d(sizes[3]), nn.Linear(sizes[3],\n",
    "                    sizes[4]), activation_type, nn.Dropout(p=drop_out), nn.BatchNorm1d(sizes[4]), nn.Linear(sizes[4], sizes[5]), activation_type, \n",
    "                    nn.Dropout(p=drop_out), nn.BatchNorm1d(sizes[5]), nn.Linear(sizes[5], sizes[6]), activation_type, \n",
    "                    nn.Dropout(p=drop_out), nn.BatchNorm1d(sizes[6]),nn.Linear(sizes[6], sizes[7]), activation_type, \n",
    "                    nn.Dropout(p=drop_out), nn.BatchNorm1d(sizes[7]),nn.Linear(sizes[7], sizes[8]), activation_type, \n",
    "                    nn.Dropout(p=drop_out), nn.BatchNorm1d(sizes[8]),nn.Linear(sizes[8], sizes[9]), activation_type, \n",
    "                    nn.Dropout(p=drop_out), nn.BatchNorm1d(sizes[9]),  nn.Linear(sizes[9], output_size), nn.Softmax(dim = 1)\n",
    "                        )\n",
    "        else:\n",
    "            print('Invalid num_layers: choose between 4 and 7')\n",
    "        return model"
   ]
  },
  {
   "cell_type": "code",
   "execution_count": 76,
   "metadata": {},
   "outputs": [],
   "source": [
    "input_size = len(x_train.drop(columns ='match_api_id').columns)\n",
    "output_size = 3\n",
    "\n",
    "\n",
    "model4 = LinearNN(5, [128,256,128,32,16], nn.ReLU(), 0.5)\n",
    "model5 = LinearNN(5, [128,512,256,128,32], nn.ReLU(), 0.5)\n",
    "model6 = LinearNN(5, [64,512,256,128,32], nn.ReLU(), 0)\n",
    "model7 = LinearNN(6, [128,256,256,128,32,16], nn.ReLU(), 0.5)\n",
    "model8 = LinearNN(6, [64,256,256,128,64,32], nn.ReLU(), 0)\n",
    "model9 = LinearNN(6, [256,512,512,128,32,16], nn.ReLU(), 0.5)\n",
    "model10 = LinearNN(7, [64,256,256,128,32,16,8], nn.ReLU(), 0.5)\n",
    "model11 = LinearNN(7, [128,256,256,128,32,16,8], nn.ReLU(), 0)\n",
    "model12 = LinearNN(7, [256,512,128,64,32,16,8], nn.ReLU(), 0.5)\n",
    "model13 = LinearNN(8, [64,128,256,128,64,32,16,8], nn.ReLU(), 0.5)\n",
    "model14 = LinearNN(8, [128,256,256,128,64,32,16,8], nn.ReLU(), 0.5)\n",
    "model15 = LinearNN(8, [256,512,512,128,32,16,8,8], nn.ReLU(), 0.5)\n",
    "model13 = LinearNN(9, [64,128,256,256,128,64,32,16,8], nn.ReLU(), 0.5)\n",
    "model14 = LinearNN(9, [128,256,256,128,128,64,32,16,8], nn.ReLU(), 0.5)\n",
    "model15 = LinearNN(9, [256,512,512,256,128,32,16,8,8], nn.ReLU(), 0.5)\n",
    "model13 = LinearNN(10, [64,128,256,256,256,128,64,32,16,8], nn.ReLU(), 0.5)\n",
    "model14 = LinearNN(10, [128,256,256,512,256,128,64,32,16,8], nn.ReLU(), 0.5)\n",
    "model15 = LinearNN(10, [256,512,512,256,256,128,32,16,8,8], nn.ReLU(), 0.5)\n"
   ]
  },
  {
   "cell_type": "code",
   "execution_count": 57,
   "metadata": {
    "jupyter": {
     "source_hidden": true
    }
   },
   "outputs": [],
   "source": [
    "# Build Network\n",
    "input_size = len(x_train.drop(columns ='match_api_id').columns)\n",
    "hidden_sizes = [128,256,256,128,32,16]\n",
    "output_size = 3\n",
    "prob = 0.5\n",
    "# Build a feed-forward network\n",
    "LinearNN1 = nn.Sequential(nn.Linear(input_size, hidden_sizes[0]),\n",
    "                      nn.ReLU(),\n",
    "                          nn.Dropout(p=prob),\n",
    "                         nn.BatchNorm1d(hidden_sizes[0]),\n",
    "                      nn.Linear(hidden_sizes[0], hidden_sizes[1]),\n",
    "                      nn.ReLU(),\n",
    "                          nn.Dropout(p=prob),\n",
    "                         nn.BatchNorm1d(hidden_sizes[1]),\n",
    "                      nn.Linear(hidden_sizes[1], hidden_sizes[2]),\n",
    "                        nn.ReLU(),\n",
    "                          nn.Dropout(p=prob),\n",
    "                         nn.BatchNorm1d(hidden_sizes[2]),\n",
    "                        nn.Linear(hidden_sizes[2], hidden_sizes[3]),\n",
    "                        nn.ReLU(),\n",
    "                          nn.Dropout(p=prob),\n",
    "                         nn.BatchNorm1d(hidden_sizes[3]),\n",
    "                        nn.Linear(hidden_sizes[3], hidden_sizes[4]),\n",
    "                        nn.ReLU(),\n",
    "                         nn.Dropout(p=prob),\n",
    "                         nn.BatchNorm1d(hidden_sizes[4]),\n",
    "                         nn.Linear(hidden_sizes[4], output_size),\n",
    "                      nn.Softmax(dim = 1)\n",
    "                        )\n",
    "\n"
   ]
  },
  {
   "cell_type": "code",
   "execution_count": 10,
   "metadata": {
    "jupyter": {
     "source_hidden": true
    }
   },
   "outputs": [],
   "source": [
    "# Build Network\n",
    "input_size = len(x_train.drop(columns ='match_api_id').columns)\n",
    "hidden_sizes = [256,512,256,128,32,16]\n",
    "output_size = 3\n",
    "prob = 0.6\n",
    "# Build a feed-forward network\n",
    "LinearNN2 = nn.Sequential(nn.Linear(input_size, hidden_sizes[0]),\n",
    "                      nn.ReLU(),\n",
    "                          nn.Dropout(p=prob),\n",
    "                         nn.BatchNorm1d(hidden_sizes[0]),\n",
    "                      nn.Linear(hidden_sizes[0], hidden_sizes[1]),\n",
    "                      nn.ReLU(),\n",
    "                          nn.Dropout(p=prob),\n",
    "                         nn.BatchNorm1d(hidden_sizes[1]),\n",
    "                      nn.Linear(hidden_sizes[1], hidden_sizes[2]),\n",
    "                        nn.ReLU(),\n",
    "                          nn.Dropout(p=prob),\n",
    "                         nn.BatchNorm1d(hidden_sizes[2]),\n",
    "                        nn.Linear(hidden_sizes[2], hidden_sizes[3]),\n",
    "                        nn.ReLU(),\n",
    "                          nn.Dropout(p=prob),\n",
    "                         nn.BatchNorm1d(hidden_sizes[3]),\n",
    "                        nn.Linear(hidden_sizes[3], hidden_sizes[4]),\n",
    "                        nn.ReLU(),\n",
    "                         nn.Dropout(p=prob),\n",
    "                         nn.BatchNorm1d(hidden_sizes[4]),\n",
    "                        nn.Linear(hidden_sizes[4], hidden_sizes[5]),\n",
    "                        nn.ReLU(),\n",
    "                         nn.Dropout(p=prob),\n",
    "                         nn.BatchNorm1d(hidden_sizes[5]),\n",
    "                         nn.Linear(hidden_sizes[5], output_size),\n",
    "                      nn.Softmax(dim = 1)\n",
    "                        )\n",
    "\n"
   ]
  },
  {
   "cell_type": "code",
   "execution_count": 11,
   "metadata": {
    "jupyter": {
     "source_hidden": true
    }
   },
   "outputs": [],
   "source": [
    "# Build Network\n",
    "input_size = len(x_train.drop(columns ='match_api_id').columns)\n",
    "hidden_sizes = [512,256,128,64,32,16,8]\n",
    "output_size = 3\n",
    "prob = 0.6\n",
    "# Build a feed-forward network\n",
    "LinearNN3 = nn.Sequential(nn.Linear(input_size, hidden_sizes[0]),\n",
    "                      nn.Tanh(),\n",
    "                          nn.Dropout(p=prob),\n",
    "                         nn.BatchNorm1d(hidden_sizes[0]),\n",
    "                      nn.Linear(hidden_sizes[0], hidden_sizes[1]),\n",
    "                      nn.Tanh(),\n",
    "                          nn.Dropout(p=prob),\n",
    "                         nn.BatchNorm1d(hidden_sizes[1]),\n",
    "                      nn.Linear(hidden_sizes[1], hidden_sizes[2]),\n",
    "                        nn.Tanh(),\n",
    "                          nn.Dropout(p=prob),\n",
    "                         nn.BatchNorm1d(hidden_sizes[2]),\n",
    "                        nn.Linear(hidden_sizes[2], hidden_sizes[3]),\n",
    "                        nn.Tanh(),\n",
    "                          nn.Dropout(p=prob),\n",
    "                         nn.BatchNorm1d(hidden_sizes[3]),\n",
    "                        nn.Linear(hidden_sizes[3], hidden_sizes[4]),\n",
    "                        nn.ReLU(),\n",
    "                         nn.Dropout(p=prob),\n",
    "                         nn.BatchNorm1d(hidden_sizes[4]),\n",
    "                        nn.Linear(hidden_sizes[4], hidden_sizes[5]),\n",
    "                        nn.ReLU(),\n",
    "                         nn.Dropout(p=prob),\n",
    "                         nn.BatchNorm1d(hidden_sizes[5]),\n",
    "                            nn.Linear(hidden_sizes[5], hidden_sizes[6]),\n",
    "                        nn.ReLU(),\n",
    "                         nn.Dropout(p=prob),\n",
    "                         nn.BatchNorm1d(hidden_sizes[6]),\n",
    "                         nn.Linear(hidden_sizes[6], output_size),\n",
    "                      nn.Softmax(dim = 1)\n",
    "                        )\n",
    "\n"
   ]
  },
  {
   "cell_type": "code",
   "execution_count": 567,
   "metadata": {
    "jupyter": {
     "source_hidden": true
    }
   },
   "outputs": [],
   "source": [
    "# Hyperparameters\n",
    "\n",
    "batch_size = 512 #len(x_train)\n",
    "epochs = 20\n",
    "learning_rate = 0.001\n",
    "loss = 0\n",
    "losses = []\n",
    "losses_val = []\n",
    "counter = 0\n",
    "\n",
    "\n",
    "dataset = TensorDataset( Tensor(x_train.values), torch.Tensor(y_train['target'].values) )\n",
    "train_loader = DataLoader(dataset, batch_size = batch_size, shuffle=False)\n",
    "\n",
    "optimizer = torch.optim.Adam(LinearNN.parameters(), lr=learning_rate, betas=(0.9,0.999))\n",
    "\n",
    "scheduler = torch.optim.lr_scheduler.StepLR(optimizer, step_size= 60 , gamma = 0.1)\n",
    "mse = torch.nn.MSELoss()\n",
    "cross = nn.CrossEntropyLoss()"
   ]
  },
  {
   "cell_type": "code",
   "execution_count": null,
   "metadata": {
    "jupyter": {
     "source_hidden": true
    }
   },
   "outputs": [],
   "source": [
    "#Train Model\n",
    "\n",
    "t = time.time()\n",
    "for epoch in range(epochs):\n",
    "    for x, y in iter(train_loader):\n",
    "        LinearNN.train()\n",
    "        LinearNN.zero_grad()\n",
    "        \n",
    "        y_pred = LinearNN(x)\n",
    "        y_val_pred = LinearNN(Tensor(x_val.values))\n",
    "\n",
    "        loss = cross(y_pred, y.long())\n",
    "        loss_val = cross(y_val_pred, Tensor(y_val['target'].values).long())\n",
    "\n",
    "        if counter % 500 ==0:\n",
    "            print('Loss after iteration {}: {}'.format(counter, loss.item()))\n",
    "        \n",
    "        losses.append(loss.item())\n",
    "        losses_val.append(loss_val.item())\n",
    "        \n",
    "        loss.backward()\n",
    "        optimizer.step()\n",
    "        \n",
    "        counter+=1 \n",
    "    counter+=1\n",
    "    scheduler.step()\n",
    "time.time()-t        \n",
    "        \n",
    "        \n",
    "print('Elapsed time: {} s'.format(time.time()-t))    \n",
    "print(loss.item())  \n",
    "plt.plot(range(len(losses)), losses, label = 'train')\n",
    "plt.plot(range(len(losses)), losses_val, label = 'val')\n",
    "plt.legend(loc=\"lower left\")\n",
    "plt.show()"
   ]
  },
  {
   "cell_type": "code",
   "execution_count": null,
   "metadata": {
    "jupyter": {
     "source_hidden": true
    }
   },
   "outputs": [],
   "source": [
    "##Eval \n",
    "\n",
    "LinearNN.eval()\n",
    "with torch.no_grad():\n",
    "    val_pred = LinearNN(Tensor(x_val.values))\n",
    "    train_pred = LinearNN(Tensor(x_train.values))\n",
    "y_val_pred = pd.Series(val_pred.max(1).indices).map({0:1,1:0,2:-1})\n",
    "y_train_pred = pd.Series(train_pred.max(1).indices).map({0:1,1:0,2:-1})\n",
    "\n",
    "print(sklearn.metrics.accuracy_score(y_train_pred, y_train['result']))\n",
    "print(sklearn.metrics.accuracy_score(y_val_pred, y_val['result']))"
   ]
  },
  {
   "cell_type": "code",
   "execution_count": null,
   "metadata": {
    "jupyter": {
     "source_hidden": true
    }
   },
   "outputs": [],
   "source": [
    "##Test \n",
    "\n",
    "LinearNN.eval()\n",
    "with torch.no_grad():\n",
    "    val_pred = LinearNN(Tensor(x_test.values))\n",
    "    \n",
    "y_val_pred = pd.Series(val_pred.max(1).indices)\n",
    "sklearn.metrics.accuracy_score(y_val_pred, y_test['target'])"
   ]
  },
  {
   "cell_type": "code",
   "execution_count": 275,
   "metadata": {
    "jupyter": {
     "source_hidden": true
    }
   },
   "outputs": [
    {
     "data": {
      "text/plain": [
       " 1    797\n",
       "-1    296\n",
       "dtype: int64"
      ]
     },
     "execution_count": 275,
     "metadata": {},
     "output_type": "execute_result"
    }
   ],
   "source": [
    "y_val_pred.value_counts()"
   ]
  },
  {
   "cell_type": "markdown",
   "metadata": {},
   "source": [
    "## Ensemble Learning"
   ]
  },
  {
   "cell_type": "code",
   "execution_count": 80,
   "metadata": {},
   "outputs": [],
   "source": [
    "def train(model, X_train, Y_train, X_val, Y_val, epochs, batch_size, learning_rate):\n",
    "    StandardScaler = preprocessing.StandardScaler().fit(X_train.iloc[:,1:])\n",
    "    X_train = pd.DataFrame(StandardScaler.transform(X_train.iloc[:,1:]), index = X_train['match_api_id'], columns = X_train.iloc[:,1:].columns)\n",
    "    X_val = pd.DataFrame(StandardScaler.transform(X_val.iloc[:,1:]), index = X_val['match_api_id'], columns = X_val.iloc[:,1:].columns)\n",
    "    \n",
    "    loss, counter = 0, 0\n",
    "    losses, losses_val = [], []\n",
    "\n",
    "    dataset = TensorDataset(Tensor(X_train.values), torch.Tensor(Y_train['target'].values))\n",
    "    train_loader = DataLoader(dataset, batch_size = batch_size, shuffle=False)\n",
    "    optimizer = torch.optim.Adam(model.parameters(), lr=learning_rate, betas=(0.9,0.999), weight_decay=0.1)\n",
    "    scheduler = torch.optim.lr_scheduler.StepLR(optimizer, step_size= 25 , gamma = 0.1)\n",
    "    \n",
    "    #Train Model\n",
    "    t = time.time()\n",
    "    for epoch in range(epochs):\n",
    "        for x, y in iter(train_loader):\n",
    "            model.train()\n",
    "            model.zero_grad()\n",
    "            \n",
    "            #forward\n",
    "            y_pred = model(x)\n",
    "            loss = cross(y_pred, y.long())\n",
    "            losses.append(loss.item())\n",
    "            \n",
    "            #backward + update\n",
    "            loss.backward()\n",
    "            optimizer.step()\n",
    "            \n",
    "            #Val error\n",
    "            with torch.no_grad():\n",
    "                y_val_pred = model(Tensor(X_val.values))\n",
    "                loss_val = cross(y_val_pred, Tensor(Y_val['target'].values).long())\n",
    "                losses_val.append(loss_val.item())\n",
    "                \n",
    "            if counter % 100 ==0:\n",
    "                print('Loss after iteration {}: {}'.format(counter, loss.item()))\n",
    "                \n",
    "            counter+=1 \n",
    "        scheduler.step()\n",
    "    time.time()-t        \n",
    "\n",
    "\n",
    "    print('Elapsed time: {} s'.format(time.time()-t))    \n",
    "    print(loss.item())  \n",
    "    plt.plot(range(len(losses)), losses, label = 'train')\n",
    "    plt.plot(range(len(losses)), losses_val, label = 'val')\n",
    "    plt.legend(loc=\"lower left\")\n",
    "    plt.show()\n",
    "    \n",
    "    #Eval\n",
    "    print('Train Accuracy, Log Loss: {}'.format(evaluate(model, X_train, Y_train)))\n",
    "    print('Val Accuracy, Log Loss: {}'.format(evaluate(model, X_val, Y_val)))"
   ]
  },
  {
   "cell_type": "code",
   "execution_count": 59,
   "metadata": {},
   "outputs": [],
   "source": [
    "def evaluate(model, x, y):\n",
    "    model.eval()\n",
    "    with torch.no_grad():\n",
    "        pred = model(Tensor(x.values))\n",
    "    global pred_results \n",
    "    pred_results = pd.Series(pred.max(1).indices)\n",
    "\n",
    "    return sklearn.metrics.accuracy_score(pred_results, y['target'])"
   ]
  },
  {
   "cell_type": "code",
   "execution_count": 79,
   "metadata": {},
   "outputs": [
    {
     "name": "stdout",
     "output_type": "stream",
     "text": [
      "Loss after iteration 0: 0.9194628000259399\n",
      "Elapsed time: 14.638834714889526 s\n",
      "0.8957695960998535\n"
     ]
    },
    {
     "data": {
      "image/png": "[encoded data removed]",
      "text/plain": [
       "<Figure size 432x288 with 1 Axes>"
      ]
     },
     "metadata": {
      "needs_background": "light"
     },
     "output_type": "display_data"
    },
    {
     "name": "stdout",
     "output_type": "stream",
     "text": [
      "Train Accuracy, Log Loss: 0.7081074265540285\n",
      "Val Accuracy, Log Loss: 0.46706586826347307\n"
     ]
    }
   ],
   "source": [
    "train(model6.model, x1, y1, x1_val, y1_val,  10, len(x1), 0.001)\n",
    "#train(LinearNN2, x2, y2, x_val, y_val,  20, len(x2), 0.0001)\n",
    "#train(LinearNN3, x3, y3, x_val, y_val,  50, 4096, 0.001)"
   ]
  },
  {
   "cell_type": "code",
   "execution_count": 67,
   "metadata": {},
   "outputs": [
    {
     "data": {
      "text/plain": [
       "0    0.692961\n",
       "2    0.307039\n",
       "dtype: float64"
      ]
     },
     "execution_count": 67,
     "metadata": {},
     "output_type": "execute_result"
    }
   ],
   "source": [
    "pred_results.value_counts(normalize=True)"
   ]
  },
  {
   "cell_type": "code",
   "execution_count": 765,
   "metadata": {},
   "outputs": [
    {
     "name": "stdout",
     "output_type": "stream",
     "text": [
      "Loss after iteration 0: 1.0808428525924683\n",
      "Elapsed time: 71.02489614486694 s\n",
      "1.0622118711471558\n"
     ]
    },
    {
     "data": {
      "image/png": "[encoded data removed]",
      "text/plain": [
       "<Figure size 432x288 with 1 Axes>"
      ]
     },
     "metadata": {
      "needs_background": "light"
     },
     "output_type": "display_data"
    },
    {
     "name": "stdout",
     "output_type": "stream",
     "text": [
      "Train accuracy: 0.5218150087260035\n",
      "Val accuracy: 0.5458422174840085\n"
     ]
    }
   ],
   "source": [
    "train(LinearNN3, x3, y3, x_val, y_val,  50, 2048, 0.001)"
   ]
  },
  {
   "cell_type": "code",
   "execution_count": 778,
   "metadata": {},
   "outputs": [],
   "source": [
    "# torch.save(LinearNN1, './nn1.pt')\n",
    "# torch.save(LinearNN2, './nn2.pt')\n",
    "# torch.save(LinearNN3, './nn3.pt')"
   ]
  },
  {
   "cell_type": "code",
   "execution_count": 704,
   "metadata": {},
   "outputs": [],
   "source": [
    "def ensemble_predict(models, training_data, training_labels, x_val, y_val):\n",
    "    ensemble = []\n",
    "    val_pred_ensemble = 0\n",
    "    for i,model in enumerate(models):\n",
    "        StandardScaler = preprocessing.StandardScaler().fit(training_data[i].iloc[:,1:])\n",
    "        X_train = pd.DataFrame(StandardScaler.transform(training_data[i].iloc[:,1:]), index = training_data[i]['match_api_id'], columns = training_data[i].iloc[:,1:].columns)\n",
    "        X_val = pd.DataFrame(StandardScaler.transform(x_val.iloc[:,1:]), index = x_val['match_api_id'], columns = x_val.iloc[:,1:].columns)\n",
    "        \n",
    "        model.eval()\n",
    "        with torch.no_grad():\n",
    "            val_pred = model(Tensor(X_val.values))\n",
    "            train_pred = model(Tensor(X_train.values))\n",
    "        y_val_pred = pd.Series(val_pred.max(1).indices)\n",
    "        y_train_pred = pd.Series(train_pred.max(1).indices)\n",
    "        \n",
    "        val_pred_ensemble += val_pred\n",
    "        print('model: {}'.format(i))\n",
    "        print('Train accuracy: {}'.format(sklearn.metrics.accuracy_score(y_train_pred, training_labels[i]['target'])))\n",
    "        print('Val accuracy: {}'.format(sklearn.metrics.accuracy_score(y_val_pred, y_val['target'])))\n",
    "        \n",
    "    global y_ens\n",
    "    y_ens = pd.Series(val_pred_ensemble.max(1).indices)\n",
    "    print('Ensemble Val accuracy: {}'.format(sklearn.metrics.accuracy_score(y_ens, y_val['target'])))\n"
   ]
  },
  {
   "cell_type": "code",
   "execution_count": 772,
   "metadata": {},
   "outputs": [
    {
     "name": "stdout",
     "output_type": "stream",
     "text": [
      "model: 0\n",
      "Train accuracy: 0.5629726585223968\n",
      "Val accuracy: 0.5362473347547975\n",
      "model: 1\n",
      "Train accuracy: 0.5158522396742292\n",
      "Val accuracy: 0.523454157782516\n",
      "model: 2\n",
      "Train accuracy: 0.5218150087260035\n",
      "Val accuracy: 0.5458422174840085\n",
      "Ensemble Val accuracy: 0.5511727078891258\n"
     ]
    }
   ],
   "source": [
    "ensemble_predict([LinearNN1,LinearNN2,LinearNN3], [x1,x2,x3], [y1,y2,y3], x_val, y_val)"
   ]
  },
  {
   "cell_type": "code",
   "execution_count": 773,
   "metadata": {},
   "outputs": [
    {
     "name": "stdout",
     "output_type": "stream",
     "text": [
      "model: 0\n",
      "Train accuracy: 0.5629726585223968\n",
      "Val accuracy: 0.5362473347547975\n",
      "model: 1\n",
      "Train accuracy: 0.5218150087260035\n",
      "Val accuracy: 0.5458422174840085\n",
      "Ensemble Val accuracy: 0.5501066098081023\n"
     ]
    }
   ],
   "source": [
    "ensemble_predict([LinearNN1,LinearNN3], [x1,x3], [y1,y3], x_val, y_val)"
   ]
  },
  {
   "cell_type": "code",
   "execution_count": 774,
   "metadata": {},
   "outputs": [
    {
     "name": "stdout",
     "output_type": "stream",
     "text": [
      "model: 0\n",
      "Train accuracy: 0.5629726585223968\n",
      "Val accuracy: 0.5362473347547975\n",
      "model: 1\n",
      "Train accuracy: 0.5158522396742292\n",
      "Val accuracy: 0.523454157782516\n",
      "Ensemble Val accuracy: 0.5415778251599147\n"
     ]
    }
   ],
   "source": [
    "ensemble_predict([LinearNN1,LinearNN2], [x1,x2], [y1,y2], x_val, y_val)"
   ]
  },
  {
   "cell_type": "code",
   "execution_count": 775,
   "metadata": {},
   "outputs": [
    {
     "name": "stdout",
     "output_type": "stream",
     "text": [
      "model: 0\n",
      "Train accuracy: 0.5158522396742292\n",
      "Val accuracy: 0.523454157782516\n",
      "model: 1\n",
      "Train accuracy: 0.5218150087260035\n",
      "Val accuracy: 0.5458422174840085\n",
      "Ensemble Val accuracy: 0.5479744136460555\n"
     ]
    }
   ],
   "source": [
    "ensemble_predict([LinearNN2,LinearNN3], [x2,x3], [y2,y3], x_val, y_val)"
   ]
  },
  {
   "cell_type": "code",
   "execution_count": null,
   "metadata": {},
   "outputs": [],
   "source": []
  },
  {
   "cell_type": "code",
   "execution_count": 707,
   "metadata": {},
   "outputs": [
    {
     "data": {
      "text/plain": [
       " 1    1007\n",
       "-1     305\n",
       "dtype: int64"
      ]
     },
     "execution_count": 707,
     "metadata": {},
     "output_type": "execute_result"
    }
   ],
   "source": [
    "y_ens.value_counts()"
   ]
  },
  {
   "cell_type": "code",
   "execution_count": null,
   "metadata": {},
   "outputs": [],
   "source": []
  }
 ],
 "metadata": {
  "kernelspec": {
   "display_name": "Python 3",
   "language": "python",
   "name": "python3"
  },
  "language_info": {
   "codemirror_mode": {
    "name": "ipython",
    "version": 3
   },
   "file_extension": ".py",
   "mimetype": "text/x-python",
   "name": "python",
   "nbconvert_exporter": "python",
   "pygments_lexer": "ipython3",
   "version": "3.7.3"
  }
 },
 "nbformat": 4,
 "nbformat_minor": 4
}
