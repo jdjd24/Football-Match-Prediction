{
 "cells": [
  {
   "cell_type": "code",
   "execution_count": 173,
   "metadata": {},
   "outputs": [],
   "source": [
    "import pandas as pd\n",
    "import matplotlib.pyplot as plt\n",
    "import torch\n",
    "import torch.nn as nn\n",
    "import numpy as np\n",
    "from torch.utils.data import DataLoader\n",
    "from torch.optim import lr_scheduler\n",
    "import time\n",
    "import matplotlib.pyplot as plt\n",
    "import sklearn.preprocessing as preprocessing\n",
    "import sklearn.metrics\n",
    "import math\n",
    "from torch.utils.data import DataLoader, TensorDataset\n",
    "from torch import Tensor"
   ]
  },
  {
   "cell_type": "code",
   "execution_count": 478,
   "metadata": {},
   "outputs": [],
   "source": [
    "x_train = pd.read_csv('x_train_full.csv')\n",
    "x_val = pd.read_csv('x_val_full.csv')\n",
    "x_test = pd.read_csv('x_test_full.csv')\n",
    "y_train = pd.read_csv('y_train.csv')\n",
    "y_val = pd.read_csv('y_val.csv')\n",
    "y_test = pd.read_csv('y_test.csv')"
   ]
  },
  {
   "cell_type": "code",
   "execution_count": 479,
   "metadata": {},
   "outputs": [],
   "source": [
    "min_max_scaler = preprocessing.MinMaxScaler()\n",
    "\n",
    "x_train = pd.DataFrame(min_max_scaler.fit_transform(x_train), index = x_train['match_api_id'], columns = x_train.columns)\n",
    "x_val = pd.DataFrame(min_max_scaler.fit_transform(x_val), index = x_val['match_api_id'], columns = x_val.columns)\n",
    "x_test = pd.DataFrame(min_max_scaler.fit_transform(x_test), index = x_test['match_api_id'], columns = x_test.columns)"
   ]
  },
  {
   "cell_type": "code",
   "execution_count": 480,
   "metadata": {},
   "outputs": [],
   "source": [
    "label_dict = {1:0, 0:1, -1:2 }\n",
    "y_train['target'] = y_train['result'].map(label_dict)\n",
    "y_val['target'] =  y_val['result'].map(label_dict)\n",
    "y_test['target'] =  y_test['result'].map(label_dict)"
   ]
  },
  {
   "cell_type": "code",
   "execution_count": 502,
   "metadata": {},
   "outputs": [],
   "source": [
    "# Build Network\n",
    "input_size = 781\n",
    "hidden_sizes = [256,256,128,64]\n",
    "output_size = 3\n",
    "\n",
    "# Build a feed-forward network\n",
    "LinearNN = nn.Sequential(nn.Linear(input_size, hidden_sizes[0]),\n",
    "                      nn.Tanh(),\n",
    "                      nn.Linear(hidden_sizes[0], hidden_sizes[1]),\n",
    "                      nn.ReLU(),\n",
    "                      nn.Linear(hidden_sizes[1], hidden_sizes[2]),\n",
    "                        nn.ReLU(),\n",
    "                        nn.Linear(hidden_sizes[2], hidden_sizes[3]),\n",
    "                        nn.ReLU(),\n",
    "                      nn.Linear(hidden_sizes[3], output_size),\n",
    "                      nn.Softmax()\n",
    "                        )\n"
   ]
  },
  {
   "cell_type": "code",
   "execution_count": 514,
   "metadata": {},
   "outputs": [],
   "source": [
    "# Hyperparameters\n",
    "\n",
    "batch_size =  1024 #len(x_train)\n",
    "epochs = 50\n",
    "learning_rate = 0.00001\n",
    "loss = 0\n",
    "losses = []\n",
    "counter = 0\n",
    "\n",
    "dataset = TensorDataset( Tensor(x_train.values), torch.Tensor(y_train['target']) )\n",
    "train_loader = DataLoader(dataset, batch_size = batch_size, shuffle=False)\n",
    "\n",
    "optimizer = torch.optim.RMSprop(LinearNN.parameters(), lr=learning_rate)\n",
    "\n",
    "scheduler = torch.optim.lr_scheduler.StepLR(optimizer, step_size= 10 , gamma = 0.1)\n",
    "mse = torch.nn.MSELoss()\n",
    "cross = nn.CrossEntropyLoss()"
   ]
  },
  {
   "cell_type": "code",
   "execution_count": 515,
   "metadata": {},
   "outputs": [
    {
     "name": "stdout",
     "output_type": "stream",
     "text": [
      "Loss after iteration 0: 0.9861227869987488\n",
      "Loss after iteration 500: 1.0066274404525757\n",
      "Elapsed time: 42.99498915672302 s\n",
      "0.9862755537033081\n"
     ]
    },
    {
     "data": {
      "image/png": "[encoded data removed]",
      "text/plain": [
       "<Figure size 432x288 with 1 Axes>"
      ]
     },
     "metadata": {
      "needs_background": "light"
     },
     "output_type": "display_data"
    }
   ],
   "source": [
    "#Train Model\n",
    "\n",
    "t = time.time()\n",
    "for epoch in range(epochs):\n",
    "    for x, y in iter(train_loader):\n",
    "        LinearNN.train()\n",
    "        LinearNN.zero_grad()\n",
    "        \n",
    "        y_pred = LinearNN(x)\n",
    "        loss = cross(y_pred, y.long())\n",
    "        \n",
    "        if counter % 500 ==0:\n",
    "            print('Loss after iteration {}: {}'.format(counter, loss.item()))\n",
    "        \n",
    "        losses.append(loss.item())\n",
    "        \n",
    "        loss.backward()\n",
    "        optimizer.step()\n",
    "        \n",
    "        counter+=1 \n",
    "    counter+=1\n",
    "    scheduler.step()\n",
    "time.time()-t        \n",
    "        \n",
    "        \n",
    "print('Elapsed time: {} s'.format(time.time()-t))    \n",
    "print(loss.item())  \n",
    "plt.plot(range(len(losses)), losses)\n",
    "plt.show()"
   ]
  },
  {
   "cell_type": "code",
   "execution_count": 517,
   "metadata": {},
   "outputs": [
    {
     "data": {
      "text/plain": [
       "0.5164533820840951"
      ]
     },
     "execution_count": 517,
     "metadata": {},
     "output_type": "execute_result"
    }
   ],
   "source": [
    "##Eval \n",
    "\n",
    "LinearNN.eval()\n",
    "with torch.no_grad():\n",
    "    val_pred = LinearNN(Tensor(x_val.values))\n",
    "    \n",
    "y_val_pred = pd.Series(val_pred.max(1).indices).map({0:1,1:0,2:-1})\n",
    "sklearn.metrics.accuracy_score(y_val_pred, y_val['result'])"
   ]
  },
  {
   "cell_type": "code",
   "execution_count": 518,
   "metadata": {},
   "outputs": [
    {
     "data": {
      "text/plain": [
       " 1    744\n",
       "-1    331\n",
       " 0     19\n",
       "dtype: int64"
      ]
     },
     "execution_count": 518,
     "metadata": {},
     "output_type": "execute_result"
    }
   ],
   "source": [
    "y_val_pred.value_counts()"
   ]
  },
  {
   "cell_type": "code",
   "execution_count": null,
   "metadata": {},
   "outputs": [],
   "source": []
  },
  {
   "cell_type": "code",
   "execution_count": null,
   "metadata": {},
   "outputs": [],
   "source": []
  },
  {
   "cell_type": "code",
   "execution_count": 129,
   "metadata": {},
   "outputs": [
    {
     "ename": "NameError",
     "evalue": "name 'data_train' is not defined",
     "output_type": "error",
     "traceback": [
      "\u001b[1;31m---------------------------------------------------------------------------\u001b[0m",
      "\u001b[1;31mNameError\u001b[0m                                 Traceback (most recent call last)",
      "\u001b[1;32m<ipython-input-129-409a2a4e6e5f>\u001b[0m in \u001b[0;36m<module>\u001b[1;34m\u001b[0m\n\u001b[0;32m      1\u001b[0m \u001b[0mpredictions\u001b[0m \u001b[1;33m=\u001b[0m \u001b[1;33m[\u001b[0m\u001b[1;33m]\u001b[0m\u001b[1;33m\u001b[0m\u001b[1;33m\u001b[0m\u001b[0m\n\u001b[0;32m      2\u001b[0m \u001b[0mactuals\u001b[0m \u001b[1;33m=\u001b[0m \u001b[1;33m[\u001b[0m\u001b[1;33m]\u001b[0m\u001b[1;33m\u001b[0m\u001b[1;33m\u001b[0m\u001b[0m\n\u001b[1;32m----> 3\u001b[1;33m \u001b[0msplit_index\u001b[0m \u001b[1;33m=\u001b[0m \u001b[0mlen\u001b[0m\u001b[1;33m(\u001b[0m\u001b[0mdata_train\u001b[0m\u001b[1;33m)\u001b[0m\u001b[1;33m\u001b[0m\u001b[1;33m\u001b[0m\u001b[0m\n\u001b[0m\u001b[0;32m      4\u001b[0m \u001b[0mpredictions_auto\u001b[0m \u001b[1;33m=\u001b[0m \u001b[1;33m[\u001b[0m\u001b[1;33m]\u001b[0m\u001b[1;33m\u001b[0m\u001b[1;33m\u001b[0m\u001b[0m\n\u001b[0;32m      5\u001b[0m \u001b[0mseq_len\u001b[0m \u001b[1;33m=\u001b[0m \u001b[1;36m50\u001b[0m\u001b[1;33m\u001b[0m\u001b[1;33m\u001b[0m\u001b[0m\n",
      "\u001b[1;31mNameError\u001b[0m: name 'data_train' is not defined"
     ]
    }
   ],
   "source": [
    "predictions = []\n",
    "actuals = []\n",
    "split_index = len(data_train)\n",
    "predictions_auto = []\n",
    "seq_len = 50\n",
    "lstm_model.eval()\n",
    "\n",
    "plot_data = data_train + data_val\n",
    "for pair in plot_data:\n",
    "    \n",
    "    with torch.no_grad():\n",
    "        x = pair[0]\n",
    "        actuals.append(pair[1][0].item())\n",
    "        y_pred, h = lstm_model(x.view(seq_len,-1,6))\n",
    "        predictions.append(y_pred[:,0].item())\n",
    "        \n",
    "last_seq = data_train[-1][0].view(seq_len,-1,6)\n",
    "\n",
    "for i in range(len(data_val)):\n",
    "    \n",
    "    with torch.no_grad():\n",
    "        y_pred, _ = lstm_model(last_seq)\n",
    "        predictions_auto.append(y_pred[:,0].item())\n",
    "        last_seq = torch.cat([last_seq,y_pred.view(1,1,6)])\n",
    "        last_seq = last_seq[1:,:,:]\n",
    "\n",
    "        \n",
    "\n",
    "\n",
    "plt.plot(range(len(predictions)), predictions)\n",
    "plt.plot(range(len(actuals)), actuals)\n",
    "#plt.plot(range(len(data_train)+1, len(data_train+data_val)+1), predictions_auto)\n",
    "\n",
    "\n",
    "plt.axvline(x =split_index, linewidth=1, color='r')\n",
    "plt.show()\n",
    "\n",
    "print('Test Set Error: {}'.format(sklearn.metrics.mean_squared_error(predictions[:split_index], actuals[:split_index])))\n",
    "print('Validation Set Error: {}'.format(sklearn.metrics.mean_squared_error(predictions[split_index:], actuals[split_index:])))"
   ]
  },
  {
   "cell_type": "code",
   "execution_count": null,
   "metadata": {},
   "outputs": [],
   "source": []
  }
 ],
 "metadata": {
  "kernelspec": {
   "display_name": "Python 3",
   "language": "python",
   "name": "python3"
  },
  "language_info": {
   "codemirror_mode": {
    "name": "ipython",
    "version": 3
   },
   "file_extension": ".py",
   "mimetype": "text/x-python",
   "name": "python",
   "nbconvert_exporter": "python",
   "pygments_lexer": "ipython3",
   "version": "3.7.3"
  }
 },
 "nbformat": 4,
 "nbformat_minor": 4
}
