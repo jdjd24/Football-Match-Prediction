{
 "cells": [
  {
   "cell_type": "code",
   "execution_count": 1,
   "metadata": {},
   "outputs": [],
   "source": [
    "import pandas as pd\n",
    "import matplotlib.pyplot as plt\n",
    "import torch\n",
    "import torch.nn as nn\n",
    "import numpy as np\n",
    "from torch.utils.data import DataLoader\n",
    "from torch.optim import lr_scheduler\n",
    "import time\n",
    "import matplotlib.pyplot as plt\n",
    "import sklearn.preprocessing as preprocessing\n",
    "import sklearn.metrics\n",
    "from sklearn.model_selection import train_test_split\n",
    "import math\n",
    "from torch.utils.data import DataLoader, TensorDataset\n",
    "from torch import Tensor\n",
    "from sklearn.utils import resample\n",
    "from sklearn.metrics import log_loss\n",
    "from sklearn.model_selection import KFold\n",
    "from sklearn.ensemble import RandomForestClassifier\n",
    "from sklearn.metrics import roc_auc_score\n",
    "import os\n",
    "from pathlib import Path\n",
    "from sklearn.metrics import accuracy_score\n",
    "from sklearn.linear_model import LogisticRegression\n",
    "from sklearn.inspection import permutation_importance\n",
    "\n",
    "%load_ext autoreload\n",
    "%autoreload 2\n",
    "from NNFunctions import *"
   ]
  },
  {
   "cell_type": "markdown",
   "metadata": {},
   "source": [
    "## Load Data"
   ]
  },
  {
   "cell_type": "code",
   "execution_count": 2,
   "metadata": {},
   "outputs": [
    {
     "data": {
      "text/plain": [
       "((14611, 53), (1376, 53), (1383, 53))"
      ]
     },
     "execution_count": 2,
     "metadata": {},
     "output_type": "execute_result"
    }
   ],
   "source": [
    "x_train = pd.read_csv('./Data with correct player_atts/x_train.csv')\n",
    "x_val = pd.read_csv('./Data with correct player_atts/x_val.csv')\n",
    "x_test = pd.read_csv('./Data with correct player_atts/x_test.csv')\n",
    "\n",
    "y_train = pd.read_csv('./Data with correct player_atts/y_train.csv')\n",
    "y_val = pd.read_csv('./Data with correct player_atts/y_val.csv')\n",
    "y_test = pd.read_csv('./Data with correct player_atts/y_test.csv')\n",
    "\n",
    "x_train.shape, x_val.shape, x_test.shape"
   ]
  },
  {
   "cell_type": "code",
   "execution_count": 3,
   "metadata": {},
   "outputs": [
    {
     "name": "stdout",
     "output_type": "stream",
     "text": [
      "Train B365 log_loss: 0.9751891448037668\n",
      "Val B365 log_loss: 0.9566483812081246\n",
      "Test B365 log_loss: 0.9665172728104048\n"
     ]
    }
   ],
   "source": [
    "print('Train B365 log_loss: {}'.format(log_loss(y_train.target, x_train[[ 'B365H','B365D', 'B365A']])))\n",
    "print('Val B365 log_loss: {}'.format(log_loss(y_val.target, x_val[[ 'B365H', 'B365D', 'B365A']])))\n",
    "print('Test B365 log_loss: {}'.format(log_loss(y_test.target, x_test[[ 'B365H', 'B365D', 'B365A']])))"
   ]
  },
  {
   "cell_type": "markdown",
   "metadata": {},
   "source": [
    "## Initialise Models"
   ]
  },
  {
   "cell_type": "code",
   "execution_count": 6,
   "metadata": {
    "jupyter": {
     "source_hidden": true
    }
   },
   "outputs": [],
   "source": [
    "\n",
    "input_size = len(x_train.drop(columns ='match_api_id').columns)\n",
    "output_size = 3\n",
    "\n",
    "model_dict = {\n",
    "\n",
    "'model4': LinearNN(5, (input_size,output_size), [128,256,128,32,16], nn.ReLU(), 0.5),\n",
    "'model5': LinearNN(5, (input_size,output_size), [128,512,256,128,32], nn.ReLU(), 0.5),\n",
    "'model6': LinearNN(5, (input_size,output_size), [64,512,256,128,32], nn.ReLU(), 0),\n",
    "'model7': LinearNN(6, (input_size,output_size), [128,256,256,128,32,16], nn.ReLU(), 0.5),\n",
    "'model8': LinearNN(6, (input_size,output_size), [64,256,256,128,64,32], nn.ReLU(), 0),\n",
    "'model9': LinearNN(6, (input_size,output_size), [256,512,512,128,32,16], nn.ReLU(), 0.5),\n",
    "'model10': LinearNN(7, (input_size,output_size), [64,256,256,128,32,16,8], nn.ReLU(), 0.5),\n",
    "'model11': LinearNN(7, (input_size,output_size), [128,256,256,128,32,16,8], nn.ReLU(), 0),\n",
    "'model12': LinearNN(7, (input_size,output_size), [256,512,128,64,32,16,8], nn.ReLU(), 0.5),\n",
    "'model13': LinearNN(8, (input_size,output_size), [64,128,256,128,64,32,16,8], nn.ReLU(), 0.5),\n",
    "'model14': LinearNN(8, (input_size,output_size), [128,256,256,128,64,32,16,8], nn.ReLU(), 0.5),\n",
    "'model15': LinearNN(8, (input_size,output_size), [256,512,512,128,32,16,8,8], nn.ReLU(), 0.5),\n",
    "'model13': LinearNN(9, (input_size,output_size), [64,128,256,256,128,64,32,16,8], nn.ReLU(), 0.5),\n",
    "'model14': LinearNN(9, (input_size,output_size), [128,256,256,128,128,64,32,16,8], nn.ReLU(), 0.5),\n",
    "'model15': LinearNN(9, (input_size,output_size), [256,512,512,256,128,32,16,8,8], nn.ReLU(), 0.5),\n",
    "'model13': LinearNN(10, (input_size,output_size), [64,128,256,256,256,128,64,32,16,8], nn.ReLU(), 0.5),\n",
    "'model14': LinearNN(10, (input_size,output_size), [128,256,256,512,256,128,64,32,16,8], nn.ReLU(), 0.5),\n",
    "'model15': LinearNN(10, (input_size,output_size), [256,512,512,256,256,128,32,16,8,8], nn.ReLU(), 0.5),\n",
    "}"
   ]
  },
  {
   "cell_type": "code",
   "execution_count": 6,
   "metadata": {
    "jupyter": {
     "source_hidden": true
    }
   },
   "outputs": [],
   "source": [
    "\n",
    "input_size = len(x_train.drop(columns ='match_api_id').columns)\n",
    "output_size = 3\n",
    "\n",
    "model_dict = {\n",
    "\n",
    "'model4': LinearNN(5, (input_size,output_size), [128,256,128,32,16], nn.ReLU(), 0.5),\n",
    "'model5': LinearNN(5, (input_size,output_size), [128,512,256,128,32], nn.ReLU(), 0.5),\n",
    "'model6': LinearNN(5, (input_size,output_size), [64,512,256,128,32], nn.ReLU(), 0),\n",
    "'model7': LinearNN(6, (input_size,output_size), [128,256,256,128,32,16], nn.ReLU(), 0.5),\n",
    "'model8': LinearNN(6, (input_size,output_size), [64,256,256,128,64,32], nn.ReLU(), 0),\n",
    "'model9': LinearNN(6, (input_size,output_size), [256,512,512,128,32,16], nn.ReLU(), 0.5),\n",
    "'model10': LinearNN(7, (input_size,output_size), [64,256,256,128,32,16,8], nn.ReLU(), 0.5),\n",
    "'model11': LinearNN(7, (input_size,output_size), [128,256,256,128,32,16,8], nn.ReLU(), 0),\n",
    "'model12': LinearNN(7, (input_size,output_size), [256,512,128,64,32,16,8], nn.ReLU(), 0.5),\n",
    "'model13': LinearNN(8, (input_size,output_size), [64,128,256,128,64,32,16,8], nn.ReLU(), 0.5),\n",
    "'model14': LinearNN(8, (input_size,output_size), [128,256,256,128,64,32,16,8], nn.ReLU(), 0.5),\n",
    "'model15': LinearNN(8, (input_size,output_size), [256,512,512,128,32,16,8,8], nn.ReLU(), 0.5),\n",
    "'model13': LinearNN(9, (input_size,output_size), [64,128,256,256,128,64,32,16,8], nn.ReLU(), 0.5),\n",
    "'model14': LinearNN(9, (input_size,output_size), [128,256,256,128,128,64,32,16,8], nn.ReLU(), 0.5),\n",
    "'model15': LinearNN(9, (input_size,output_size), [256,512,512,256,128,32,16,8,8], nn.ReLU(), 0.5),\n",
    "'model13': LinearNN(10, (input_size,output_size), [64,128,256,256,256,128,64,32,16,8], nn.ReLU(), 0.5),\n",
    "'model14': LinearNN(10, (input_size,output_size), [128,256,256,512,256,128,64,32,16,8], nn.ReLU(), 0.5),\n",
    "'model15': LinearNN(10, (input_size,output_size), [256,512,512,256,256,128,32,16,8,8], nn.ReLU(), 0.5),\n",
    "}"
   ]
  },
  {
   "cell_type": "markdown",
   "metadata": {},
   "source": [
    "## Train Models"
   ]
  },
  {
   "cell_type": "code",
   "execution_count": 4,
   "metadata": {},
   "outputs": [],
   "source": [
    "input_size = len(x_train.drop(columns ='match_api_id').columns)\n",
    "output_size = 3\n",
    "\n",
    "model_dict = {\n",
    "\n",
    "#'model4': LinearNN(5, (input_size,output_size), [128,256,128,32,16], nn.ReLU(), 0.2),\n",
    "'6_layer_1': LinearNN('6_layer_1', 6, (input_size,output_size), [512,256,128,64,32,8], nn.ReLU(), 0.2),\n",
    "'6_layer_2': LinearNN('6_layer_2', 6, (input_size,output_size), [512,256,128,64,32,8], nn.ReLU(), 0.2),\n",
    "'6_layer_3': LinearNN('6_layer_3', 6, (input_size,output_size), [512,256,128,64,32,8], nn.ReLU(), 0.2),\n",
    "\n",
    "#'model10': LinearNN('model10', 7, (input_size,output_size), [128,256,256,128,32,16,8], nn.ReLU(), 0.3),\n",
    "#'model17': LinearNN('model17', 6, (input_size,output_size), [128,512,256,128,32,16], nn.ReLU(), 0.6),\n",
    "#'model20': LinearNN('model20', 7, (input_size,output_size), [128,256,256,128,32,16,8], nn.ReLU(), 0.6),\n",
    "# 'model11': LinearNN(7, (input_size,output_size), [128,256,512,256,64,16,8], nn.ReLU(), 0.2),\n",
    " #'model12': LinearNN('model12',8, (input_size,output_size), [256,512,512,256,128,64,16,8], nn.ReLU(), 0.6),\n",
    "# 'model13': LinearNN('model13', 9, (input_size,output_size), [128,128,256,256,128,64,32,16,8], nn.ReLU(), 0.3),\n",
    "#'model14': LinearNN('model14', 9, (input_size,output_size), [128,512,256,256,128,64,32,16,8], nn.ReLU(), 0.6),\n",
    "\n",
    "#'model15': LinearNN('model15',8, (input_size,output_size), [256,512,512,256,128,64,16,8], nn.ReLU(), 0.7),\n",
    "    #'model16': LinearNN('model16', 9, (input_size,output_size), [256,512,256,256,128,64,32,16,8], nn.ReLU(), 0.6)\n",
    "}\n",
    "\n",
    "##delete previous checkpoints\n",
    "remove_existing_checkpoints(model_dict)\n"
   ]
  },
  {
   "cell_type": "code",
   "execution_count": null,
   "metadata": {},
   "outputs": [
    {
     "name": "stdout",
     "output_type": "stream",
     "text": [
      "\n",
      "6_layer_1\n",
      "Loss after iteration 0: 1.1056773662567139\n",
      ".  \n",
      "6_layer_2\n",
      "Loss after iteration 0: 1.1012169122695923\n"
     ]
    }
   ],
   "source": [
    "results = train_many(model_dict, x_train, y_train, batch_size = 1024 , epochs = 2, learning_rate = 0.001, use_scheduler=True, scheduler_step_size=25, change_trainset=True)\n",
    "results"
   ]
  },
  {
   "cell_type": "code",
   "execution_count": 252,
   "metadata": {},
   "outputs": [
    {
     "data": {
      "image/png": "[encoded data removed]",
      "text/plain": [
       "<Figure size 288x432 with 3 Axes>"
      ]
     },
     "metadata": {
      "needs_background": "light"
     },
     "output_type": "display_data"
    }
   ],
   "source": [
    "plot_losses(model_dict)"
   ]
  },
  {
   "cell_type": "code",
   "execution_count": 60,
   "metadata": {},
   "outputs": [
    {
     "name": "stdout",
     "output_type": "stream",
     "text": [
      "model12_7_31.pt\n",
      "model16.pt\n",
      "model16_7_31.pt\n",
      "model17_7_31.pt\n",
      "model7.pt\n",
      "model7_7_31.pt\n"
     ]
    }
   ],
   "source": [
    "directory_str = './NN Models/'\n",
    "directory = os.fsencode(directory_str)\n",
    "\n",
    "load_dict = {}\n",
    "for file in os.listdir(directory):\n",
    "    \n",
    "    filename = os.fsdecode(file)\n",
    "    if filename.endswith(\".pt\"): \n",
    "        filename = os.fsdecode(file)\n",
    "        load_dict[filename] = torch.load(directory_str+filename)\n",
    "\n",
    "\n"
   ]
  },
  {
   "cell_type": "code",
   "execution_count": 239,
   "metadata": {},
   "outputs": [
    {
     "name": "stdout",
     "output_type": "stream",
     "text": [
      "Models:['6_layer_1', '6_layer_2', '6_layer_3']\n",
      "Train Accuracy: 0.5929094517829033\n",
      "Val Accuracy: 0.5181686046511628\n",
      "Train log loss: 0.9230832454854859\n",
      "Val log loss: 0.9751504536654775\n",
      "\n",
      "Train B365 Accuracy: 0.5281637122715762\n",
      "Val B365 Accuracy: 0.5494186046511628\n",
      "Train B365 log_loss: 0.9751891448037668\n",
      "Val B365 log_loss: 0.9566483812081246\n"
     ]
    }
   ],
   "source": [
    "## Ensemble learning\n",
    "dictionary = model_dict\n",
    "is_models = False\n",
    "use_odds = True\n",
    "\n",
    "scaler = preprocessing.StandardScaler().fit(x_train.iloc[:,1:])\n",
    "x_ens = get_ens_df(x_train, scaler, dictionary, is_models=is_models, use_odds=use_odds)\n",
    "x_ens_val = get_ens_df(x_val, scaler, dictionary, is_models=is_models, use_odds=use_odds)\n",
    "x_ens_test = get_ens_df(x_test, scaler, dictionary, is_models=is_models, use_odds=use_odds)\n",
    "\n",
    "\n",
    "RF_clf = RandomForestClassifier(max_depth=3, random_state=0, n_estimators = 100)\n",
    "RF_clf.fit(x_ens, y_train['target'])\n",
    "\n",
    "print('Models:{}'.format(list(dictionary.keys())))\n",
    "print('Train Accuracy: {}'.format(RF_clf.score(x_ens, y_train['target'])))\n",
    "print('Val Accuracy: {}'.format(RF_clf.score(x_ens_val, y_val['target'])))\n",
    "print('Train log loss: {}'.format(log_loss(y_train['target'], RF_clf.predict_proba(x_ens))))\n",
    "print('Val log loss: {}'.format(log_loss(y_val['target'], RF_clf.predict_proba(x_ens_val))))\n",
    "#print('Test log loss: {}'.format(log_loss(y_test['target_binary'], RF_clf.predict_proba(x_ens_test))))\n",
    "\n",
    "print('\\nTrain B365 Accuracy: {}'.format(accuracy_score(y_train.target, np.array(x_train[[ 'B365H','B365D', 'B365A']]).argmax(axis=1))))\n",
    "print('Val B365 Accuracy: {}'.format(sklearn.metrics.accuracy_score(y_val.target, np.array(x_val[[ 'B365H','B365D', 'B365A']]).argmax(axis=1))))\n",
    "print('Train B365 log_loss: {}'.format(log_loss(y_train.target, x_train[[ 'B365H','B365D', 'B365A']])))\n",
    "print('Val B365 log_loss: {}'.format(log_loss(y_val.target, x_val[[ 'B365H','B365D', 'B365A']])))\n"
   ]
  },
  {
   "cell_type": "code",
   "execution_count": 240,
   "metadata": {},
   "outputs": [
    {
     "data": {
      "text/html": [
       "<div>\n",
       "<style scoped>\n",
       "    .dataframe tbody tr th:only-of-type {\n",
       "        vertical-align: middle;\n",
       "    }\n",
       "\n",
       "    .dataframe tbody tr th {\n",
       "        vertical-align: top;\n",
       "    }\n",
       "\n",
       "    .dataframe thead th {\n",
       "        text-align: right;\n",
       "    }\n",
       "</style>\n",
       "<table border=\"1\" class=\"dataframe\">\n",
       "  <thead>\n",
       "    <tr style=\"text-align: right;\">\n",
       "      <th></th>\n",
       "      <th>0</th>\n",
       "      <th>1</th>\n",
       "    </tr>\n",
       "  </thead>\n",
       "  <tbody>\n",
       "    <tr>\n",
       "      <th>0</th>\n",
       "      <td>6_layer_1_0</td>\n",
       "      <td>0.009569</td>\n",
       "    </tr>\n",
       "    <tr>\n",
       "      <th>2</th>\n",
       "      <td>6_layer_1_2</td>\n",
       "      <td>0.003731</td>\n",
       "    </tr>\n",
       "    <tr>\n",
       "      <th>7</th>\n",
       "      <td>6_layer_3_1</td>\n",
       "      <td>0.000654</td>\n",
       "    </tr>\n",
       "    <tr>\n",
       "      <th>6</th>\n",
       "      <td>6_layer_3_0</td>\n",
       "      <td>0.000363</td>\n",
       "    </tr>\n",
       "    <tr>\n",
       "      <th>4</th>\n",
       "      <td>6_layer_2_1</td>\n",
       "      <td>0.000218</td>\n",
       "    </tr>\n",
       "    <tr>\n",
       "      <th>3</th>\n",
       "      <td>6_layer_2_0</td>\n",
       "      <td>0.000145</td>\n",
       "    </tr>\n",
       "    <tr>\n",
       "      <th>11</th>\n",
       "      <td>B365A</td>\n",
       "      <td>0.000097</td>\n",
       "    </tr>\n",
       "    <tr>\n",
       "      <th>10</th>\n",
       "      <td>B365D</td>\n",
       "      <td>-0.000073</td>\n",
       "    </tr>\n",
       "    <tr>\n",
       "      <th>9</th>\n",
       "      <td>B365H</td>\n",
       "      <td>-0.000073</td>\n",
       "    </tr>\n",
       "    <tr>\n",
       "      <th>8</th>\n",
       "      <td>6_layer_3_2</td>\n",
       "      <td>-0.000606</td>\n",
       "    </tr>\n",
       "    <tr>\n",
       "      <th>5</th>\n",
       "      <td>6_layer_2_2</td>\n",
       "      <td>-0.000703</td>\n",
       "    </tr>\n",
       "    <tr>\n",
       "      <th>1</th>\n",
       "      <td>6_layer_1_1</td>\n",
       "      <td>-0.013808</td>\n",
       "    </tr>\n",
       "  </tbody>\n",
       "</table>\n",
       "</div>"
      ],
      "text/plain": [
       "              0         1\n",
       "0   6_layer_1_0  0.009569\n",
       "2   6_layer_1_2  0.003731\n",
       "7   6_layer_3_1  0.000654\n",
       "6   6_layer_3_0  0.000363\n",
       "4   6_layer_2_1  0.000218\n",
       "3   6_layer_2_0  0.000145\n",
       "11        B365A  0.000097\n",
       "10        B365D -0.000073\n",
       "9         B365H -0.000073\n",
       "8   6_layer_3_2 -0.000606\n",
       "5   6_layer_2_2 -0.000703\n",
       "1   6_layer_1_1 -0.013808"
      ]
     },
     "execution_count": 240,
     "metadata": {},
     "output_type": "execute_result"
    }
   ],
   "source": [
    "r = permutation_importance(RF_clf, x_ens_val, y_val['target'],\n",
    "                           n_repeats=30,\n",
    "                  random_state=0)\n",
    "\n",
    "a = zip(x_ens.columns, r.importances_mean)\n",
    "pd.DataFrame(a).sort_values(by = 1, ascending = False)"
   ]
  },
  {
   "cell_type": "code",
   "execution_count": 218,
   "metadata": {},
   "outputs": [
    {
     "name": "stderr",
     "output_type": "stream",
     "text": [
      "C:\\Users\\Jack.Dai\\AppData\\Local\\Continuum\\anaconda3\\lib\\site-packages\\sklearn\\linear_model\\_logistic.py:764: ConvergenceWarning: lbfgs failed to converge (status=1):\n",
      "STOP: TOTAL NO. of ITERATIONS REACHED LIMIT.\n",
      "\n",
      "Increase the number of iterations (max_iter) or scale the data as shown in:\n",
      "    https://scikit-learn.org/stable/modules/preprocessing.html\n",
      "Please also refer to the documentation for alternative solver options:\n",
      "    https://scikit-learn.org/stable/modules/linear_model.html#logistic-regression\n",
      "  extra_warning_msg=_LOGISTIC_SOLVER_CONVERGENCE_MSG)\n"
     ]
    },
    {
     "name": "stdout",
     "output_type": "stream",
     "text": [
      "Models:['6_layer_1', '6_layer_2', '6_layer_3']\n",
      "Train Accuracy: 0.6805146807200054\n",
      "Val Accuracy: 0.4992732558139535\n",
      "Train log loss: 0.7788080087903564\n",
      "Val log loss: 1.167861039179416\n",
      "\n",
      "Train B365 Accuracy: 0.5281637122715762\n",
      "Val B365 Accuracy: 0.5494186046511628\n",
      "Train B365 log_loss: 0.9751891448037668\n",
      "Val B365 log_loss: 0.9566483812081246\n"
     ]
    }
   ],
   "source": [
    "dictionary = model_dict\n",
    "is_models = False\n",
    "\n",
    "\n",
    "scaler = preprocessing.StandardScaler().fit(x_train.iloc[:,1:])\n",
    "x_ens = get_ens_df(x_train, scaler, dictionary, is_models=is_models)\n",
    "x_ens_val = get_ens_df(x_val, scaler, dictionary, is_models=is_models)\n",
    "\n",
    "Logistic_clf = LogisticRegression(random_state=0, C = 1).fit(x_ens,  y_train['target'])\n",
    "print('Models:{}'.format(list(dictionary.keys())))\n",
    "print('Train Accuracy: {}'.format(Logistic_clf.score(x_ens, y_train['target'])))\n",
    "print('Val Accuracy: {}'.format(Logistic_clf.score(x_ens_val, y_val['target'])))\n",
    "print('Train log loss: {}'.format(log_loss(y_train['target'], Logistic_clf.predict_proba(x_ens))))\n",
    "print('Val log loss: {}'.format(log_loss(y_val['target'], Logistic_clf.predict_proba(x_ens_val))))\n",
    "\n",
    "print('\\nTrain B365 Accuracy: {}'.format(accuracy_score(y_train.target, np.array(x_train[[ 'B365H','B365D', 'B365A']]).argmax(axis=1))))\n",
    "print('Val B365 Accuracy: {}'.format(sklearn.metrics.accuracy_score(y_val.target, np.array(x_val[[ 'B365H','B365D', 'B365A']]).argmax(axis=1))))\n",
    "print('Train B365 log_loss: {}'.format(log_loss(y_train.target, x_train[[ 'B365H','B365D', 'B365A']])))\n",
    "print('Val B365 log_loss: {}'.format(log_loss(y_val.target, x_val[[ 'B365H','B365D', 'B365A']])))"
   ]
  },
  {
   "cell_type": "code",
   "execution_count": 736,
   "metadata": {},
   "outputs": [
    {
     "name": "stdout",
     "output_type": "stream",
     "text": [
      "Ensemble accuracy: 0.6416464891041163\n"
     ]
    }
   ],
   "source": [
    "ensemble_predict_simple([model_dict[x].model for x in model_dict], x_val, y_val, scaler)"
   ]
  },
  {
   "cell_type": "code",
   "execution_count": 114,
   "metadata": {},
   "outputs": [],
   "source": [
    "save_models(model_dict.keys(), model_dict)"
   ]
  },
  {
   "cell_type": "code",
   "execution_count": null,
   "metadata": {},
   "outputs": [],
   "source": []
  }
 ],
 "metadata": {
  "kernelspec": {
   "display_name": "Python 3",
   "language": "python",
   "name": "python3"
  },
  "language_info": {
   "codemirror_mode": {
    "name": "ipython",
    "version": 3
   },
   "file_extension": ".py",
   "mimetype": "text/x-python",
   "name": "python",
   "nbconvert_exporter": "python",
   "pygments_lexer": "ipython3",
   "version": "3.7.3"
  }
 },
 "nbformat": 4,
 "nbformat_minor": 4
}
