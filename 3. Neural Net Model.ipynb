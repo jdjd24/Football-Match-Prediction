{
 "cells": [
  {
   "cell_type": "code",
   "execution_count": 535,
   "metadata": {},
   "outputs": [
    {
     "name": "stdout",
     "output_type": "stream",
     "text": [
      "The autoreload extension is already loaded. To reload it, use:\n",
      "  %reload_ext autoreload\n"
     ]
    }
   ],
   "source": [
    "import pandas as pd\n",
    "import matplotlib.pyplot as plt\n",
    "import torch\n",
    "import torch.nn as nn\n",
    "import numpy as np\n",
    "from torch.utils.data import DataLoader\n",
    "from torch.optim import lr_scheduler\n",
    "import time\n",
    "import matplotlib.pyplot as plt\n",
    "import sklearn.preprocessing as preprocessing\n",
    "import sklearn.metrics\n",
    "from sklearn.model_selection import train_test_split\n",
    "import math\n",
    "from torch.utils.data import DataLoader, TensorDataset\n",
    "from torch import Tensor\n",
    "from sklearn.utils import resample\n",
    "from sklearn.metrics import log_loss\n",
    "from sklearn.model_selection import KFold\n",
    "from sklearn.ensemble import RandomForestClassifier\n",
    "from sklearn.metrics import roc_auc_score\n",
    "import os\n",
    "from pathlib import Path\n",
    "\n",
    "\n",
    "\n",
    "%load_ext autoreload\n",
    "%autoreload 2\n",
    "from NNFunctions import *"
   ]
  },
  {
   "cell_type": "markdown",
   "metadata": {},
   "source": [
    "## Load Data"
   ]
  },
  {
   "cell_type": "code",
   "execution_count": 704,
   "metadata": {},
   "outputs": [
    {
     "data": {
      "text/plain": [
       "((12986, 47), (1239, 47), (1229, 47))"
      ]
     },
     "execution_count": 704,
     "metadata": {},
     "output_type": "execute_result"
    }
   ],
   "source": [
    "x_train = pd.read_csv('./Data with correct player_atts/x_train.csv')\n",
    "x_val = pd.read_csv('./Data with correct player_atts/x_val.csv')\n",
    "x_test = pd.read_csv('./Data with correct player_atts/x_test.csv')\n",
    "\n",
    "y_train = pd.read_csv('./Data with correct player_atts/y_train.csv')\n",
    "y_val = pd.read_csv('./Data with correct player_atts/y_val.csv')\n",
    "y_test = pd.read_csv('./Data with correct player_atts/y_test.csv')\n",
    "\n",
    "x_train.shape, x_val.shape, x_test.shape"
   ]
  },
  {
   "cell_type": "code",
   "execution_count": 705,
   "metadata": {},
   "outputs": [
    {
     "name": "stdout",
     "output_type": "stream",
     "text": [
      "Train B365 Binary log_loss: 0.615911339001799\n",
      "Val B365 Binary log_loss: 0.6052028022570637\n",
      "Test B365 Binary log_loss: 0.6248428879660936\n"
     ]
    }
   ],
   "source": [
    "print('Train B365 Binary log_loss: {}'.format(log_loss(y_train.target_binary, x_train[[ 'B365H', 'B365NH']])))\n",
    "print('Val B365 Binary log_loss: {}'.format(log_loss(y_val.target_binary, x_val[[ 'B365H', 'B365NH']])))\n",
    "print('Test B365 Binary log_loss: {}'.format(log_loss(y_test.target_binary, x_test[[ 'B365H', 'B365NH']])))"
   ]
  },
  {
   "cell_type": "markdown",
   "metadata": {},
   "source": [
    "## Initialise Models"
   ]
  },
  {
   "cell_type": "code",
   "execution_count": 6,
   "metadata": {},
   "outputs": [],
   "source": [
    "\n",
    "input_size = len(x_train.drop(columns ='match_api_id').columns)\n",
    "output_size = 3\n",
    "\n",
    "model_dict = {\n",
    "\n",
    "'model4': LinearNN(5, (input_size,output_size), [128,256,128,32,16], nn.ReLU(), 0.5),\n",
    "'model5': LinearNN(5, (input_size,output_size), [128,512,256,128,32], nn.ReLU(), 0.5),\n",
    "'model6': LinearNN(5, (input_size,output_size), [64,512,256,128,32], nn.ReLU(), 0),\n",
    "'model7': LinearNN(6, (input_size,output_size), [128,256,256,128,32,16], nn.ReLU(), 0.5),\n",
    "'model8': LinearNN(6, (input_size,output_size), [64,256,256,128,64,32], nn.ReLU(), 0),\n",
    "'model9': LinearNN(6, (input_size,output_size), [256,512,512,128,32,16], nn.ReLU(), 0.5),\n",
    "'model10': LinearNN(7, (input_size,output_size), [64,256,256,128,32,16,8], nn.ReLU(), 0.5),\n",
    "'model11': LinearNN(7, (input_size,output_size), [128,256,256,128,32,16,8], nn.ReLU(), 0),\n",
    "'model12': LinearNN(7, (input_size,output_size), [256,512,128,64,32,16,8], nn.ReLU(), 0.5),\n",
    "'model13': LinearNN(8, (input_size,output_size), [64,128,256,128,64,32,16,8], nn.ReLU(), 0.5),\n",
    "'model14': LinearNN(8, (input_size,output_size), [128,256,256,128,64,32,16,8], nn.ReLU(), 0.5),\n",
    "'model15': LinearNN(8, (input_size,output_size), [256,512,512,128,32,16,8,8], nn.ReLU(), 0.5),\n",
    "'model13': LinearNN(9, (input_size,output_size), [64,128,256,256,128,64,32,16,8], nn.ReLU(), 0.5),\n",
    "'model14': LinearNN(9, (input_size,output_size), [128,256,256,128,128,64,32,16,8], nn.ReLU(), 0.5),\n",
    "'model15': LinearNN(9, (input_size,output_size), [256,512,512,256,128,32,16,8,8], nn.ReLU(), 0.5),\n",
    "'model13': LinearNN(10, (input_size,output_size), [64,128,256,256,256,128,64,32,16,8], nn.ReLU(), 0.5),\n",
    "'model14': LinearNN(10, (input_size,output_size), [128,256,256,512,256,128,64,32,16,8], nn.ReLU(), 0.5),\n",
    "'model15': LinearNN(10, (input_size,output_size), [256,512,512,256,256,128,32,16,8,8], nn.ReLU(), 0.5),\n",
    "}"
   ]
  },
  {
   "cell_type": "code",
   "execution_count": 6,
   "metadata": {
    "jupyter": {
     "source_hidden": true
    }
   },
   "outputs": [],
   "source": [
    "\n",
    "input_size = len(x_train.drop(columns ='match_api_id').columns)\n",
    "output_size = 3\n",
    "\n",
    "model_dict = {\n",
    "\n",
    "'model4': LinearNN(5, (input_size,output_size), [128,256,128,32,16], nn.ReLU(), 0.5),\n",
    "'model5': LinearNN(5, (input_size,output_size), [128,512,256,128,32], nn.ReLU(), 0.5),\n",
    "'model6': LinearNN(5, (input_size,output_size), [64,512,256,128,32], nn.ReLU(), 0),\n",
    "'model7': LinearNN(6, (input_size,output_size), [128,256,256,128,32,16], nn.ReLU(), 0.5),\n",
    "'model8': LinearNN(6, (input_size,output_size), [64,256,256,128,64,32], nn.ReLU(), 0),\n",
    "'model9': LinearNN(6, (input_size,output_size), [256,512,512,128,32,16], nn.ReLU(), 0.5),\n",
    "'model10': LinearNN(7, (input_size,output_size), [64,256,256,128,32,16,8], nn.ReLU(), 0.5),\n",
    "'model11': LinearNN(7, (input_size,output_size), [128,256,256,128,32,16,8], nn.ReLU(), 0),\n",
    "'model12': LinearNN(7, (input_size,output_size), [256,512,128,64,32,16,8], nn.ReLU(), 0.5),\n",
    "'model13': LinearNN(8, (input_size,output_size), [64,128,256,128,64,32,16,8], nn.ReLU(), 0.5),\n",
    "'model14': LinearNN(8, (input_size,output_size), [128,256,256,128,64,32,16,8], nn.ReLU(), 0.5),\n",
    "'model15': LinearNN(8, (input_size,output_size), [256,512,512,128,32,16,8,8], nn.ReLU(), 0.5),\n",
    "'model13': LinearNN(9, (input_size,output_size), [64,128,256,256,128,64,32,16,8], nn.ReLU(), 0.5),\n",
    "'model14': LinearNN(9, (input_size,output_size), [128,256,256,128,128,64,32,16,8], nn.ReLU(), 0.5),\n",
    "'model15': LinearNN(9, (input_size,output_size), [256,512,512,256,128,32,16,8,8], nn.ReLU(), 0.5),\n",
    "'model13': LinearNN(10, (input_size,output_size), [64,128,256,256,256,128,64,32,16,8], nn.ReLU(), 0.5),\n",
    "'model14': LinearNN(10, (input_size,output_size), [128,256,256,512,256,128,64,32,16,8], nn.ReLU(), 0.5),\n",
    "'model15': LinearNN(10, (input_size,output_size), [256,512,512,256,256,128,32,16,8,8], nn.ReLU(), 0.5),\n",
    "}"
   ]
  },
  {
   "cell_type": "markdown",
   "metadata": {},
   "source": [
    "## Train Models"
   ]
  },
  {
   "cell_type": "code",
   "execution_count": 715,
   "metadata": {},
   "outputs": [],
   "source": [
    "input_size = len(x_train.drop(columns ='match_api_id').columns)\n",
    "output_size = 2\n",
    "\n",
    "model_dict = {\n",
    "\n",
    "#'model4': LinearNN(5, (input_size,output_size), [128,256,128,32,16], nn.ReLU(), 0.2),\n",
    "'model7': LinearNN('model7', 6, (input_size,output_size), [128,256,256,128,32,16], nn.ReLU(), 0),\n",
    "#'model10': LinearNN('model10', 7, (input_size,output_size), [128,256,256,128,32,16,8], nn.ReLU(), 0.3),\n",
    "#'model17': LinearNN('model17', 6, (input_size,output_size), [256,512,256,128,32,16], nn.ReLU(), 0.3),\n",
    "#'model20': LinearNN(7, (input_size,output_size), [128,256,256,128,32,16,8], nn.ReLU(), 0.5),\n",
    "# 'model11': LinearNN(7, (input_size,output_size), [128,256,512,256,64,16,8], nn.ReLU(), 0.2),\n",
    "# 'model12': LinearNN('model12',8, (input_size,output_size), [256,512,512,256,128,64,16,8], nn.ReLU(), 0.4),\n",
    "# 'model13': LinearNN('model13', 9, (input_size,output_size), [128,128,256,256,128,64,32,16,8], nn.ReLU(), 0.3),\n",
    "# 'model14': LinearNN('model14', 9, (input_size,output_size), [128,128,256,256,128,64,32,16,8], nn.ReLU(), 0.4),\n",
    "\n",
    "#'model15': LinearNN('model15',8, (input_size,output_size), [512,512,512,256,128,64,16,8], nn.ReLU(), 0.7),\n",
    "'model16': LinearNN('model16', 9, (input_size,output_size), [256,512,256,256,128,64,32,16,8], nn.ReLU(), 0),\n",
    "}\n",
    "\n",
    "##delete previous checkpoints\n",
    "for model in model_dict:\n",
    "    my_file = Path(\"./NN checkpoints/{}checkpoint.pt\".format(model))\n",
    "    if my_file.is_file(): ##if file exists\n",
    "        os.remove(\"./NN checkpoints/{}checkpoint.pt\".format(model))\n",
    "\n",
    "big_big_losses_list = [([],[]) for i in model_dict]"
   ]
  },
  {
   "cell_type": "code",
   "execution_count": 161,
   "metadata": {},
   "outputs": [],
   "source": [
    "model_dict['model7'] = LinearNN(6, (input_size,output_size), [128,256,256,128,32,16], nn.ReLU(), 0.2)"
   ]
  },
  {
   "cell_type": "code",
   "execution_count": 492,
   "metadata": {},
   "outputs": [],
   "source": [
    "del model_dict['model14']"
   ]
  },
  {
   "cell_type": "code",
   "execution_count": 719,
   "metadata": {},
   "outputs": [
    {
     "name": "stdout",
     "output_type": "stream",
     "text": [
      "\n",
      "model7\n",
      "Loading saved checkpoint...\n",
      "Loss after iteration 0: 0.6881495714187622\n",
      "Loss after iteration 100: 0.65194171667099\n",
      ".  \n",
      "model16\n",
      "Loading saved checkpoint...\n",
      "Loss after iteration 0: 0.6881088018417358\n",
      "Loss after iteration 100: 0.6632043123245239\n",
      ".  "
     ]
    },
    {
     "data": {
      "text/html": [
       "<div>\n",
       "<style scoped>\n",
       "    .dataframe tbody tr th:only-of-type {\n",
       "        vertical-align: middle;\n",
       "    }\n",
       "\n",
       "    .dataframe tbody tr th {\n",
       "        vertical-align: top;\n",
       "    }\n",
       "\n",
       "    .dataframe thead th {\n",
       "        text-align: right;\n",
       "    }\n",
       "</style>\n",
       "<table border=\"1\" class=\"dataframe\">\n",
       "  <thead>\n",
       "    <tr style=\"text-align: right;\">\n",
       "      <th></th>\n",
       "      <th>t_acc</th>\n",
       "      <th>t_loss</th>\n",
       "      <th>v_acc</th>\n",
       "      <th>v_loss</th>\n",
       "    </tr>\n",
       "  </thead>\n",
       "  <tbody>\n",
       "    <tr>\n",
       "      <th>model7</th>\n",
       "      <td>0.649183</td>\n",
       "      <td>0.631379</td>\n",
       "      <td>0.640493</td>\n",
       "      <td>0.638110</td>\n",
       "    </tr>\n",
       "    <tr>\n",
       "      <th>model16</th>\n",
       "      <td>0.668093</td>\n",
       "      <td>0.636178</td>\n",
       "      <td>0.659738</td>\n",
       "      <td>0.641477</td>\n",
       "    </tr>\n",
       "  </tbody>\n",
       "</table>\n",
       "</div>"
      ],
      "text/plain": [
       "            t_acc    t_loss     v_acc    v_loss\n",
       "model7   0.649183  0.631379  0.640493  0.638110\n",
       "model16  0.668093  0.636178  0.659738  0.641477"
      ]
     },
     "execution_count": 719,
     "metadata": {},
     "output_type": "execute_result"
    }
   ],
   "source": [
    "splits = 1\n",
    "results, big_losses_list = train_many(model_dict, x_train, y_train, batch_size = 2048 , splits = splits, epochs = 20, learning_rate = 0.001, use_scheduler=True, scheduler_step_size=50)\n",
    "\n",
    "for i, model_name in enumerate(model_dict):\n",
    "    for j in range(2):\n",
    "        big_big_losses_list[i][j].extend(big_losses_list[i][j])\n",
    "        \n",
    "results"
   ]
  },
  {
   "cell_type": "code",
   "execution_count": 717,
   "metadata": {},
   "outputs": [
    {
     "data": {
      "image/png": "[encoded data removed]",
      "text/plain": [
       "<Figure size 288x288 with 2 Axes>"
      ]
     },
     "metadata": {
      "needs_background": "light"
     },
     "output_type": "display_data"
    }
   ],
   "source": [
    "plot_losses(big_losses_list, model_dict, splits)"
   ]
  },
  {
   "cell_type": "code",
   "execution_count": 682,
   "metadata": {},
   "outputs": [
    {
     "name": "stdout",
     "output_type": "stream",
     "text": [
      "0.608690693430657 0.6797558341827923\n"
     ]
    },
    {
     "data": {
      "text/plain": [
       "1    7840\n",
       "0     928\n",
       "dtype: int64"
      ]
     },
     "execution_count": 682,
     "metadata": {},
     "output_type": "execute_result"
    }
   ],
   "source": [
    "model_dict['model13'].get_score(x_train, y_train, scaler)"
   ]
  },
  {
   "cell_type": "code",
   "execution_count": 684,
   "metadata": {},
   "outputs": [
    {
     "name": "stdout",
     "output_type": "stream",
     "text": [
      "Train Accuracy: 0.7078010948905109\n",
      "Val Accuracy: 0.6375757575757576\n",
      "Train log loss: 0.5835000983566816\n",
      "Val log loss: 0.6474753664430621\n"
     ]
    }
   ],
   "source": [
    "## Ensemble learning\n",
    "scaler = preprocessing.StandardScaler().fit(x_train.iloc[:,1:])\n",
    "x_ens = get_ens_df(x_train, scaler, model_dict)\n",
    "x_ens_val = get_ens_df(x_val, scaler, model_dict)\n",
    "x_ens_test = get_ens_df(x_test, scaler, model_dict)\n",
    "\n",
    "\n",
    "RF_clf = RandomForestClassifier(max_depth=2, random_state=0)\n",
    "RF_clf.fit(x_ens, y_train['target_binary'])\n",
    "\n",
    "print('Train Accuracy: {}'.format(RF_clf.score(x_ens, y_train['target_binary'])))\n",
    "print('Val Accuracy: {}'.format(RF_clf.score(x_ens_val, y_val['target_binary'])))\n",
    "print('Train log loss: {}'.format(log_loss(y_train['target_binary'], RF_clf.predict_proba(x_ens))))\n",
    "print('Val log loss: {}'.format(log_loss(y_val['target_binary'], RF_clf.predict_proba(x_ens_val))))\n",
    "#print('Val log loss: {}'.format(log_loss(y_test['target_binary'], RF_clf.predict_proba(x_ens_test))))"
   ]
  },
  {
   "cell_type": "code",
   "execution_count": 683,
   "metadata": {},
   "outputs": [
    {
     "name": "stdout",
     "output_type": "stream",
     "text": [
      "Train Accuracy: 0.6845346715328468\n",
      "Val Accuracy: 0.6412121212121212\n",
      "Train log loss: 0.6032453625473237\n",
      "Val log loss: 0.6367683645821156\n"
     ]
    }
   ],
   "source": [
    "from sklearn.linear_model import LogisticRegression\n",
    "scaler = preprocessing.StandardScaler().fit(x_train.iloc[:,1:])\n",
    "x_ens = get_ens_df(x_train, scaler, model_dict)\n",
    "x_ens_val = get_ens_df(x_val, scaler, model_dict)\n",
    "\n",
    "Logistic_clf = LogisticRegression(random_state=0, C = 0.3).fit(x_ens,  y_train['target_binary'])\n",
    "\n",
    "print('Train Accuracy: {}'.format(Logistic_clf.score(x_ens, y_train['target_binary'])))\n",
    "print('Val Accuracy: {}'.format(Logistic_clf.score(x_ens_val, y_val['target_binary'])))\n",
    "print('Train log loss: {}'.format(log_loss(y_train['target_binary'], Logistic_clf.predict_proba(x_ens))))\n",
    "print('Val log loss: {}'.format(log_loss(y_val['target_binary'], Logistic_clf.predict_proba(x_ens_val))))"
   ]
  },
  {
   "cell_type": "code",
   "execution_count": 506,
   "metadata": {},
   "outputs": [
    {
     "data": {
      "text/plain": [
       "0.6401525453785147"
      ]
     },
     "execution_count": 506,
     "metadata": {},
     "output_type": "execute_result"
    }
   ],
   "source": [
    "log_loss(y_test['target_binary'], RF_clf.predict_proba(get_ens_df(x_test, scaler, model_dict)))"
   ]
  },
  {
   "cell_type": "code",
   "execution_count": 504,
   "metadata": {},
   "outputs": [
    {
     "name": "stdout",
     "output_type": "stream",
     "text": [
      "Ensemble accuracy: 0.6642424242424242\n"
     ]
    }
   ],
   "source": [
    "ensemble_predict_simple([model_dict['model12'].model, model_dict['model13'].model], x_val, y_val, scaler)"
   ]
  },
  {
   "cell_type": "code",
   "execution_count": null,
   "metadata": {},
   "outputs": [],
   "source": []
  }
 ],
 "metadata": {
  "kernelspec": {
   "display_name": "Python 3",
   "language": "python",
   "name": "python3"
  },
  "language_info": {
   "codemirror_mode": {
    "name": "ipython",
    "version": 3
   },
   "file_extension": ".py",
   "mimetype": "text/x-python",
   "name": "python",
   "nbconvert_exporter": "python",
   "pygments_lexer": "ipython3",
   "version": "3.7.3"
  }
 },
 "nbformat": 4,
 "nbformat_minor": 4
}
