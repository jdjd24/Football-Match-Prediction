{
 "cells": [
  {
   "cell_type": "code",
   "execution_count": 24,
   "metadata": {},
   "outputs": [],
   "source": [
    "import pandas as pd\n",
    "import numpy as np\n",
    "from sklearn import linear_model\n",
    "from sklearn import svm\n",
    "from sklearn import ensemble\n",
    "from sklearn import preprocessing\n",
    "from sklearn.model_selection import learning_curve\n",
    "from sklearn.multiclass import OneVsRestClassifier\n",
    "import matplotlib.pyplot as plt\n",
    "\n",
    "%run load_data_for_team_attr.ipynb"
   ]
  },
  {
   "cell_type": "code",
   "execution_count": 25,
   "metadata": {},
   "outputs": [],
   "source": [
    "x_tr, y_tr, x_cv, y_cv, x_te, y_te = load_data()"
   ]
  },
  {
   "cell_type": "code",
   "execution_count": 26,
   "metadata": {},
   "outputs": [],
   "source": [
    "x_tr.fillna(x_tr.mean(), inplace=True)"
   ]
  },
  {
   "cell_type": "code",
   "execution_count": 27,
   "metadata": {},
   "outputs": [],
   "source": [
    "def plot_learning_curve(estimator, x_tr, y_tr):\n",
    "    train_sizes, train_scores, test_scores = \\\n",
    "        learning_curve(estimator, x_tr, y_tr, train_sizes = np.linspace(0.2, 1, 20))\n",
    "    \n",
    "    plt.plot(train_sizes, -train_scores.mean(1), 'o-', label = str(estimator.__class__.__name__) + ' train')\n",
    "    plt.plot(train_sizes, -test_scores.mean(1), 'o-', label = str(estimator.__class__.__name__) + ' test')\n",
    "    plt.legend(loc=\"best\")"
   ]
  },
  {
   "cell_type": "code",
   "execution_count": 28,
   "metadata": {},
   "outputs": [],
   "source": [
    "def do_stuff(model, x_tr, y_tr, x_cv, y_cv):\n",
    "    clf = OneVsRestClassifier(model).fit(x_tr, y_tr)\n",
    "    print(np.mean(clf.predict(x_tr) == y_tr))\n",
    "    print(np.mean(clf.predict(x_cv) == y_cv))\n",
    "    #plot_learning_curve(clf, x_tr, y_tr)\n",
    "    return clf"
   ]
  },
  {
   "cell_type": "code",
   "execution_count": 29,
   "metadata": {},
   "outputs": [],
   "source": [
    "def logistic_model(x_tr, y_tr, x_cv, y_cv):\n",
    "    log = linear_model.LogisticRegression(max_iter = 10000, penalty = 'l2')\n",
    "    return do_stuff(log, x_tr, y_tr, x_cv, y_cv)\n",
    "\n",
    "def svm_model(x_tr, y_tr, x_cv, y_cv):\n",
    "    svc = svm.SVC(kernel = 'rbf', max_iter = 10000)\n",
    "    return do_stuff(svc, x_tr, y_tr, x_cv, y_cv)\n",
    "    \n",
    "def logistic_model(x_tr, y_tr, x_cv, y_cv):\n",
    "    log = linear_model.LogisticRegression(max_iter = 10000, penalty = 'l2')\n",
    "    return do_stuff(log, x_tr, y_tr, x_cv, y_cv)"
   ]
  },
  {
   "cell_type": "code",
   "execution_count": 30,
   "metadata": {},
   "outputs": [
    {
     "name": "stdout",
     "output_type": "stream",
     "text": [
      "0.47368421052631576\n",
      "0.47039473684210525\n"
     ]
    },
    {
     "data": {
      "text/plain": [
       "OneVsRestClassifier(estimator=LogisticRegression(max_iter=10000))"
      ]
     },
     "execution_count": 30,
     "metadata": {},
     "output_type": "execute_result"
    }
   ],
   "source": [
    "logistic_model(x_tr, y_tr, x_cv, y_cv)"
   ]
  },
  {
   "cell_type": "code",
   "execution_count": 31,
   "metadata": {},
   "outputs": [
    {
     "name": "stdout",
     "output_type": "stream",
     "text": [
      "0.5866228070175439\n",
      "0.46710526315789475\n"
     ]
    },
    {
     "data": {
      "text/plain": [
       "OneVsRestClassifier(estimator=SVC(max_iter=10000))"
      ]
     },
     "execution_count": 31,
     "metadata": {},
     "output_type": "execute_result"
    }
   ],
   "source": [
    "svm_model(x_tr, y_tr, x_cv, y_cv)"
   ]
  },
  {
   "cell_type": "code",
   "execution_count": 35,
   "metadata": {},
   "outputs": [
    {
     "name": "stdout",
     "output_type": "stream",
     "text": [
      "0.47368421052631576\n",
      "0.47039473684210525\n"
     ]
    },
    {
     "data": {
      "text/plain": [
       "0.47039473684210525"
      ]
     },
     "execution_count": 35,
     "metadata": {},
     "output_type": "execute_result"
    }
   ],
   "source": [
    "clf = logistic_model(x_tr, y_tr, x_cv, y_cv)\n",
    "np.mean(clf.predict(x_te) == y_te)"
   ]
  },
  {
   "cell_type": "code",
   "execution_count": 37,
   "metadata": {},
   "outputs": [
    {
     "name": "stdout",
     "output_type": "stream",
     "text": [
      "0.45723684210526316\n",
      "0.2575657894736842\n",
      "0.28519736842105264\n"
     ]
    }
   ],
   "source": [
    "df = pd.read_csv('Match_PL.csv')\n",
    "goal_dif = df['home_team_goal'].sub(df['away_team_goal'])\n",
    "goal_dif[goal_dif < 0] = -1\n",
    "goal_dif[goal_dif > 0] = 1\n",
    "wins = goal_dif == 1\n",
    "ties = goal_dif == 0\n",
    "losses = goal_dif == -1\n",
    "print(np.mean(wins))\n",
    "print(np.mean(ties))\n",
    "print(np.mean(losses))"
   ]
  },
  {
   "cell_type": "code",
   "execution_count": null,
   "metadata": {},
   "outputs": [],
   "source": []
  }
 ],
 "metadata": {
  "kernelspec": {
   "display_name": "Python 3",
   "language": "python",
   "name": "python3"
  },
  "language_info": {
   "codemirror_mode": {
    "name": "ipython",
    "version": 3
   },
   "file_extension": ".py",
   "mimetype": "text/x-python",
   "name": "python",
   "nbconvert_exporter": "python",
   "pygments_lexer": "ipython3",
   "version": "3.8.2"
  }
 },
 "nbformat": 4,
 "nbformat_minor": 4
}
