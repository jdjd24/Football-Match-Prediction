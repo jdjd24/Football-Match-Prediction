{
 "cells": [
  {
   "cell_type": "code",
   "execution_count": 17,
   "metadata": {},
   "outputs": [],
   "source": [
    "import pandas as pd\n",
    "import numpy as np\n",
    "from sklearn import linear_model\n",
    "from sklearn import svm\n",
    "from sklearn import preprocessing\n",
    "from sklearn.model_selection import learning_curve\n",
    "from sklearn.multiclass import OneVsRestClassifier\n",
    "import matplotlib.pyplot as plt\n",
    "\n",
    "%run load_data_for_team_attr.ipynb"
   ]
  },
  {
   "cell_type": "code",
   "execution_count": 18,
   "metadata": {},
   "outputs": [],
   "source": [
    "x_tr, y_tr, x_cv, y_cv, x_te, y_te = load_data()"
   ]
  },
  {
   "cell_type": "code",
   "execution_count": 5,
   "metadata": {},
   "outputs": [],
   "source": [
    "def plot_learning_curve(estimator, x_tr, y_tr):\n",
    "    train_sizes, train_scores, test_scores = \\\n",
    "        learning_curve(estimator, x_tr, y_tr, train_sizes = np.linspace(0.2, 1, 20))\n",
    "    \n",
    "    plt.plot(train_sizes, -train_scores.mean(1), 'o-', label = str(estimator.__class__.__name__) + ' train')\n",
    "    plt.plot(train_sizes, -test_scores.mean(1), 'o-', label = str(estimator.__class__.__name__) + ' test')\n",
    "    plt.legend(loc=\"best\")"
   ]
  },
  {
   "cell_type": "code",
   "execution_count": 36,
   "metadata": {},
   "outputs": [],
   "source": [
    "def do_stuff(model, x_tr, y_tr, x_cv, y_cv):\n",
    "    clf = OneVsRestClassifier(model).fit(x_tr, y_tr)\n",
    "    print(np.mean(clf.predict(x_tr) == y_tr))\n",
    "    print(np.mean(clf.predict(x_cv) == y_cv))\n",
    "    #plot_learning_curve(clf, x_tr, y_tr)"
   ]
  },
  {
   "cell_type": "code",
   "execution_count": 52,
   "metadata": {},
   "outputs": [],
   "source": [
    "def logistic_model(x_tr, y_tr, x_cv, y_cv):\n",
    "    log = linear_model.LogisticRegression(max_iter = 10000, penalty = 'l2')\n",
    "    do_stuff(log, x_tr, y_tr, x_cv, y_cv)\n",
    "\n",
    "def svm_model(x_tr, y_tr, x_cv, y_cv):\n",
    "    svc = svm.SVC(kernel = 'rbf', max_iter = 10000)\n",
    "    do_stuff(svc, x_tr, y_tr, x_cv, y_cv)"
   ]
  },
  {
   "cell_type": "code",
   "execution_count": 53,
   "metadata": {},
   "outputs": [
    {
     "name": "stdout",
     "output_type": "stream",
     "text": [
      "0.5197368421052632\n",
      "0.5296052631578947\n"
     ]
    }
   ],
   "source": [
    "logistic_model(x_tr, y_tr, x_cv, y_cv)"
   ]
  },
  {
   "cell_type": "code",
   "execution_count": 54,
   "metadata": {},
   "outputs": [
    {
     "name": "stdout",
     "output_type": "stream",
     "text": [
      "0.6047149122807017\n",
      "0.5164473684210527\n"
     ]
    }
   ],
   "source": [
    "svm_model(x_tr, y_tr, x_cv, y_cv)"
   ]
  },
  {
   "cell_type": "code",
   "execution_count": null,
   "metadata": {},
   "outputs": [],
   "source": []
  }
 ],
 "metadata": {
  "kernelspec": {
   "display_name": "Python 3",
   "language": "python",
   "name": "python3"
  },
  "language_info": {
   "codemirror_mode": {
    "name": "ipython",
    "version": 3
   },
   "file_extension": ".py",
   "mimetype": "text/x-python",
   "name": "python",
   "nbconvert_exporter": "python",
   "pygments_lexer": "ipython3",
   "version": "3.8.2"
  }
 },
 "nbformat": 4,
 "nbformat_minor": 4
}
