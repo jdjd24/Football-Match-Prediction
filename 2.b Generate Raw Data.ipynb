{
 "cells": [
  {
   "cell_type": "code",
   "execution_count": 2,
   "metadata": {},
   "outputs": [],
   "source": [
    "import pandas as pd\n",
    "import numpy as np\n",
    "from sklearn import preprocessing"
   ]
  },
  {
   "cell_type": "code",
   "execution_count": null,
   "metadata": {},
   "outputs": [],
   "source": [
    "def find_unique_most_recent(df, id_name):\n",
    "    df['date'] = pd.to_datetime(df['date'])\n",
    "    df = df.sort_values('date', ascending = False)\n",
    "    df = df.reset_index(drop = True)\n",
    "\n",
    "    u, indices = np.unique(df[id_name].values, return_index = True) # we are trying to take the most recent rating\n",
    "    indices.sort()\n",
    "    mask_unique = df.index.isin(indices)\n",
    "    df = df[mask_unique]\n",
    "    return df"
   ]
  },
  {
   "cell_type": "code",
   "execution_count": null,
   "metadata": {},
   "outputs": [],
   "source": [
    "def filter_into_pl_and_non_pl():\n",
    "    matches = pd.read_csv('Match.csv')\n",
    "    matches['date'] = pd.to_datetime(matches['date'])\n",
    "    mask = matches['country_id'] == 1729 # only PL\n",
    "    matches_pl = matches[mask]\n",
    "    matches_non_pl = matches[~mask]\n",
    "    del matches\n",
    "    return matches_pl, matches_non_pl\n",
    "    '''\n",
    "    teams = pd.read_csv('Team.csv')\n",
    "    pl_teams = np.unique(matches_pl[['home_team_api_id', 'away_team_api_id']].values)\n",
    "    mask = teams['team_api_id'].isin(pl_teams)\n",
    "    teams_pl = teams[mask]\n",
    "    teams_non_pl = teams[~mask]\n",
    "    \n",
    "    teams_attr = pd.read_csv('Team_Attributes.csv')\n",
    "    pl_teams_attr = teams_pl['team_api_id']\n",
    "    mask = teams_attr['team_api_id'].isin(pl_teams_attr)\n",
    "    teams_attr_pl = teams_attr[mask]\n",
    "    teams_attr_non_pl = teams_attr[~mask]\n",
    "    ta_pl = find_unique_most_recent(teams_attr_pl, 'team_api_id')\n",
    "    ta_non_pl = find_unique_most_recent(teams_attr_non_pl, 'team_api_id')\n",
    "    \n",
    "    players = pd.read_csv('Player.csv')\n",
    "    '''"
   ]
  },
  {
   "cell_type": "code",
   "execution_count": null,
   "metadata": {},
   "outputs": [],
   "source": [
    "def construct_labels(player_attr, match_dates, player_ids):\n",
    "    print('going')\n",
    "    labels = []\n",
    "    for j, date in enumerate(match_dates):\n",
    "        if (j % 1000 == 0):\n",
    "            print(j)\n",
    "        player_id = player_ids.iloc[j]\n",
    "        player_data = player_attr.loc[player_id]\n",
    "        a = max(0, player_data.index.searchsorted(date)-1)\n",
    "        label = player_data.iloc[a].name\n",
    "        labels.append((player_id, label))\n",
    "    return labels"
   ]
  },
  {
   "cell_type": "code",
   "execution_count": null,
   "metadata": {},
   "outputs": [],
   "source": [
    "def construct_input(matches, player_attr, columns_keep):\n",
    "    match_ids = matches['match_api_id']\n",
    "    match_dates = matches['date']\n",
    "    goal_dif = matches['home_team_goal'].sub(matches['away_team_goal'])\n",
    "    goal_dif[goal_dif < 0] = -1\n",
    "    goal_dif[goal_dif > 0] = 1\n",
    "    positions = ['home_player_1',\n",
    "                 'home_player_2',\n",
    "                 'home_player_3',\n",
    "                 'home_player_4',\n",
    "                 'home_player_5',\n",
    "                 'home_player_6',\n",
    "                 'home_player_7',\n",
    "                 'home_player_8',\n",
    "                 'home_player_9',\n",
    "                 'home_player_10',\n",
    "                 'home_player_11',\n",
    "                 'away_player_1',\n",
    "                 'away_player_2',\n",
    "                 'away_player_3',\n",
    "                 'away_player_4',\n",
    "                 'away_player_5',\n",
    "                 'away_player_6',\n",
    "                 'away_player_7',\n",
    "                 'away_player_8',\n",
    "                 'away_player_9',\n",
    "                 'away_player_10',\n",
    "                 'away_player_11']\n",
    "    columns = []\n",
    "    for pos in positions:\n",
    "        arr = [pos + '_' + column_name for column_name in columns_keep[2:]]\n",
    "        columns.append(arr)\n",
    "    \n",
    "    player_series = [matches[pos] for pos in positions]\n",
    "    columns_len = len(positions) * (len(player_attr.columns) - 1)\n",
    "    column_attrs = []\n",
    "    print('%s columns and %s rows' % (len(positions), len(match_dates)))\n",
    "    \n",
    "    from multiprocess import Pool\n",
    "    pool = Pool()\n",
    "    for i in range(0, 20, 4):\n",
    "        print(i)\n",
    "        task1 = pool.apply_async(construct_labels, [player_attr, match_dates, player_series[i]])\n",
    "        task2 = pool.apply_async(construct_labels, [player_attr, match_dates, player_series[i+1]])\n",
    "        task3 = pool.apply_async(construct_labels, [player_attr, match_dates, player_series[i+2]])\n",
    "        task4 = pool.apply_async(construct_labels, [player_attr, match_dates, player_series[i+3]])\n",
    "        print('yeet')\n",
    "        labels1 = task1.get()\n",
    "        labels2 = task2.get()\n",
    "        labels3 = task3.get()\n",
    "        labels4 = task4.get()\n",
    "        attr1 = player_attr.loc[labels1].reset_index(drop = True)\n",
    "        attr2 = player_attr.loc[labels2].reset_index(drop = True)\n",
    "        attr3 = player_attr.loc[labels3].reset_index(drop = True)\n",
    "        attr4 = player_attr.loc[labels4].reset_index(drop = True)\n",
    "        for j, column in enumerate(attr1):\n",
    "            column_attrs.append(attr1[column].rename(columns[i][j]))\n",
    "            column_attrs.append(attr2[column].rename(columns[i+1][j]))\n",
    "            column_attrs.append(attr3[column].rename(columns[i+2][j]))\n",
    "            column_attrs.append(attr4[column].rename(columns[i+3][j]))\n",
    "            \n",
    "    labels1 = construct_labels(player_attr, match_dates, player_series[20])\n",
    "    labels2 = construct_labels(player_attr, match_dates, player_series[21])\n",
    "    attr1 = player_attr.loc[labels1].reset_index(drop = True)\n",
    "    attr2 = player_attr.loc[labels2].reset_index(drop = True)\n",
    "    for j, column in enumerate(attr1):\n",
    "        column_attrs.append(attr1[column].rename(columns[20][j]))\n",
    "        column_attrs.append(attr2[column].rename(columns[21][j]))\n",
    "    \n",
    "    x = pd.concat(column_attrs, axis = 1).set_index(match_ids)\n",
    "    y = goal_dif\n",
    "    return x, y"
   ]
  },
  {
   "cell_type": "code",
   "execution_count": null,
   "metadata": {},
   "outputs": [],
   "source": [
    "def split_matches_data(m_pl, m_npl):\n",
    "    pl_tr = 0.2\n",
    "    pl_cv = 0.4\n",
    "    pl_te = 0.4\n",
    "    m_pl_tr = m_pl.sample(frac = pl_tr)\n",
    "    m_pl = m_pl.drop(m_pl_tr.index)\n",
    "    m_pl_cv = m_pl.sample(frac = (pl_cv / (pl_cv + pl_te)))\n",
    "    m_pl = m_pl.drop(m_pl_cv.index)\n",
    "    m_pl_te = m_pl\n",
    "    \n",
    "    m_tr = m_npl.append(m_pl_tr).sample(frac = 1)\n",
    "    \n",
    "    return m_tr, m_pl_cv, m_pl_te"
   ]
  },
  {
   "cell_type": "code",
   "execution_count": null,
   "metadata": {},
   "outputs": [],
   "source": [
    "def get_player_attr():\n",
    "    df = pd.read_csv('Player_Attributes.csv')\n",
    "    columns_keep = ['player_api_id',\n",
    "                    'date',\n",
    "                    'overall_rating',\n",
    "                    'potential',\n",
    "                    'crossing',\n",
    "                    'finishing',\n",
    "                    'heading_accuracy',\n",
    "                    'short_passing',\n",
    "                    'volleys',\n",
    "                    'dribbling',\n",
    "                    'curve',\n",
    "                    'free_kick_accuracy',\n",
    "                    'long_passing',\n",
    "                    'ball_control',\n",
    "                    'acceleration',\n",
    "                    'sprint_speed',\n",
    "                    'agility',\n",
    "                    'reactions',\n",
    "                    'balance',\n",
    "                    'shot_power',\n",
    "                    'jumping',\n",
    "                    'stamina',\n",
    "                    'strength',\n",
    "                    'long_shots',\n",
    "                    'aggression',\n",
    "                    'interceptions',\n",
    "                    'positioning',\n",
    "                    'vision',\n",
    "                    'penalties',\n",
    "                    'marking',\n",
    "                    'standing_tackle',\n",
    "                    'sliding_tackle',\n",
    "                    'gk_diving',\n",
    "                    'gk_handling',\n",
    "                    'gk_kicking',\n",
    "                    'gk_positioning',\n",
    "                    'gk_reflexes']\n",
    "    df = df[columns_keep]\n",
    "    df['date'] = pd.to_datetime(df['date'])\n",
    "    df = df.sort_values('date', ascending = False)\n",
    "    df = df.set_index(['player_api_id', 'date'])\n",
    "    df = df.dropna()\n",
    "    return df, columns_keep"
   ]
  },
  {
   "cell_type": "code",
   "execution_count": null,
   "metadata": {},
   "outputs": [],
   "source": [
    "def load_data_all():\n",
    "    matches_pl, matches_non_pl = filter_into_pl_and_non_pl()\n",
    "    player_attr, columns_keep = get_player_attr()\n",
    "    m_tr, m_cv, m_te = split_matches_data(matches_pl, matches_non_pl)\n",
    "    x_tr, y_tr = construct_input(m_tr, player_attr, columns_keep)\n",
    "    x_cv, y_cv = construct_input(m_cv, player_attr, columns_keep)\n",
    "    x_te, y_te = construct_input(m_te, player_attr, columns_keep)\n",
    "    \n",
    "    '''\n",
    "    min_max_scaler = preprocessing.MinMaxScaler()\n",
    "    x_tr = pd.DataFrame(min_max_scaler.fit_transform(x_tr), index = m_tr['match_api_id'], columns = x_tr.columns)\n",
    "    x_cv = pd.DataFrame(min_max_scaler.fit_transform(x_cv), index = m_cv['match_api_id'], columns = x_cv.columns)\n",
    "    x_te = pd.DataFrame(min_max_scaler.fit_transform(x_te), index = m_te['match_api_id'], columns = x_te.columns)\n",
    "    '''\n",
    "    \n",
    "    return x_tr, y_tr, x_cv, y_cv, x_te, y_te"
   ]
  },
  {
   "cell_type": "code",
<<<<<<< HEAD:2.b Generate Raw Data.ipynb
   "execution_count": 9,
   "metadata": {},
   "outputs": [
    {
     "name": "stdout",
     "output_type": "stream",
     "text": [
      "22 columns and 16673 rows\n",
      "0\n",
      "yeet\n",
      "4\n",
      "yeet\n",
      "8\n",
      "yeet\n",
      "12\n",
      "yeet\n",
      "16\n",
      "yeet\n",
      "going\n",
      "0\n",
      "1000\n",
      "2000\n",
      "3000\n",
      "4000\n",
      "5000\n",
      "6000\n",
      "7000\n",
      "8000\n",
      "9000\n",
      "10000\n",
      "11000\n",
      "12000\n",
      "13000\n",
      "14000\n",
      "15000\n",
      "16000\n",
      "going\n",
      "0\n",
      "1000\n",
      "2000\n",
      "3000\n",
      "4000\n",
      "5000\n",
      "6000\n",
      "7000\n",
      "8000\n",
      "9000\n",
      "10000\n",
      "11000\n",
      "12000\n",
      "13000\n",
      "14000\n",
      "15000\n",
      "16000\n",
      "22 columns and 1094 rows\n",
      "0\n",
      "yeet\n",
      "4\n",
      "yeet\n",
      "8\n",
      "yeet\n",
      "12\n",
      "yeet\n",
      "16\n",
      "yeet\n",
      "going\n",
      "0\n",
      "1000\n",
      "going\n",
      "0\n",
      "1000\n",
      "22 columns and 1093 rows\n",
      "0\n",
      "yeet\n",
      "4\n",
      "yeet\n",
      "8\n",
      "yeet\n",
      "12\n",
      "yeet\n",
      "16\n",
      "yeet\n",
      "going\n",
      "0\n",
      "1000\n",
      "going\n",
      "0\n",
      "1000\n"
     ]
    }
   ],
=======
   "execution_count": null,
   "metadata": {
    "scrolled": false
   },
   "outputs": [],
>>>>>>> renzhi2:load_data_for_player_attr_all.ipynb
   "source": [
    "x_tr, y_tr, x_cv, y_cv, x_te, y_te = load_data_all()"
   ]
  },
  {
   "cell_type": "code",
   "execution_count": null,
   "metadata": {},
   "outputs": [],
   "source": [
    "x_tr.to_csv('x_train.csv')\n",
    "y_tr.to_csv('y_train.csv')\n",
    "x_cv.to_csv('x_val.csv')\n",
    "y_cv.to_csv('y_val.csv')\n",
    "x_te.to_csv('x_test.csv')\n",
    "y_te.to_csv('y_test.csv')"
   ]
  },
  {
   "cell_type": "code",
   "execution_count": null,
   "metadata": {},
   "outputs": [],
   "source": [
    "min_max_scaler = preprocessing.MinMaxScaler()\n",
    "x_tr = pd.DataFrame(min_max_scaler.fit_transform(x_tr), index = y_tr.index, columns = x_tr.columns)\n",
    "x_cv = pd.DataFrame(min_max_scaler.fit_transform(x_cv), index = y_cv.index, columns = x_cv.columns)\n",
    "x_te = pd.DataFrame(min_max_scaler.fit_transform(x_te), index = y_te.index, columns = x_te.columns)\n",
    "    "
   ]
  },
  {
   "cell_type": "code",
   "execution_count": 15,
   "metadata": {},
   "outputs": [
    {
     "data": {
      "text/html": [
       "<div>\n",
       "<style scoped>\n",
       "    .dataframe tbody tr th:only-of-type {\n",
       "        vertical-align: middle;\n",
       "    }\n",
       "\n",
       "    .dataframe tbody tr th {\n",
       "        vertical-align: top;\n",
       "    }\n",
       "\n",
       "    .dataframe thead th {\n",
       "        text-align: right;\n",
       "    }\n",
       "</style>\n",
       "<table border=\"1\" class=\"dataframe\">\n",
       "  <thead>\n",
       "    <tr style=\"text-align: right;\">\n",
       "      <th></th>\n",
       "      <th>home_team_goal</th>\n",
       "      <th>away_team_goal</th>\n",
       "    </tr>\n",
       "  </thead>\n",
       "  <tbody>\n",
       "    <tr>\n",
       "      <th>2921</th>\n",
       "      <td>1</td>\n",
       "      <td>5</td>\n",
       "    </tr>\n",
       "  </tbody>\n",
       "</table>\n",
       "</div>"
      ],
      "text/plain": [
       "      home_team_goal  away_team_goal\n",
       "2921               1               5"
      ]
     },
     "execution_count": 15,
     "metadata": {},
     "output_type": "execute_result"
    }
   ],
   "source": [
    "df[df['match_api_id'] == 1474945][['home_team_goal', 'away_team_goal']]"
   ]
  },
  {
   "cell_type": "code",
   "execution_count": null,
   "metadata": {},
   "outputs": [],
   "source": [
    "y_tr"
   ]
  },
  {
   "cell_type": "code",
   "execution_count": 3,
   "metadata": {},
   "outputs": [],
   "source": [
    "df = pd.read_csv('Match.csv')"
   ]
  },
  {
   "cell_type": "code",
   "execution_count": null,
   "metadata": {},
   "outputs": [],
   "source": [
    "y_te.index = x_te.index"
   ]
  },
  {
   "cell_type": "code",
   "execution_count": 10,
   "metadata": {},
   "outputs": [
    {
     "data": {
      "text/plain": [
       "Index(['Unnamed: 0', 'Unnamed: 0.1', 'Unnamed: 0.1.1', 'index', 'id',\n",
       "       'country_id', 'league_id', 'season', 'stage', 'date', 'match_api_id',\n",
       "       'home_team_api_id', 'away_team_api_id', 'home_team_goal',\n",
       "       'away_team_goal', 'home_player_X1', 'home_player_X2', 'home_player_X3',\n",
       "       'home_player_X4', 'home_player_X5'],\n",
       "      dtype='object')"
      ]
     },
     "execution_count": 10,
     "metadata": {},
     "output_type": "execute_result"
    }
   ],
   "source": [
    "df.columns[0:20]"
   ]
  },
  {
   "cell_type": "code",
   "execution_count": null,
   "metadata": {},
   "outputs": [],
   "source": []
  }
 ],
 "metadata": {
  "kernelspec": {
   "display_name": "Python 3",
   "language": "python",
   "name": "python3"
  },
  "language_info": {
   "codemirror_mode": {
    "name": "ipython",
    "version": 3
   },
   "file_extension": ".py",
   "mimetype": "text/x-python",
   "name": "python",
   "nbconvert_exporter": "python",
   "pygments_lexer": "ipython3",
   "version": "3.7.3"
  }
 },
 "nbformat": 4,
 "nbformat_minor": 4
}
