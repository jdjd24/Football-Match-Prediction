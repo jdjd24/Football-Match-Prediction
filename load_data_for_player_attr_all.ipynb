{
 "cells": [
  {
   "cell_type": "code",
   "execution_count": 1,
   "metadata": {},
   "outputs": [],
   "source": [
    "import pandas as pd\n",
    "import numpy as np\n",
    "from sklearn import preprocessing"
   ]
  },
  {
   "cell_type": "code",
   "execution_count": 2,
   "metadata": {},
   "outputs": [],
   "source": [
    "def find_unique_most_recent(df, id_name):\n",
    "    df['date'] = pd.to_datetime(df['date'])\n",
    "    df = df.sort_values('date', ascending = False)\n",
    "    df = df.reset_index(drop = True)\n",
    "\n",
    "    u, indices = np.unique(df[id_name].values, return_index = True) # we are trying to take the most recent rating\n",
    "    indices.sort()\n",
    "    mask_unique = df.index.isin(indices)\n",
    "    df = df[mask_unique]\n",
    "    return df"
   ]
  },
  {
   "cell_type": "code",
   "execution_count": 3,
   "metadata": {},
   "outputs": [],
   "source": [
    "def filter_into_pl_and_non_pl():\n",
    "    matches = pd.read_csv('Match.csv')\n",
    "    mask = matches['country_id'] == 1729 # only PL\n",
    "    matches_pl = matches[mask]\n",
    "    matches_non_pl = matches[~mask]\n",
    "    del matches\n",
    "    return matches_pl, matches_non_pl\n",
    "    '''\n",
    "    teams = pd.read_csv('Team.csv')\n",
    "    pl_teams = np.unique(matches_pl[['home_team_api_id', 'away_team_api_id']].values)\n",
    "    mask = teams['team_api_id'].isin(pl_teams)\n",
    "    teams_pl = teams[mask]\n",
    "    teams_non_pl = teams[~mask]\n",
    "    \n",
    "    teams_attr = pd.read_csv('Team_Attributes.csv')\n",
    "    pl_teams_attr = teams_pl['team_api_id']\n",
    "    mask = teams_attr['team_api_id'].isin(pl_teams_attr)\n",
    "    teams_attr_pl = teams_attr[mask]\n",
    "    teams_attr_non_pl = teams_attr[~mask]\n",
    "    ta_pl = find_unique_most_recent(teams_attr_pl, 'team_api_id')\n",
    "    ta_non_pl = find_unique_most_recent(teams_attr_non_pl, 'team_api_id')\n",
    "    \n",
    "    players = pd.read_csv('Player.csv')\n",
    "    '''"
   ]
  },
  {
   "cell_type": "code",
   "execution_count": 18,
   "metadata": {},
   "outputs": [],
   "source": [
    "def construct_input(matches, player_attr, columns_keep):\n",
    "    match_ids = matches['match_api_id']\n",
    "    goal_dif = matches['home_team_goal'].sub(matches['away_team_goal'])\n",
    "    goal_dif[goal_dif < 0] = -1\n",
    "    goal_dif[goal_dif > 0] = 1\n",
    "    positions = ['home_player_1',\n",
    "                 'home_player_2',\n",
    "                 'home_player_3',\n",
    "                 'home_player_4',\n",
    "                 'home_player_5',\n",
    "                 'home_player_6',\n",
    "                 'home_player_7',\n",
    "                 'home_player_8',\n",
    "                 'home_player_9',\n",
    "                 'home_player_10',\n",
    "                 'home_player_11',\n",
    "                 'away_player_1',\n",
    "                 'away_player_2',\n",
    "                 'away_player_3',\n",
    "                 'away_player_4',\n",
    "                 'away_player_5',\n",
    "                 'away_player_6',\n",
    "                 'away_player_7',\n",
    "                 'away_player_8',\n",
    "                 'away_player_9',\n",
    "                 'away_player_10',\n",
    "                 'away_player_11']\n",
    "    columns = []\n",
    "    for pos in positions:\n",
    "        arr = [pos + '_' + column_name for column_name in columns_keep]\n",
    "        columns.append(arr)\n",
    "    \n",
    "    player_series = [matches[pos] for pos in positions]\n",
    "    columns_len = len(positions) * (len(player_attr.columns) - 1)\n",
    "    column_attrs = []\n",
    "    for i, pos in enumerate(positions):\n",
    "        attr = player_attr.loc[player_series[i].values].reset_index(drop = True)\n",
    "        for j, column in enumerate(attr):\n",
    "            column_attrs.append(attr[column].rename(columns[i][j]))\n",
    "    \n",
    "    x = pd.concat(column_attrs, axis = 1)\n",
    "    y = goal_dif\n",
    "    return x, y"
   ]
  },
  {
   "cell_type": "code",
   "execution_count": 5,
   "metadata": {},
   "outputs": [],
   "source": [
    "def split_matches_data(m_pl, m_npl):\n",
    "    pl_tr = 0.2\n",
    "    pl_cv = 0.4\n",
    "    pl_te = 0.4\n",
    "    m_pl_tr = m_pl.sample(frac = pl_tr)\n",
    "    m_pl = m_pl.drop(m_pl_tr.index)\n",
    "    m_pl_cv = m_pl.sample(frac = (pl_cv / (pl_cv + pl_te)))\n",
    "    m_pl = m_pl.drop(m_pl_cv.index)\n",
    "    m_pl_te = m_pl\n",
    "    \n",
    "    m_tr = m_npl.append(m_pl_tr).sample(frac = 1)\n",
    "    \n",
    "    return m_tr, m_pl_cv, m_pl_te"
   ]
  },
  {
   "cell_type": "code",
   "execution_count": 6,
   "metadata": {},
   "outputs": [],
   "source": [
    "def get_player_attr():\n",
    "    df = find_unique_most_recent(pd.read_csv('Player_Attributes.csv'), 'player_api_id')\n",
    "    df = df.set_index('player_api_id')\n",
    "    columns_keep = ['overall_rating',\n",
    "                    'potential',\n",
    "                    'crossing',\n",
    "                    'finishing',\n",
    "                    'heading_accuracy',\n",
    "                    'short_passing',\n",
    "                    'volleys',\n",
    "                    'dribbling',\n",
    "                    'curve',\n",
    "                    'free_kick_accuracy',\n",
    "                    'long_passing',\n",
    "                    'ball_control',\n",
    "                    'acceleration',\n",
    "                    'sprint_speed',\n",
    "                    'agility',\n",
    "                    'reactions',\n",
    "                    'balance',\n",
    "                    'shot_power',\n",
    "                    'jumping',\n",
    "                    'stamina',\n",
    "                    'strength',\n",
    "                    'long_shots',\n",
    "                    'aggression',\n",
    "                    'interceptions',\n",
    "                    'positioning',\n",
    "                    'vision',\n",
    "                    'penalties',\n",
    "                    'marking',\n",
    "                    'standing_tackle',\n",
    "                    'sliding_tackle',\n",
    "                    'gk_diving',\n",
    "                    'gk_handling',\n",
    "                    'gk_kicking',\n",
    "                    'gk_positioning',\n",
    "                    'gk_reflexes']\n",
    "    temp_df = df[columns_keep]\n",
    "    return temp_df, columns_keep"
   ]
  },
  {
   "cell_type": "code",
   "execution_count": 20,
   "metadata": {},
   "outputs": [],
   "source": [
    "def load_data_all():\n",
    "    matches_pl, matches_non_pl = filter_into_pl_and_non_pl()\n",
    "    player_attr, columns_keep = get_player_attr()\n",
    "    m_tr, m_cv, m_te = split_matches_data(matches_pl, matches_non_pl)\n",
    "    x_tr, y_tr = construct_input(m_tr, player_attr, columns_keep)\n",
    "    x_cv, y_cv = construct_input(m_cv, player_attr, columns_keep)\n",
    "    x_te, y_te = construct_input(m_te, player_attr, columns_keep)\n",
    "    \n",
    "    min_max_scaler = preprocessing.MinMaxScaler()\n",
    "    x_tr = pd.DataFrame(min_max_scaler.fit_transform(x_tr), index = m_tr['match_api_id'], columns = x_tr.columns)\n",
    "    x_cv = pd.DataFrame(min_max_scaler.fit_transform(x_cv), index = m_cv['match_api_id'], columns = x_cv.columns)\n",
    "    x_te = pd.DataFrame(min_max_scaler.fit_transform(x_te), index = m_te['match_api_id'], columns = x_te.columns)\n",
    "\n",
    "    return x_tr, y_tr, x_cv, y_cv, x_te, y_te"
   ]
  },
  {
   "cell_type": "code",
   "execution_count": 16,
   "metadata": {},
   "outputs": [],
   "source": [
    "df = pd.read_csv('Match.csv')"
   ]
  },
  {
   "cell_type": "code",
   "execution_count": null,
   "metadata": {},
   "outputs": [],
   "source": [
    "df['home_player_1'].isnull().sum()"
   ]
  },
  {
   "cell_type": "code",
   "execution_count": null,
   "metadata": {},
   "outputs": [],
   "source": [
    "player_attr, columns_keep = get_player_attr()"
   ]
  },
  {
   "cell_type": "code",
   "execution_count": null,
   "metadata": {
    "scrolled": true
   },
   "outputs": [],
   "source": [
    "\n",
    "positions = ['home_player_1',\n",
    "             'home_player_2',\n",
    "             'home_player_3',\n",
    "             'home_player_4',\n",
    "             'home_player_5',\n",
    "             'home_player_6',\n",
    "             'home_player_7',\n",
    "             'home_player_8',\n",
    "             'home_player_9',\n",
    "             'home_player_10',\n",
    "             'home_player_11',\n",
    "             'away_player_1',\n",
    "             'away_player_2',\n",
    "             'away_player_3',\n",
    "             'away_player_4',\n",
    "             'away_player_5',\n",
    "             'away_player_6',\n",
    "             'away_player_7',\n",
    "             'away_player_8',\n",
    "             'away_player_9',\n",
    "             'away_player_10',\n",
    "             'away_player_11']\n",
    "columns = []\n",
    "for pos in positions:\n",
    "    columns = columns + [pos + '_' + column_name for column_name in columns_keep]\n",
    "x_cv.columns = columns\n",
    "x_cv.columns\n",
    "x_cv"
   ]
  },
  {
   "cell_type": "code",
   "execution_count": 19,
   "metadata": {
    "scrolled": false
   },
   "outputs": [
    {
     "name": "stdout",
     "output_type": "stream",
     "text": [
      "Index(['home_player_1_overall_rating', 'home_player_1_potential',\n",
      "       'home_player_1_crossing', 'home_player_1_finishing',\n",
      "       'home_player_1_heading_accuracy', 'home_player_1_short_passing',\n",
      "       'home_player_1_volleys', 'home_player_1_dribbling',\n",
      "       'home_player_1_curve', 'home_player_1_free_kick_accuracy',\n",
      "       ...\n",
      "       'away_player_11_vision', 'away_player_11_penalties',\n",
      "       'away_player_11_marking', 'away_player_11_standing_tackle',\n",
      "       'away_player_11_sliding_tackle', 'away_player_11_gk_diving',\n",
      "       'away_player_11_gk_handling', 'away_player_11_gk_kicking',\n",
      "       'away_player_11_gk_positioning', 'away_player_11_gk_reflexes'],\n",
      "      dtype='object', length=770)\n"
     ]
    }
   ],
   "source": [
    "x_tr, y_tr, x_cv, y_cv, x_te, y_te = load_data_all()"
   ]
  },
  {
   "cell_type": "code",
   "execution_count": 24,
   "metadata": {},
   "outputs": [],
   "source": [
    "x_tr.to_csv('x_train.csv', index_label = False)\n",
    "y_tr.to_csv('y_train.csv', index_label = False)\n",
    "x_cv.to_csv('x_val.csv', index_label = False)\n",
    "y_cv.to_csv('y_val.csv', index_label = False)\n",
    "x_te.to_csv('x_test.csv', index_label = False)\n",
    "y_te.to_csv('y_test.csv', index_label = False)"
   ]
  }
 ],
 "metadata": {
  "kernelspec": {
   "display_name": "Python 3",
   "language": "python",
   "name": "python3"
  },
  "language_info": {
   "codemirror_mode": {
    "name": "ipython",
    "version": 3
   },
   "file_extension": ".py",
   "mimetype": "text/x-python",
   "name": "python",
   "nbconvert_exporter": "python",
   "pygments_lexer": "ipython3",
   "version": "3.8.2"
  }
 },
 "nbformat": 4,
 "nbformat_minor": 4
}
