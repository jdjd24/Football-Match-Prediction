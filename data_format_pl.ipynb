{
 "cells": [
  {
   "cell_type": "code",
   "execution_count": 1,
   "metadata": {},
   "outputs": [],
   "source": [
    "import pandas as pd\n",
    "import numpy as np"
   ]
  },
  {
   "cell_type": "code",
   "execution_count": 3,
   "metadata": {},
   "outputs": [],
   "source": [
    "def find_unique_most_recent(df, id_name):\n",
    "    df['date'] = pd.to_datetime(df['date'])\n",
    "    df = df.sort_values('date', ascending = False)\n",
    "    df = df.reset_index(drop = True)\n",
    "\n",
    "    u, indices = np.unique(df[id_name].values, return_index = True) # we are trying to take the most recent rating\n",
    "    indices.sort()\n",
    "    mask_unique = df.index.isin(indices)\n",
    "    df = df[mask_unique]\n",
    "    return df"
   ]
  },
  {
   "cell_type": "code",
   "execution_count": 4,
   "metadata": {},
   "outputs": [],
   "source": [
    "matches = pd.read_csv('Match.csv')"
   ]
  },
  {
   "cell_type": "code",
   "execution_count": 5,
   "metadata": {},
   "outputs": [],
   "source": [
    "mask = matches['country_id'] == 1729 # only PL\n",
    "m = matches[mask] #3040 rows"
   ]
  },
  {
   "cell_type": "code",
   "execution_count": 8,
   "metadata": {},
   "outputs": [],
   "source": [
    "df = pd.read_csv('Team.csv')\n",
    "pl_teams = np.unique(x[['home_team_api_id', 'away_team_api_id']].values)\n",
    "mask = df['team_api_id'].isin(pl_teams)\n",
    "teams = df[mask]"
   ]
  },
  {
   "cell_type": "code",
   "execution_count": 10,
   "metadata": {},
   "outputs": [
    {
     "name": "stderr",
     "output_type": "stream",
     "text": [
      "<ipython-input-3-1b705fea6f65>:2: SettingWithCopyWarning: \n",
      "A value is trying to be set on a copy of a slice from a DataFrame.\n",
      "Try using .loc[row_indexer,col_indexer] = value instead\n",
      "\n",
      "See the caveats in the documentation: https://pandas.pydata.org/pandas-docs/stable/user_guide/indexing.html#returning-a-view-versus-a-copy\n",
      "  df['date'] = pd.to_datetime(df['date'])\n"
     ]
    }
   ],
   "source": [
    "df = pd.read_csv('Team_Attributes.csv')\n",
    "pl_teams_attr = teams['team_api_id']\n",
    "mask = df['team_api_id'].isin(pl_teams_attr)\n",
    "teams_attr = df[mask]\n",
    "ta = find_unique_most_recent(teams_attr, 'team_api_id')"
   ]
  },
  {
   "cell_type": "code",
   "execution_count": 12,
   "metadata": {},
   "outputs": [],
   "source": [
    "df = pd.read_csv('Player.csv')"
   ]
  },
  {
   "cell_type": "code",
   "execution_count": 13,
   "metadata": {},
   "outputs": [],
   "source": [
    "player_list = []\n",
    "for i in range(1, 12):\n",
    "    player_list.append('home_player_' + str(i))\n",
    "    player_list.append('away_player_' + str(i))"
   ]
  },
  {
   "cell_type": "code",
   "execution_count": 14,
   "metadata": {},
   "outputs": [],
   "source": [
    "pl_players = np.unique(x[player_list].values)\n",
    "mask = df['player_api_id'].isin(pl_players)\n",
    "players = df[mask]"
   ]
  },
  {
   "cell_type": "code",
   "execution_count": 15,
   "metadata": {},
   "outputs": [],
   "source": [
    "players.to_csv('Player_PL.csv', index_label = 'index')"
   ]
  },
  {
   "cell_type": "code",
   "execution_count": 16,
   "metadata": {},
   "outputs": [],
   "source": [
    "df = pd.read_csv('Player_Attributes.csv')"
   ]
  },
  {
   "cell_type": "code",
   "execution_count": 17,
   "metadata": {},
   "outputs": [],
   "source": [
    "mask = df['player_api_id'].isin(pl_players)\n",
    "player_attributes = df[mask]"
   ]
  },
  {
   "cell_type": "code",
   "execution_count": 18,
   "metadata": {},
   "outputs": [
    {
     "name": "stderr",
     "output_type": "stream",
     "text": [
      "<ipython-input-3-1b705fea6f65>:2: SettingWithCopyWarning: \n",
      "A value is trying to be set on a copy of a slice from a DataFrame.\n",
      "Try using .loc[row_indexer,col_indexer] = value instead\n",
      "\n",
      "See the caveats in the documentation: https://pandas.pydata.org/pandas-docs/stable/user_guide/indexing.html#returning-a-view-versus-a-copy\n",
      "  df['date'] = pd.to_datetime(df['date'])\n"
     ]
    }
   ],
   "source": [
    "pa = find_unique_most_recent(player_attributes, 'player_api_id')"
   ]
  },
  {
   "cell_type": "code",
   "execution_count": 20,
   "metadata": {},
   "outputs": [],
   "source": [
    "m.to_csv('Match_PL.csv', index_label='index')\n",
    "pa.to_csv('Player_Attributes_PL.csv', index_label = 'index')\n",
    "ta.to_csv('Team_Attributes_PL.csv', index_label = 'index')\n",
    "teams.to_csv('Team_PL.csv', index_label = 'index')\n",
    "players.to_csv('Player_PL.csv', index_label = 'index')"
   ]
  },
  {
   "cell_type": "code",
   "execution_count": 11,
   "metadata": {},
   "outputs": [],
   "source": [
    "def cleanup_matches():\n",
    "    matches = pd.read_csv('Match.csv')\n",
    "    team_attrs = pd.read_csv('Team_Attributes.csv')\n",
    "    mask_home = matches['home_team_api_id'].isin(team_attrs['team_api_id'])\n",
    "    matches = matches[mask_home]\n",
    "    mask_away = matches['away_team_api_id'].isin(team_attrs['team_api_id'])\n",
    "    matches = matches[mask_away]\n",
    "    \n",
    "    player_attrs = pd.read_csv('Player_Attributes.csv')\n",
    "    columns = []\n",
    "    for i in range(1, 12):\n",
    "        columns.append('home_player_' + str(i))\n",
    "        columns.append('away_player_' + str(i))\n",
    "    \n",
    "    for column in columns:\n",
    "        mask = matches[column].isin(player_attrs['player_api_id'])\n",
    "        matches = matches[mask]\n",
    "    matches.to_csv('Match.csv')\n",
    "        \n",
    "        "
   ]
  },
  {
   "cell_type": "code",
   "execution_count": 12,
   "metadata": {},
   "outputs": [],
   "source": [
    "cleanup_matches()"
   ]
  },
  {
   "cell_type": "code",
   "execution_count": 42,
   "metadata": {},
   "outputs": [
    {
     "name": "stdout",
     "output_type": "stream",
     "text": [
      "Once deleted, variables cannot be recovered. Proceed (y/[n])? y\n"
     ]
    }
   ],
   "source": [
    "%reset"
   ]
  },
  {
   "cell_type": "code",
   "execution_count": null,
   "metadata": {},
   "outputs": [],
   "source": []
  }
 ],
 "metadata": {
  "kernelspec": {
   "display_name": "Python 3",
   "language": "python",
   "name": "python3"
  },
  "language_info": {
   "codemirror_mode": {
    "name": "ipython",
    "version": 3
   },
   "file_extension": ".py",
   "mimetype": "text/x-python",
   "name": "python",
   "nbconvert_exporter": "python",
   "pygments_lexer": "ipython3",
   "version": "3.8.2"
  }
 },
 "nbformat": 4,
 "nbformat_minor": 4
}
