{
 "cells": [
  {
   "cell_type": "code",
   "execution_count": 1,
   "metadata": {},
   "outputs": [],
   "source": [
    "import pandas as pd\n",
    "import numpy as np"
   ]
  },
  {
   "cell_type": "code",
   "execution_count": 27,
   "metadata": {},
   "outputs": [],
   "source": [
    "def load_data():\n",
    "    df = pd.read_csv('Match_PL.csv')\n",
    "    match_ids = df['match_api_id']\n",
    "    goal_dif = df['home_team_goal'].sub(df['away_team_goal'])\n",
    "    goal_dif[goal_dif < 0] = -1\n",
    "    goal_dif[goal_dif > 0] = 1\n",
    "    home_teams = df['home_team_api_id']\n",
    "    away_teams = df['away_team_api_id']\n",
    "\n",
    "    df = pd.read_csv('Team_Attributes_PL.csv')\n",
    "    columns_keep = ['team_api_id',\n",
    "                    'buildUpPlaySpeed', \n",
    "                    'buildUpPlayDribbling',\n",
    "                    'buildUpPlayPassing',\n",
    "                    'chanceCreationPassing',\n",
    "                    'chanceCreationCrossing',\n",
    "                    'chanceCreationShooting',\n",
    "                    'defencePressure',\n",
    "                    'defenceAggression',\n",
    "                    'defenceTeamWidth']\n",
    "    teams_attr = df[columns_keep]\n",
    "    home_columns = ['home_' + column for column in columns_keep]\n",
    "    away_columns = ['away_' + column for column in columns_keep]\n",
    "    columns_len = len(columns_keep) - 1\n",
    "    values = np.zeros((len(match_ids), 2 * columns_len))\n",
    "    for i, team in enumerate(home_teams):\n",
    "        home_team_attr = teams_attr.loc[df['team_api_id'] == team].to_numpy()\n",
    "        away_team_attr = teams_attr.loc[df['team_api_id'] == away_teams[i]].to_numpy()\n",
    "        row = np.append(np.delete(home_team_attr, 0), np.delete(away_team_attr, 0))\n",
    "        values[i,:] = row\n",
    "    x = pd.DataFrame(values, index = match_ids, columns = home_columns[1:] + away_columns[1:])\n",
    "    y = goal_dif\n",
    "    \n",
    "    tr_prop = 0.6\n",
    "    cv_prop = 0.2\n",
    "    te_prop = 0.2\n",
    "    end_row_tr = int(tr_prop * x.shape[0])\n",
    "    end_row_cv = int((tr_prop + cv_prop) * x.shape[0])\n",
    "    x_tr = x[:end_row_tr]\n",
    "    y_tr = y[:end_row_tr]\n",
    "    x_cv = x[end_row_tr:end_row_cv]\n",
    "    y_cv = y[end_row_tr:end_row_cv]\n",
    "    x_te = x[end_row_cv:]\n",
    "    y_te = y[end_row_cv:]\n",
    "    return x_tr, y_tr, x_cv, y_cv, x_te, y_te"
   ]
  },
  {
   "cell_type": "code",
   "execution_count": 28,
   "metadata": {},
   "outputs": [],
   "source": [
    "x_tr, y_tr, x_cv, y_cv, x_te, y_te = load_data()"
   ]
  },
  {
   "cell_type": "code",
   "execution_count": 29,
   "metadata": {},
   "outputs": [
    {
     "name": "stdout",
     "output_type": "stream",
     "text": [
      "(1824, 18)\n",
      "(1824,)\n",
      "(608, 18)\n",
      "(608,)\n",
      "(608, 18)\n",
      "(608,)\n"
     ]
    }
   ],
   "source": [
    "print(x_tr.shape)\n",
    "print(y_tr.shape)\n",
    "print(x_cv.shape)\n",
    "print(y_cv.shape)\n",
    "print(x_te.shape)\n",
    "print(y_te.shape)"
   ]
  }
 ],
 "metadata": {
  "kernelspec": {
   "display_name": "Python 3",
   "language": "python",
   "name": "python3"
  },
  "language_info": {
   "codemirror_mode": {
    "name": "ipython",
    "version": 3
   },
   "file_extension": ".py",
   "mimetype": "text/x-python",
   "name": "python",
   "nbconvert_exporter": "python",
   "pygments_lexer": "ipython3",
   "version": "3.8.2"
  }
 },
 "nbformat": 4,
 "nbformat_minor": 4
}
