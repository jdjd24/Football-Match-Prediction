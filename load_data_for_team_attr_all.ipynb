{
 "cells": [
  {
   "cell_type": "code",
   "execution_count": 135,
   "metadata": {},
   "outputs": [],
   "source": [
    "import pandas as pd\n",
    "import numpy as np\n",
    "from sklearn import preprocessing"
   ]
  },
  {
   "cell_type": "code",
   "execution_count": 136,
   "metadata": {},
   "outputs": [],
   "source": [
    "def find_unique_most_recent(df, id_name):\n",
    "    df['date'] = pd.to_datetime(df['date'])\n",
    "    df = df.sort_values('date', ascending = False)\n",
    "    df = df.reset_index(drop = True)\n",
    "\n",
    "    u, indices = np.unique(df[id_name].values, return_index = True) # we are trying to take the most recent rating\n",
    "    indices.sort()\n",
    "    mask_unique = df.index.isin(indices)\n",
    "    df = df[mask_unique]\n",
    "    return df"
   ]
  },
  {
   "cell_type": "code",
   "execution_count": 137,
   "metadata": {},
   "outputs": [],
   "source": [
    "def filter_into_pl_and_non_pl():\n",
    "    matches = pd.read_csv('Match.csv')\n",
    "    mask = matches['country_id'] == 1729 # only PL\n",
    "    matches_pl = matches[mask]\n",
    "    matches_non_pl = matches[~mask]\n",
    "    del matches\n",
    "    return matches_pl, matches_non_pl\n",
    "    '''\n",
    "    teams = pd.read_csv('Team.csv')\n",
    "    pl_teams = np.unique(matches_pl[['home_team_api_id', 'away_team_api_id']].values)\n",
    "    mask = teams['team_api_id'].isin(pl_teams)\n",
    "    teams_pl = teams[mask]\n",
    "    teams_non_pl = teams[~mask]\n",
    "    \n",
    "    teams_attr = pd.read_csv('Team_Attributes.csv')\n",
    "    pl_teams_attr = teams_pl['team_api_id']\n",
    "    mask = teams_attr['team_api_id'].isin(pl_teams_attr)\n",
    "    teams_attr_pl = teams_attr[mask]\n",
    "    teams_attr_non_pl = teams_attr[~mask]\n",
    "    ta_pl = find_unique_most_recent(teams_attr_pl, 'team_api_id')\n",
    "    ta_non_pl = find_unique_most_recent(teams_attr_non_pl, 'team_api_id')\n",
    "    \n",
    "    players = pd.read_csv('Player.csv')\n",
    "    '''"
   ]
  },
  {
   "cell_type": "code",
   "execution_count": 138,
   "metadata": {},
   "outputs": [],
   "source": [
    "def construct_input(matches, teams_attr):\n",
    "    match_ids = matches['match_api_id']\n",
    "    goal_dif = matches['home_team_goal'].sub(matches['away_team_goal'])\n",
    "    goal_dif[goal_dif < 0] = -1\n",
    "    goal_dif[goal_dif > 0] = 1\n",
    "    home_teams = matches['home_team_api_id']\n",
    "    away_teams = matches['away_team_api_id']\n",
    "    print(home_teams.shape)\n",
    "    print(away_teams.shape)\n",
    "\n",
    "    home_columns = ['home_' + column for column in teams_attr.columns]\n",
    "    away_columns = ['away_' + column for column in teams_attr.columns]\n",
    "    columns_len = len(teams_attr.columns) - 1\n",
    "    values = np.zeros((len(match_ids), 2 * columns_len))\n",
    "    for i, team in enumerate(away_teams):\n",
    "        home_team_attr = teams_attr.loc[teams_attr['team_api_id'] == home_teams.iloc[i]].to_numpy()\n",
    "        away_team_attr = teams_attr.loc[teams_attr['team_api_id'] == team].to_numpy()\n",
    "        row = np.append(np.delete(home_team_attr, 0), np.delete(away_team_attr, 0))\n",
    "        values[i,:] = row\n",
    "\n",
    "    x = pd.DataFrame(values, index = match_ids, columns = home_columns[1:] + away_columns[1:])\n",
    "    y = goal_dif\n",
    "    return x, y"
   ]
  },
  {
   "cell_type": "code",
   "execution_count": 139,
   "metadata": {},
   "outputs": [],
   "source": [
    "def split_matches_data(m_pl, m_npl):\n",
    "    pl_tr = 0.2\n",
    "    pl_cv = 0.4\n",
    "    pl_te = 0.4\n",
    "    m_pl_tr = m_pl.sample(frac = pl_tr)\n",
    "    m_pl = m_pl.drop(m_pl_tr.index)\n",
    "    m_pl_cv = m_pl.sample(frac = (pl_cv / (pl_cv + pl_te)))\n",
    "    m_pl = m_pl.drop(m_pl_cv.index)\n",
    "    m_pl_te = m_pl\n",
    "    \n",
    "    m_tr = m_npl.append(m_pl_tr).sample(frac = 1)\n",
    "    \n",
    "    return m_tr, m_pl_cv, m_pl_te\n",
    "    "
   ]
  },
  {
   "cell_type": "code",
   "execution_count": 140,
   "metadata": {},
   "outputs": [],
   "source": [
    "def get_teams_attr():\n",
    "    df = find_unique_most_recent(pd.read_csv('Team_Attributes.csv'), 'team_api_id')\n",
    "    columns_keep = ['team_api_id',\n",
    "                    'buildUpPlaySpeed', \n",
    "                    'buildUpPlayDribbling',\n",
    "                    'buildUpPlayPassing',\n",
    "                    'chanceCreationPassing',\n",
    "                    'chanceCreationCrossing',\n",
    "                    'chanceCreationShooting',\n",
    "                    'defencePressure',\n",
    "                    'defenceAggression',\n",
    "                    'defenceTeamWidth']\n",
    "    \n",
    "    return df[columns_keep]"
   ]
  },
  {
   "cell_type": "code",
   "execution_count": 141,
   "metadata": {},
   "outputs": [],
   "source": [
    "def load_data_all():\n",
    "    matches_pl, matches_non_pl = filter_into_pl_and_non_pl()\n",
    "    teams_attr = get_teams_attr()\n",
    "    m_tr, m_cv, m_te = split_matches_data(matches_pl, matches_non_pl)\n",
    "    x_tr, y_tr = construct_input(m_tr, teams_attr)\n",
    "    x_cv, y_cv = construct_input(m_cv, teams_attr)\n",
    "    x_te, y_te = construct_input(m_te, teams_attr)\n",
    "    \n",
    "    min_max_scaler = preprocessing.MinMaxScaler()\n",
    "    x_tr = pd.DataFrame(min_max_scaler.fit_transform(x_tr))\n",
    "    x_cv = pd.DataFrame(min_max_scaler.fit_transform(x_cv))\n",
    "    x_te = pd.DataFrame(min_max_scaler.fit_transform(x_te))\n",
    "\n",
    "    return x_tr, y_tr, x_cv, y_cv, x_te, y_te"
   ]
  },
  {
   "cell_type": "code",
   "execution_count": 142,
   "metadata": {
    "scrolled": false
   },
   "outputs": [
    {
     "name": "stdout",
     "output_type": "stream",
     "text": [
      "(23197,)\n",
      "(23197,)\n",
      "(1216,)\n",
      "(1216,)\n",
      "(1216,)\n",
      "(1216,)\n"
     ]
    }
   ],
   "source": [
    "x_tr, y_tr, x_cv, y_cv, x_te, y_te = load_data_all()"
   ]
  },
  {
   "cell_type": "code",
   "execution_count": 130,
   "metadata": {},
   "outputs": [],
   "source": [
    "x_tr.to_csv('x_train.csv', index_label = False)\n",
    "y_tr.to_csv('y_train.csv', index_label = False)\n",
    "x_cv.to_csv('x_val.csv', index_label = False)\n",
    "y_cv.to_csv('y_val.csv', index_label = False)\n",
    "x_te.to_csv('x_test.csv', index_label = False)\n",
    "y_te.to_csv('y_test.csv', index_label = False)"
   ]
  },
  {
   "cell_type": "code",
   "execution_count": null,
   "metadata": {},
   "outputs": [],
   "source": []
  }
 ],
 "metadata": {
  "kernelspec": {
   "display_name": "Python 3",
   "language": "python",
   "name": "python3"
  },
  "language_info": {
   "codemirror_mode": {
    "name": "ipython",
    "version": 3
   },
   "file_extension": ".py",
   "mimetype": "text/x-python",
   "name": "python",
   "nbconvert_exporter": "python",
   "pygments_lexer": "ipython3",
   "version": "3.8.2"
  }
 },
 "nbformat": 4,
 "nbformat_minor": 4
}
