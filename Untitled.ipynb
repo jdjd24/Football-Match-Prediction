{
 "cells": [
  {
   "cell_type": "code",
   "execution_count": 109,
   "metadata": {},
   "outputs": [],
   "source": [
    "import pandas as pd\n",
    "import numpy as np\n",
    "import matplotlib.pyplot as plt\n"
   ]
  },
  {
   "cell_type": "code",
   "execution_count": 159,
   "metadata": {},
   "outputs": [],
   "source": [
    "match = pd.read_csv('./Data/Match.csv', index_col=False)\n",
    "#country = pd.read_csv('./Data/Country.csv', index_col=False)\n",
    "#team = pd.read_csv('./Data/Team.csv', index_col=False)\n",
    "#player = pd.read_csv('./Data/Player.csv', index_col=False)\n",
    "#p_att = pd.read_csv('./Data/Player_Attributes.csv', index_col=False)\n",
    "#league = pd.read_csv('./Data/League.csv', index_col=False)\n",
    "#t_att = pd.read_csv('./Data/Team_Attributes.csv', index_col=False)\n"
   ]
  },
  {
   "cell_type": "code",
   "execution_count": 160,
   "metadata": {
    "jupyter": {
     "source_hidden": true
    }
   },
   "outputs": [],
   "source": [
    "keep = ['match_api_id','home_player_X1',\n",
    " 'home_player_X2',\n",
    " 'home_player_X3',\n",
    " 'home_player_X4',\n",
    " 'home_player_X5',\n",
    " 'home_player_X6',\n",
    " 'home_player_X7',\n",
    " 'home_player_X8',\n",
    " 'home_player_X9',\n",
    " 'home_player_X10',\n",
    " 'home_player_X11',\n",
    "'home_player_Y1',\n",
    " 'home_player_Y2',\n",
    " 'home_player_Y3',\n",
    " 'home_player_Y4',\n",
    " 'home_player_Y5',\n",
    " 'home_player_Y6',\n",
    " 'home_player_Y7',\n",
    " 'home_player_Y8',\n",
    " 'home_player_Y9',\n",
    " 'home_player_Y10',\n",
    " 'home_player_Y11',\n",
    "        'away_player_X1',\n",
    " 'away_player_X2',\n",
    " 'away_player_X3',\n",
    " 'away_player_X4',\n",
    " 'away_player_X5',\n",
    " 'away_player_X6',\n",
    " 'away_player_X7',\n",
    " 'away_player_X8',\n",
    " 'away_player_X9',\n",
    " 'away_player_X10',\n",
    " 'away_player_X11',\n",
    " 'away_player_Y1',\n",
    " 'away_player_Y2',\n",
    " 'away_player_Y3',\n",
    " 'away_player_Y4',\n",
    " 'away_player_Y5',\n",
    " 'away_player_Y6',\n",
    " 'away_player_Y7',\n",
    " 'away_player_Y8',\n",
    " 'away_player_Y9',\n",
    " 'away_player_Y10',\n",
    " 'away_player_Y11',\n",
    " ]\n",
    "match = match[keep]"
   ]
  },
  {
   "cell_type": "code",
   "execution_count": 161,
   "metadata": {},
   "outputs": [],
   "source": [
    "match = match.dropna(how='any')"
   ]
  },
  {
   "cell_type": "markdown",
   "metadata": {},
   "source": [
    "### Plotting Formations"
   ]
  },
  {
   "cell_type": "code",
   "execution_count": 113,
   "metadata": {},
   "outputs": [],
   "source": [
    "df = match.copy()\n",
    "for i in range(11):\n",
    "    df['home_{}_coord'.format(i+1)] = list(zip(df['home_player_X{}'.format(i+1)], df['home_player_Y{}'.format(i+1)]))     \n",
    "for i in range(11):\n",
    "    df['away_{}_coord'.format(i+1)] = list(zip(df['away_player_X{}'.format(i+1)], df['away_player_Y{}'.format(i+1)]))\n",
    "\n"
   ]
  },
  {
   "cell_type": "code",
   "execution_count": 114,
   "metadata": {},
   "outputs": [],
   "source": [
    "df_plot= df.iloc[:,-22:]"
   ]
  },
  {
   "cell_type": "code",
   "execution_count": 144,
   "metadata": {},
   "outputs": [],
   "source": [
    "home = df_plot.iloc[724,:11]\n",
    "away = df_plot.iloc[724,11:]"
   ]
  },
  {
   "cell_type": "code",
   "execution_count": 145,
   "metadata": {},
   "outputs": [
    {
     "data": {
      "image/png": "[encoded data removed]",
      "text/plain": [
       "<Figure size 432x288 with 2 Axes>"
      ]
     },
     "metadata": {
      "needs_background": "light"
     },
     "output_type": "display_data"
    }
   ],
   "source": [
    "plt.subplot(2, 2, 1)\n",
    "plt.scatter(*zip(*home))\n",
    "plt.subplot(2, 2, 2)\n",
    "plt.scatter(*zip(*away))\n",
    "plt.show()"
   ]
  },
  {
   "cell_type": "markdown",
   "metadata": {},
   "source": [
    "### Extracting positions from coordinates (DF/MF/ATT)"
   ]
  },
  {
   "cell_type": "code",
   "execution_count": 162,
   "metadata": {},
   "outputs": [],
   "source": [
    "## 0:GK, 1:DF, 2:MF, 3:ATT\n",
    "\n",
    "match['home_{}_position'.format(1)] = 0\n",
    "\n",
    "for i in range(1,11):\n",
    "    \n",
    "    match['home_{}_position'.format(i+1)] = ((match['home_player_Y{}'.format(i+1)] < 4) * 1 +\n",
    "                                             ((match['home_player_Y{}'.format(i+1)] >= 4) & (match['home_player_Y{}'.format(i+1)] <= 8)) * 2 +\n",
    "                                            (match['home_player_Y{}'.format(i+1)] >8 ) * 3)\n",
    "\n",
    "match['away_{}_position'.format(1)] = 0\n",
    "\n",
    "for i in range(11):\n",
    "    match['away_{}_position'.format(i+1)] =((match['away_player_Y{}'.format(i+1)] < 4) * 1\n",
    "                                            + ((match['away_player_Y{}'.format(i+1)] >= 4) & (match['away_player_Y{}'.format(i+1)] <= 8)) * 2 \n",
    "                                            + (match['away_player_Y{}'.format(i+1)] >8 ) * 3)\n"
   ]
  },
  {
   "cell_type": "code",
   "execution_count": 163,
   "metadata": {},
   "outputs": [],
   "source": [
    "df_positions = pd.concat([match['match_api_id'],match.iloc[:,-22:]], axis =1)"
   ]
  },
  {
   "cell_type": "code",
   "execution_count": 261,
   "metadata": {},
   "outputs": [],
   "source": [
    "a = pd.read_csv('./Data with correct player_atts/x_train.csv').merge(df_positions, how = 'left', on ='match_api_id')\n",
    "b = pd.read_csv('./Data with correct player_atts/x_val.csv').merge(df_positions, how = 'left', on ='match_api_id')\n",
    "c = pd.read_csv('./Data with correct player_atts/x_test.csv').merge(df_positions, how = 'left', on ='match_api_id')"
   ]
  },
  {
   "cell_type": "code",
   "execution_count": null,
   "metadata": {},
   "outputs": [],
   "source": []
  },
  {
   "cell_type": "code",
   "execution_count": 266,
   "metadata": {},
   "outputs": [
    {
     "name": "stderr",
     "output_type": "stream",
     "text": [
      "C:\\Users\\Jack.Dai\\AppData\\Local\\Continuum\\anaconda3\\lib\\site-packages\\ipykernel_launcher.py:2: SettingWithCopyWarning: \n",
      "A value is trying to be set on a copy of a slice from a DataFrame.\n",
      "Try using .loc[row_indexer,col_indexer] = value instead\n",
      "\n",
      "See the caveats in the documentation: http://pandas.pydata.org/pandas-docs/stable/indexing.html#indexing-view-versus-copy\n",
      "  \n"
     ]
    }
   ],
   "source": [
    "c1 = c[['match_api_id', 'home_player_1_overall_rating']]\n",
    "c1[1] = c1['home_player_1_overall_rating']\n",
    "c1= c1.drop(columns = ['home_player_1_overall_rating'])\n",
    "for i in range(1,11):\n",
    "    c1[i+1] = (c['home_{}_position'.format(i+1)]==1) * c['home_player_{}_overall_rating'.format(i+1)]\n"
   ]
  },
  {
   "cell_type": "code",
   "execution_count": null,
   "metadata": {},
   "outputs": [],
   "source": []
  }
 ],
 "metadata": {
  "kernelspec": {
   "display_name": "Python 3",
   "language": "python",
   "name": "python3"
  },
  "language_info": {
   "codemirror_mode": {
    "name": "ipython",
    "version": 3
   },
   "file_extension": ".py",
   "mimetype": "text/x-python",
   "name": "python",
   "nbconvert_exporter": "python",
   "pygments_lexer": "ipython3",
   "version": "3.7.3"
  }
 },
 "nbformat": 4,
 "nbformat_minor": 4
}
