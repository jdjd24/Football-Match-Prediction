{
 "cells": [
  {
   "cell_type": "markdown",
   "metadata": {},
   "source": [
    "## Take data from respository and add more features"
   ]
  },
  {
   "cell_type": "code",
   "execution_count": 104,
   "metadata": {},
   "outputs": [],
   "source": [
    "import pandas as pd\n",
    "import numpy as np"
   ]
  },
  {
   "cell_type": "code",
   "execution_count": 105,
   "metadata": {},
   "outputs": [],
   "source": [
    "match = pd.read_csv('./Data/Match.csv', index_col=False)\n",
    "#country = pd.read_csv('./Data/Country.csv', index_col=False)\n",
    "#team = pd.read_csv('./Data/Team.csv', index_col=False)\n",
    "#player = pd.read_csv('./Data/Player.csv', index_col=False)\n",
    "#p_att = pd.read_csv('./Data/Player_Attributes.csv', index_col=False)\n",
    "#league = pd.read_csv('./Data/League.csv', index_col=False)\n",
    "#t_att = pd.read_csv('./Data/Team_Attributes.csv', index_col=False)\n"
   ]
  },
  {
   "cell_type": "code",
   "execution_count": 106,
   "metadata": {},
   "outputs": [],
   "source": [
    "## Add win/draw/loss labels (1,0,-1)\n",
    "\n",
    "goal_dif = match['home_team_goal'].sub(match['away_team_goal'])\n",
    "goal_dif[goal_dif < 0] = -1\n",
    "goal_dif[goal_dif > 0] = 1\n",
    "match['target_clf'] = goal_dif"
   ]
  },
  {
   "cell_type": "markdown",
   "metadata": {},
   "source": [
    "## Add Form Features"
   ]
  },
  {
   "cell_type": "code",
   "execution_count": 107,
   "metadata": {},
   "outputs": [],
   "source": [
    "## Add Scoring/Defensive form\n",
    "\n",
    "alpha = 0.5 ##parameter for the decay of exp weighted mean\n",
    "\n",
    "\n",
    "#Sort by earliest date first (need it in this format when applying exp average function)\n",
    "match = match.sort_values(by = ['date'])\n",
    "\n",
    "\n",
    "##loop over every season and every team\n",
    "for season in match['season'].unique():\n",
    "    df1 = match[match['season'] == season]\n",
    "    for team in df1['home_team_api_id'].unique():\n",
    "        df = df1[(df1['home_team_api_id'] == team)  | (df1['away_team_api_id'] == team)]\n",
    "        df_home =  df1[df1['home_team_api_id'] == team]\n",
    "        df_away = df1[df1['away_team_api_id'] == team]\n",
    "        \n",
    "        \n",
    "        ##win loss form of a specific team\n",
    "        win_loss =  df['target_clf'] * (df['home_team_api_id'] == team) + df['target_clf']*(df['away_team_api_id'] == team)\n",
    "        win_loss_home = df_home['target_clf']\n",
    "        win_loss_away = df_away['target_clf']\n",
    "\n",
    "        ##goals score/conceded in each stage of the season by the team\n",
    "        goals_scored = df['home_team_goal'] * (df['home_team_api_id'] == team) +  df['away_team_goal']*(df['away_team_api_id'] == team)\n",
    "        goals_conceded = df['home_team_goal'] * (df['away_team_api_id'] == team) +  df['away_team_goal']*(df['home_team_api_id'] == team)\n",
    "        \n",
    "        goals_scored_home = df_home['home_team_goal']\n",
    "        goals_conceded_home = df_home['away_team_goal']\n",
    "        \n",
    "        goals_scored_away = df_away['away_team_goal']\n",
    "        goals_conceded_away = df_away['home_team_goal']\n",
    "        \n",
    "        ##take exp weighted average\n",
    "        win_loss =  pd.Series(0).append(win_loss[:-1].ewm(alpha = alpha).mean())\n",
    "        win_loss_home =  pd.Series(0).append(win_loss_home[:-1].ewm(alpha = alpha).mean())\n",
    "        win_loss_away =  pd.Series(0).append(win_loss_away[:-1].ewm(alpha = alpha).mean())\n",
    "        win_loss.index = df.index\n",
    "        win_loss_home.index = df_home.index\n",
    "        win_loss_away.index = df_away.index\n",
    "        \n",
    "        ewm_scored = pd.Series(1).append(goals_scored[:-1].ewm(alpha = alpha).mean())\n",
    "        ewd_conceded = pd.Series(1).append(goals_conceded[:-1].ewm(alpha = alpha).mean())\n",
    "        ewm_scored.index = df.index\n",
    "        ewd_conceded.index = df.index\n",
    "        \n",
    "        ewm_scored_home = pd.Series(1).append(goals_scored_home[:-1].ewm(alpha = alpha).mean())\n",
    "        ewd_conceded_home = pd.Series(0.5).append(goals_conceded_home[:-1].ewm(alpha = alpha).mean())\n",
    "        ewm_scored_home.index = df_home.index\n",
    "        ewd_conceded_home.index = df_home.index\n",
    "        \n",
    "        ewm_scored_away = pd.Series(0.5).append(goals_scored_away[:-1].ewm(alpha = alpha).mean())\n",
    "        ewd_conceded_away = pd.Series(1).append(goals_conceded_away[:-1].ewm(alpha = alpha).mean())\n",
    "        ewm_scored_away.index = df_away.index\n",
    "        ewd_conceded_away.index = df_away.index\n",
    "        \n",
    "        ##Add to match dataframe\n",
    "        match.loc[df_home.index, 'home_team_form'] = win_loss * (df['home_team_api_id'] == team)\n",
    "        match.loc[df_away.index, 'away_team_form'] = win_loss * (df['away_team_api_id'] == team)\n",
    "\n",
    "        match.loc[df_home.index, 'home_team_home_form'] = win_loss_home\n",
    "        match.loc[df_away.index, 'away_team_away_form'] = win_loss_away\n",
    "        \n",
    "        match.loc[df_home.index, 'home_team_scoring_form'] = ewm_scored * (df['home_team_api_id'] == team) \n",
    "        match.loc[df_away.index, 'away_team_scoring_form'] = ewm_scored * (df['away_team_api_id'] == team)\n",
    "        match.loc[df_home.index, 'home_team_defensive_form'] = ewd_conceded * (df['home_team_api_id'] == team) \n",
    "        match.loc[df_away.index, 'away_team_defensive_form'] = ewd_conceded * (df['away_team_api_id'] == team)\n",
    "\n",
    "        \n",
    "        match.loc[df_home.index, 'home_team_home_scoring_form'] = ewm_scored_home\n",
    "        match.loc[df_home.index, 'home_team_home_defensive_form'] = ewd_conceded_home\n",
    "        \n",
    "        match.loc[df_away.index, 'away_team_away_scoring_form'] = ewm_scored_away\n",
    "        match.loc[df_away.index, 'away_team_away_defensive_form'] = ewd_conceded_away\n",
    "\n",
    "#Undo sort\n",
    "match = match.sort_index()\n"
   ]
  },
  {
   "cell_type": "code",
   "execution_count": 108,
   "metadata": {},
   "outputs": [],
   "source": [
    "match = match[['match_api_id', 'home_team_form', 'away_team_form','home_team_home_form', 'away_team_away_form', 'home_team_scoring_form',  'away_team_scoring_form', 'home_team_defensive_form', \n",
    "               'away_team_defensive_form', 'home_team_home_scoring_form', 'home_team_home_defensive_form', 'away_team_away_scoring_form', 'away_team_away_defensive_form' ]]"
   ]
  },
  {
   "cell_type": "code",
   "execution_count": 557,
   "metadata": {},
   "outputs": [
    {
     "data": {
      "text/plain": [
       "(726, 35)"
      ]
     },
     "execution_count": 557,
     "metadata": {},
     "output_type": "execute_result"
    }
   ],
   "source": [
    "# ## Rebalance proportion of home wins/draws/home losses\n",
    "# indices = y_train[y_train['result'] == 1].sample(frac = 0.35).index.values\n",
    "# mask_y= ~ y_train.index.isin(indices)\n",
    "# mask_x= ~ x_train.index.isin(indices)\n",
    "# y_train = y_train[mask_y]\n",
    "# x_train = x_train[mask_x]\n",
    "# assert len(x_train) == len(y_train)\n",
    "# assert (x_train.index == y_train.index).sum()\n",
    "# assert (x_train.match_api_id == y_train.match_api_id).sum()"
   ]
  },
  {
   "cell_type": "markdown",
   "metadata": {},
   "source": [
    "## Ouput new data"
   ]
  },
  {
   "cell_type": "code",
   "execution_count": 111,
   "metadata": {},
   "outputs": [],
   "source": [
    "#keep certain columns\n",
    "keep = ['match_api_id',\n",
    " 'home_player_1_overall_rating',\n",
    " 'home_player_2_overall_rating',\n",
    " 'home_player_3_overall_rating',\n",
    " 'home_player_4_overall_rating',\n",
    " 'home_player_5_overall_rating',\n",
    " 'home_player_6_overall_rating',\n",
    " 'home_player_7_overall_rating',\n",
    " 'home_player_8_overall_rating',\n",
    " 'home_player_9_overall_rating',\n",
    " 'home_player_10_overall_rating',\n",
    " 'home_player_11_overall_rating',\n",
    " 'away_player_1_overall_rating',\n",
    " 'away_player_2_overall_rating',\n",
    " 'away_player_3_overall_rating',\n",
    " 'away_player_4_overall_rating',\n",
    " 'away_player_5_overall_rating',\n",
    " 'away_player_6_overall_rating',\n",
    " 'away_player_7_overall_rating',\n",
    " 'away_player_8_overall_rating',\n",
    " 'away_player_9_overall_rating',\n",
    " 'away_player_10_overall_rating',\n",
    " 'away_player_11_overall_rating']\n",
    "\n"
   ]
  },
  {
   "cell_type": "code",
   "execution_count": 112,
   "metadata": {},
   "outputs": [],
   "source": [
    "#Output new full data\n",
    "\n",
    "a=pd.read_csv('./Data with correct player_atts/x_train.csv')\n",
    "b=pd.read_csv('./Data with correct player_atts/x_val.csv')\n",
    "c=pd.read_csv('./Data with correct player_atts/x_test.csv')\n",
    "\n",
    "a= a[keep]\n",
    "b= b[keep]\n",
    "c= c[keep]"
   ]
  },
  {
   "cell_type": "code",
   "execution_count": 113,
   "metadata": {},
   "outputs": [],
   "source": [
    "a.merge(match, how = 'left', on ='match_api_id').to_csv('x_train_full.csv', index = False)\n",
    "b.merge(match, how = 'left', on ='match_api_id').to_csv('x_val_full.csv', index = False)\n",
    "c.merge(match, how = 'left', on ='match_api_id').to_csv('x_test_full.csv', index = False)"
   ]
  },
  {
   "cell_type": "code",
   "execution_count": null,
   "metadata": {},
   "outputs": [],
   "source": []
  }
 ],
 "metadata": {
  "kernelspec": {
   "display_name": "Python 3",
   "language": "python",
   "name": "python3"
  },
  "language_info": {
   "codemirror_mode": {
    "name": "ipython",
    "version": 3
   },
   "file_extension": ".py",
   "mimetype": "text/x-python",
   "name": "python",
   "nbconvert_exporter": "python",
   "pygments_lexer": "ipython3",
   "version": "3.7.3"
  }
 },
 "nbformat": 4,
 "nbformat_minor": 4
}
