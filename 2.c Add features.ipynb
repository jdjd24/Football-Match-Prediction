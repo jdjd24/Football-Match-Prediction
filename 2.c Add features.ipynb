{
 "cells": [
  {
   "cell_type": "markdown",
   "metadata": {},
   "source": [
    "## Take data from respository and add more features"
   ]
  },
  {
   "cell_type": "code",
   "execution_count": 99,
   "metadata": {},
   "outputs": [],
   "source": [
    "import pandas as pd\n",
    "import numpy as np\n",
    "import math\n",
    "from sklearn.model_selection import train_test_split"
   ]
  },
  {
   "cell_type": "code",
   "execution_count": 56,
   "metadata": {},
   "outputs": [],
   "source": [
    "match = pd.read_csv('./Data_Raw//Match.csv', index_col=False)"
   ]
  },
  {
   "cell_type": "markdown",
   "metadata": {},
   "source": [
    "## Add Features"
   ]
  },
  {
   "cell_type": "code",
   "execution_count": 57,
   "metadata": {},
   "outputs": [],
   "source": [
    "## Add win/draw/loss labels (1,0,-1) to match, will be deleted later on\n",
    "\n",
    "goal_dif = match['home_team_goal'].sub(match['away_team_goal'])\n",
    "goal_dif[goal_dif < 0] = -1\n",
    "goal_dif[goal_dif > 0] = 1\n",
    "match['target_clf'] = goal_dif"
   ]
  },
  {
   "cell_type": "code",
   "execution_count": 58,
   "metadata": {},
   "outputs": [],
   "source": [
    "## Add Scoring/Defensive form\n",
    "\n",
    "alpha = 0.5 ##parameter for the decay of exp weighted mean\n",
    "\n",
    "\n",
    "#Sort by earliest date first (need it in this format when applying exp average function)\n",
    "match = match.sort_values(by = ['date'])\n",
    "\n",
    "\n",
    "##loop over every season and every team\n",
    "for season in match['season'].unique():\n",
    "    df1 = match[match['season'] == season]\n",
    "    for team in df1['home_team_api_id'].unique():\n",
    "        df = df1[(df1['home_team_api_id'] == team)  | (df1['away_team_api_id'] == team)]\n",
    "        df_home =  df1[df1['home_team_api_id'] == team]\n",
    "        df_away = df1[df1['away_team_api_id'] == team]\n",
    "        \n",
    "        \n",
    "        ##win loss form of a specific team\n",
    "        win_loss =  df['target_clf'] * (df['home_team_api_id'] == team) + df['target_clf']*(df['away_team_api_id'] == team)\n",
    "        win_loss_home = df_home['target_clf']\n",
    "        win_loss_away = df_away['target_clf']\n",
    "\n",
    "        ##goals score/conceded in each stage of the season by the team\n",
    "        goals_scored = df['home_team_goal'] * (df['home_team_api_id'] == team) +  df['away_team_goal']*(df['away_team_api_id'] == team)\n",
    "        goals_conceded = df['home_team_goal'] * (df['away_team_api_id'] == team) +  df['away_team_goal']*(df['home_team_api_id'] == team)\n",
    "        \n",
    "        goals_scored_home = df_home['home_team_goal']\n",
    "        goals_conceded_home = df_home['away_team_goal']\n",
    "        \n",
    "        goals_scored_away = df_away['away_team_goal']\n",
    "        goals_conceded_away = df_away['home_team_goal']\n",
    "        \n",
    "        ##take exp weighted average\n",
    "        win_loss =  pd.Series(0).append(win_loss[:-1].ewm(alpha = alpha).mean())\n",
    "        win_loss_home =  pd.Series(0).append(win_loss_home[:-1].ewm(alpha = alpha).mean())\n",
    "        win_loss_away =  pd.Series(0).append(win_loss_away[:-1].ewm(alpha = alpha).mean())\n",
    "        win_loss.index = df.index\n",
    "        win_loss_home.index = df_home.index\n",
    "        win_loss_away.index = df_away.index\n",
    "        \n",
    "        ewm_scored = pd.Series(1).append(goals_scored[:-1].ewm(alpha = alpha).mean())\n",
    "        ewd_conceded = pd.Series(1).append(goals_conceded[:-1].ewm(alpha = alpha).mean())\n",
    "        ewm_scored.index = df.index\n",
    "        ewd_conceded.index = df.index\n",
    "        \n",
    "        ewm_scored_home = pd.Series(1).append(goals_scored_home[:-1].ewm(alpha = alpha).mean())\n",
    "        ewd_conceded_home = pd.Series(0.5).append(goals_conceded_home[:-1].ewm(alpha = alpha).mean())\n",
    "        ewm_scored_home.index = df_home.index\n",
    "        ewd_conceded_home.index = df_home.index\n",
    "        \n",
    "        ewm_scored_away = pd.Series(0.5).append(goals_scored_away[:-1].ewm(alpha = alpha).mean())\n",
    "        ewd_conceded_away = pd.Series(1).append(goals_conceded_away[:-1].ewm(alpha = alpha).mean())\n",
    "        ewm_scored_away.index = df_away.index\n",
    "        ewd_conceded_away.index = df_away.index\n",
    "        \n",
    "        ##Add to match dataframe\n",
    "        match.loc[df_home.index, 'home_team_form'] = win_loss * (df['home_team_api_id'] == team)\n",
    "        match.loc[df_away.index, 'away_team_form'] = win_loss * (df['away_team_api_id'] == team)\n",
    "\n",
    "        match.loc[df_home.index, 'home_team_home_form'] = win_loss_home\n",
    "        match.loc[df_away.index, 'away_team_away_form'] = win_loss_away\n",
    "        \n",
    "        match.loc[df_home.index, 'home_team_scoring_form'] = ewm_scored * (df['home_team_api_id'] == team) \n",
    "        match.loc[df_away.index, 'away_team_scoring_form'] = ewm_scored * (df['away_team_api_id'] == team)\n",
    "        match.loc[df_home.index, 'home_team_defensive_form'] = ewd_conceded * (df['home_team_api_id'] == team) \n",
    "        match.loc[df_away.index, 'away_team_defensive_form'] = ewd_conceded * (df['away_team_api_id'] == team)\n",
    "\n",
    "        \n",
    "        match.loc[df_home.index, 'home_team_home_scoring_form'] = ewm_scored_home\n",
    "        match.loc[df_home.index, 'home_team_home_defensive_form'] = ewd_conceded_home\n",
    "        \n",
    "        match.loc[df_away.index, 'away_team_away_scoring_form'] = ewm_scored_away\n",
    "        match.loc[df_away.index, 'away_team_away_defensive_form'] = ewd_conceded_away\n",
    "\n",
    "#Undo sort\n",
    "match = match.sort_index()\n",
    "match - match.drop(columns = 'target_clf')"
   ]
  },
  {
   "cell_type": "code",
   "execution_count": 557,
   "metadata": {},
   "outputs": [
    {
     "data": {
      "text/plain": [
       "(726, 35)"
      ]
     },
     "execution_count": 557,
     "metadata": {},
     "output_type": "execute_result"
    }
   ],
   "source": [
    "# ## Rebalance proportion of home wins/draws/home losses\n",
    "# indices = y_train[y_train['result'] == 1].sample(frac = 0.35).index.values\n",
    "# mask_y= ~ y_train.index.isin(indices)\n",
    "# mask_x= ~ x_train.index.isin(indices)\n",
    "# y_train = y_train[mask_y]\n",
    "# x_train = x_train[mask_x]\n",
    "# assert len(x_train) == len(y_train)\n",
    "# assert (x_train.index == y_train.index)\n",
    "# assert (x_train.match_api_id == y_train.match_api_id)"
   ]
  },
  {
   "cell_type": "code",
   "execution_count": 59,
   "metadata": {},
   "outputs": [],
   "source": [
    "## Add normalised bookie odds\n",
    "\n",
    "bookie_list = ['B365','BW','IW','LB','PS','WH','SJ','VC','BS'] #bookies we want to keep\n",
    "for x in bookie_list:\n",
    "    df = match[[x+'H', x+'D',x+'A']]\n",
    "    df = 1/df\n",
    "    df = df.div(df.sum(axis=1), axis=0)\n",
    "    match.loc[:,[x+'H', x+'D',x+'A']] = df.loc[:,[x+'H', x+'D',x+'A']]"
   ]
  },
  {
   "cell_type": "markdown",
   "metadata": {},
   "source": [
    "# Form new data"
   ]
  },
  {
   "cell_type": "code",
   "execution_count": 134,
   "metadata": {},
   "outputs": [],
   "source": [
    "##Read in full attribute data and merge with new columns\n",
    "a = pd.read_csv('./Data with correct player_atts/x_full.csv').merge(match, how = 'left', on = 'match_api_id') ##merge to match\n",
    "b = pd.read_csv('./Data with correct player_atts/y_full.csv')"
   ]
  },
  {
   "cell_type": "markdown",
   "metadata": {},
   "source": [
    "## Data Selection"
   ]
  },
  {
   "cell_type": "code",
   "execution_count": 142,
   "metadata": {},
   "outputs": [],
   "source": [
    "## Select time period/leagues\n",
    "\n",
    "a = a[a['league_id'].isin([1729,21518,7809,10257,4769])] ##leagues\n",
    "a = a[a['date'] > '2010-08-01'] ##Time period\n",
    "\n",
    "b = b[b.index.isin(a.index)]\n"
   ]
  },
  {
   "cell_type": "code",
   "execution_count": 143,
   "metadata": {},
   "outputs": [],
   "source": [
    "##Form train/val/test splits\n",
    "fifteen_sixteen = a[a['season'] == '2015/2016'] ##Want to sse latest season as test set\n",
    "x_test = fifteen_sixteen.sample(n= math.floor(len(a)/10)).sort_index() ##sample 10 percent of total data for test\n",
    "y_test = b[b.index.isin(x_test.index)]\n",
    "\n",
    "x_remainder, y_remainder = a[~a.index.isin(x_test.index)], b[~b.index.isin(x_test.index)]\n",
    "x_train, x_val, y_train, y_val = train_test_split(x_remainder,y_remainder, test_size = math.floor(len(a)/10)) ##get a val set which is 10% of total data"
   ]
  },
  {
   "cell_type": "markdown",
   "metadata": {},
   "source": [
    "## Select Features"
   ]
  },
  {
   "cell_type": "code",
   "execution_count": 144,
   "metadata": {},
   "outputs": [],
   "source": [
    "#keep certain columns\n",
    "keep = ['match_api_id',\n",
    " 'home_player_1_overall_rating',\n",
    " 'home_player_2_overall_rating',\n",
    " 'home_player_3_overall_rating',\n",
    " 'home_player_4_overall_rating',\n",
    " 'home_player_5_overall_rating',\n",
    " 'home_player_6_overall_rating',\n",
    " 'home_player_7_overall_rating',\n",
    " 'home_player_8_overall_rating',\n",
    " 'home_player_9_overall_rating',\n",
    " 'home_player_10_overall_rating',\n",
    " 'home_player_11_overall_rating',\n",
    " 'away_player_1_overall_rating',\n",
    " 'away_player_2_overall_rating',\n",
    " 'away_player_3_overall_rating',\n",
    " 'away_player_4_overall_rating',\n",
    " 'away_player_5_overall_rating',\n",
    " 'away_player_6_overall_rating',\n",
    " 'away_player_7_overall_rating',\n",
    " 'away_player_8_overall_rating',\n",
    " 'away_player_9_overall_rating',\n",
    " 'away_player_10_overall_rating',\n",
    " 'away_player_11_overall_rating',\n",
    " 'B365H',\n",
    " 'B365D',\n",
    " 'B365A',\n",
    " 'BWH',\n",
    " 'BWD',\n",
    " 'BWA',\n",
    " 'IWH',\n",
    " 'IWD',\n",
    " 'IWA',\n",
    " 'LBH',\n",
    " 'LBD',\n",
    " 'LBA',\n",
    " 'WHH',\n",
    " 'WHD',\n",
    " 'WHA',\n",
    " 'VCH',\n",
    " 'VCD',\n",
    " 'VCA']\n",
    "\n"
   ]
  },
  {
   "cell_type": "code",
   "execution_count": 145,
   "metadata": {},
   "outputs": [],
   "source": [
    "## Decide which columns you want\n",
    "\n",
    "x_train, x_val, x_test = x_train[keep], x_val[keep], x_test[keep]"
   ]
  },
  {
   "cell_type": "code",
   "execution_count": 146,
   "metadata": {},
   "outputs": [
    {
     "data": {
      "text/plain": [
       "((8342, 41), (1038, 41), (1046, 41))"
      ]
     },
     "execution_count": 146,
     "metadata": {},
     "output_type": "execute_result"
    }
   ],
   "source": [
    "x_train, x_val, x_test = x_train.dropna(how= 'any', axis = 0), x_val.dropna(how= 'any', axis = 0), x_test.dropna(how= 'any', axis = 0)\n",
    "y_train, y_val, y_test = y_train[y_train.index.isin(x_train.index)], y_val[y_val.index.isin(x_val.index)], y_test[y_test.index.isin(x_test.index)]\n",
    "\n",
    "assert (x_train.isna().sum().sum() == 0) & (x_val.isna().sum().sum() == 0) & (x_test.isna().sum().sum() == 0)\n",
    "x_train.shape, x_val.shape, x_test.shape"
   ]
  },
  {
   "cell_type": "code",
   "execution_count": 147,
   "metadata": {},
   "outputs": [],
   "source": [
    "#Data quality check\n",
    "\n",
    "assert (x_train.match_api_id == y_train.match_api_id).sum() ==len(x_train)\n",
    "assert (x_val.match_api_id == y_val.match_api_id).sum() ==len(x_val)\n",
    "assert (x_test.match_api_id == y_test.match_api_id).sum() ==len(x_test)"
   ]
  },
  {
   "cell_type": "markdown",
   "metadata": {},
   "source": [
    "## Save new data"
   ]
  },
  {
   "cell_type": "code",
   "execution_count": 148,
   "metadata": {},
   "outputs": [],
   "source": [
    "##Output new data\n",
    "x_train.to_csv('./Data with correct player_atts/x_train.csv', index = False)\n",
    "x_val.to_csv('./Data with correct player_atts/x_val.csv', index = False)\n",
    "x_test.to_csv('./Data with correct player_atts/x_test.csv', index = False)\n",
    "\n",
    "y_train.to_csv('./Data with correct player_atts/y_train.csv', index = False)\n",
    "y_val.to_csv('./Data with correct player_atts/y_val.csv', index = False)\n",
    "y_test.to_csv('./Data with correct player_atts/y_test.csv', index = False)"
   ]
  },
  {
   "cell_type": "code",
   "execution_count": null,
   "metadata": {},
   "outputs": [],
   "source": []
  }
 ],
 "metadata": {
  "kernelspec": {
   "display_name": "Python 3",
   "language": "python",
   "name": "python3"
  },
  "language_info": {
   "codemirror_mode": {
    "name": "ipython",
    "version": 3
   },
   "file_extension": ".py",
   "mimetype": "text/x-python",
   "name": "python",
   "nbconvert_exporter": "python",
   "pygments_lexer": "ipython3",
   "version": "3.7.3"
  }
 },
 "nbformat": 4,
 "nbformat_minor": 4
}
