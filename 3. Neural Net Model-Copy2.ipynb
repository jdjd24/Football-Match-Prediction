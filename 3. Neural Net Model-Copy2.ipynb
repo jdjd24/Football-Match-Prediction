{
 "cells": [
  {
   "cell_type": "code",
   "execution_count": 84,
   "metadata": {},
   "outputs": [
    {
     "name": "stdout",
     "output_type": "stream",
     "text": [
      "The autoreload extension is already loaded. To reload it, use:\n",
      "  %reload_ext autoreload\n"
     ]
    }
   ],
   "source": [
    "import pandas as pd\n",
    "import matplotlib.pyplot as plt\n",
    "import torch\n",
    "import torch.nn as nn\n",
    "import numpy as np\n",
    "from torch.utils.data import DataLoader\n",
    "from torch.optim import lr_scheduler\n",
    "import time\n",
    "import matplotlib.pyplot as plt\n",
    "import sklearn.preprocessing as preprocessing\n",
    "import sklearn.metrics\n",
    "from sklearn.model_selection import train_test_split\n",
    "import math\n",
    "from torch.utils.data import DataLoader, TensorDataset\n",
    "from torch import Tensor\n",
    "from sklearn.utils import resample\n",
    "from sklearn.metrics import log_loss\n",
    "from sklearn.model_selection import KFold\n",
    "from sklearn.ensemble import RandomForestClassifier\n",
    "from sklearn.metrics import roc_auc_score\n",
    "\n",
    "%load_ext autoreload\n",
    "%autoreload 2\n",
    "from NNFunctions import *"
   ]
  },
  {
   "cell_type": "markdown",
   "metadata": {},
   "source": [
    "## Load Data"
   ]
  },
  {
   "cell_type": "code",
   "execution_count": 2,
   "metadata": {},
   "outputs": [
    {
     "data": {
      "text/plain": [
       "((8767, 53), (827, 53), (832, 53))"
      ]
     },
     "execution_count": 2,
     "metadata": {},
     "output_type": "execute_result"
    }
   ],
   "source": [
    "x_train = pd.read_csv('./Data with correct player_atts/x_train.csv')\n",
    "x_val = pd.read_csv('./Data with correct player_atts/x_val.csv')\n",
    "x_test = pd.read_csv('./Data with correct player_atts/x_test.csv')\n",
    "\n",
    "y_train = pd.read_csv('./Data with correct player_atts/y_train.csv')\n",
    "y_val = pd.read_csv('./Data with correct player_atts/y_val.csv')\n",
    "y_test = pd.read_csv('./Data with correct player_atts/y_test.csv')\n",
    "\n",
    "x_train.shape, x_val.shape, x_test.shape"
   ]
  },
  {
   "cell_type": "markdown",
   "metadata": {},
   "source": [
    "## Initialise Models"
   ]
  },
  {
   "cell_type": "code",
   "execution_count": 6,
   "metadata": {
    "jupyter": {
     "source_hidden": true
    }
   },
   "outputs": [],
   "source": [
    "\n",
    "input_size = len(x_train.drop(columns ='match_api_id').columns)\n",
    "output_size = 3\n",
    "\n",
    "model_dict = {\n",
    "\n",
    "'model4': LinearNN(5, (input_size,output_size), [128,256,128,32,16], nn.ReLU(), 0.5),\n",
    "'model5': LinearNN(5, (input_size,output_size), [128,512,256,128,32], nn.ReLU(), 0.5),\n",
    "'model6': LinearNN(5, (input_size,output_size), [64,512,256,128,32], nn.ReLU(), 0),\n",
    "'model7': LinearNN(6, (input_size,output_size), [128,256,256,128,32,16], nn.ReLU(), 0.5),\n",
    "'model8': LinearNN(6, (input_size,output_size), [64,256,256,128,64,32], nn.ReLU(), 0),\n",
    "'model9': LinearNN(6, (input_size,output_size), [256,512,512,128,32,16], nn.ReLU(), 0.5),\n",
    "'model10': LinearNN(7, (input_size,output_size), [64,256,256,128,32,16,8], nn.ReLU(), 0.5),\n",
    "'model11': LinearNN(7, (input_size,output_size), [128,256,256,128,32,16,8], nn.ReLU(), 0),\n",
    "'model12': LinearNN(7, (input_size,output_size), [256,512,128,64,32,16,8], nn.ReLU(), 0.5),\n",
    "'model13': LinearNN(8, (input_size,output_size), [64,128,256,128,64,32,16,8], nn.ReLU(), 0.5),\n",
    "'model14': LinearNN(8, (input_size,output_size), [128,256,256,128,64,32,16,8], nn.ReLU(), 0.5),\n",
    "'model15': LinearNN(8, (input_size,output_size), [256,512,512,128,32,16,8,8], nn.ReLU(), 0.5),\n",
    "'model13': LinearNN(9, (input_size,output_size), [64,128,256,256,128,64,32,16,8], nn.ReLU(), 0.5),\n",
    "'model14': LinearNN(9, (input_size,output_size), [128,256,256,128,128,64,32,16,8], nn.ReLU(), 0.5),\n",
    "'model15': LinearNN(9, (input_size,output_size), [256,512,512,256,128,32,16,8,8], nn.ReLU(), 0.5),\n",
    "'model13': LinearNN(10, (input_size,output_size), [64,128,256,256,256,128,64,32,16,8], nn.ReLU(), 0.5),\n",
    "'model14': LinearNN(10, (input_size,output_size), [128,256,256,512,256,128,64,32,16,8], nn.ReLU(), 0.5),\n",
    "'model15': LinearNN(10, (input_size,output_size), [256,512,512,256,256,128,32,16,8,8], nn.ReLU(), 0.5),\n",
    "}"
   ]
  },
  {
   "cell_type": "code",
   "execution_count": 6,
   "metadata": {},
   "outputs": [],
   "source": [
    "\n",
    "input_size = len(x_train.drop(columns ='match_api_id').columns)\n",
    "output_size = 3\n",
    "\n",
    "model_dict = {\n",
    "\n",
    "'model4': LinearNN(5, (input_size,output_size), [128,256,128,32,16], nn.ReLU(), 0.5),\n",
    "'model5': LinearNN(5, (input_size,output_size), [128,512,256,128,32], nn.ReLU(), 0.5),\n",
    "'model6': LinearNN(5, (input_size,output_size), [64,512,256,128,32], nn.ReLU(), 0),\n",
    "'model7': LinearNN(6, (input_size,output_size), [128,256,256,128,32,16], nn.ReLU(), 0.5),\n",
    "'model8': LinearNN(6, (input_size,output_size), [64,256,256,128,64,32], nn.ReLU(), 0),\n",
    "'model9': LinearNN(6, (input_size,output_size), [256,512,512,128,32,16], nn.ReLU(), 0.5),\n",
    "'model10': LinearNN(7, (input_size,output_size), [64,256,256,128,32,16,8], nn.ReLU(), 0.5),\n",
    "'model11': LinearNN(7, (input_size,output_size), [128,256,256,128,32,16,8], nn.ReLU(), 0),\n",
    "'model12': LinearNN(7, (input_size,output_size), [256,512,128,64,32,16,8], nn.ReLU(), 0.5),\n",
    "'model13': LinearNN(8, (input_size,output_size), [64,128,256,128,64,32,16,8], nn.ReLU(), 0.5),\n",
    "'model14': LinearNN(8, (input_size,output_size), [128,256,256,128,64,32,16,8], nn.ReLU(), 0.5),\n",
    "'model15': LinearNN(8, (input_size,output_size), [256,512,512,128,32,16,8,8], nn.ReLU(), 0.5),\n",
    "'model13': LinearNN(9, (input_size,output_size), [64,128,256,256,128,64,32,16,8], nn.ReLU(), 0.5),\n",
    "'model14': LinearNN(9, (input_size,output_size), [128,256,256,128,128,64,32,16,8], nn.ReLU(), 0.5),\n",
    "'model15': LinearNN(9, (input_size,output_size), [256,512,512,256,128,32,16,8,8], nn.ReLU(), 0.5),\n",
    "'model13': LinearNN(10, (input_size,output_size), [64,128,256,256,256,128,64,32,16,8], nn.ReLU(), 0.5),\n",
    "'model14': LinearNN(10, (input_size,output_size), [128,256,256,512,256,128,64,32,16,8], nn.ReLU(), 0.5),\n",
    "'model15': LinearNN(10, (input_size,output_size), [256,512,512,256,256,128,32,16,8,8], nn.ReLU(), 0.5),\n",
    "}"
   ]
  },
  {
   "cell_type": "markdown",
   "metadata": {},
   "source": [
    "## Train Models"
   ]
  },
  {
   "cell_type": "code",
   "execution_count": 76,
   "metadata": {},
   "outputs": [],
   "source": [
    "\n",
    "input_size = len(x_train.drop(columns ='match_api_id').columns)\n",
    "output_size = 3\n",
    "\n",
    "model_dict = {\n",
    "\n",
    "#'model4': LinearNN(5, (input_size,output_size), [128,256,128,32,16], nn.ReLU(), 0.2),\n",
    "#'model7': LinearNN(6, (input_size,output_size), [128,256,256,128,32,16], nn.ReLU(), 0.2),\n",
    "'model10': LinearNN(7, (input_size,output_size), [128,256,256,128,32,16,8], nn.ReLU(), 0.2),\n",
    "'model12': LinearNN(8, (input_size,output_size), [64,128,256,128,64,32,16,8], nn.ReLU(), 0.2),\n",
    "'model13': LinearNN(9, (input_size,output_size), [128,128,256,256,128,64,32,16,8], nn.ReLU(), 0.2),\n",
    "#'model14': LinearNN(10, (input_size,output_size), [64,128,256,256,256,128,64,32,16,8], nn.ReLU(), 0.5),\n",
    "\n",
    "}"
   ]
  },
  {
   "cell_type": "code",
   "execution_count": 21,
   "metadata": {},
   "outputs": [],
   "source": [
    "model_dict['model13']: LinearNN(9, (input_size,output_size), [128,128,256,256,128,64,32,16,8], nn.ReLU(), 0.5)\n",
    "model_dict['model14'] =  LinearNN(5, (input_size,output_size), [128,256,128,32,16], nn.Tanh(), 0.7)\n"
   ]
  },
  {
   "cell_type": "code",
   "execution_count": 115,
   "metadata": {},
   "outputs": [
    {
     "name": "stdout",
     "output_type": "stream",
     "text": [
      "\n",
      "model10\n",
      ".  .  .  .  .  \n",
      "model12\n",
      ".  .  .  .  .  \n",
      "model13\n",
      ".  .  .  .  .  "
     ]
    },
    {
     "data": {
      "text/html": [
       "<div>\n",
       "<style scoped>\n",
       "    .dataframe tbody tr th:only-of-type {\n",
       "        vertical-align: middle;\n",
       "    }\n",
       "\n",
       "    .dataframe tbody tr th {\n",
       "        vertical-align: top;\n",
       "    }\n",
       "\n",
       "    .dataframe thead th {\n",
       "        text-align: right;\n",
       "    }\n",
       "</style>\n",
       "<table border=\"1\" class=\"dataframe\">\n",
       "  <thead>\n",
       "    <tr style=\"text-align: right;\">\n",
       "      <th></th>\n",
       "      <th>t_acc</th>\n",
       "      <th>t_loss</th>\n",
       "      <th>v_acc</th>\n",
       "      <th>v_loss</th>\n",
       "    </tr>\n",
       "  </thead>\n",
       "  <tbody>\n",
       "    <tr>\n",
       "      <th>model10</th>\n",
       "      <td>0.456256</td>\n",
       "      <td>1.065849</td>\n",
       "      <td>0.456257</td>\n",
       "      <td>1.065995</td>\n",
       "    </tr>\n",
       "    <tr>\n",
       "      <th>model12</th>\n",
       "      <td>0.456256</td>\n",
       "      <td>1.067444</td>\n",
       "      <td>0.456257</td>\n",
       "      <td>1.067340</td>\n",
       "    </tr>\n",
       "    <tr>\n",
       "      <th>model13</th>\n",
       "      <td>0.456256</td>\n",
       "      <td>1.065979</td>\n",
       "      <td>0.456257</td>\n",
       "      <td>1.066078</td>\n",
       "    </tr>\n",
       "  </tbody>\n",
       "</table>\n",
       "</div>"
      ],
      "text/plain": [
       "            t_acc    t_loss     v_acc    v_loss\n",
       "model10  0.456256  1.065849  0.456257  1.065995\n",
       "model12  0.456256  1.067444  0.456257  1.067340\n",
       "model13  0.456256  1.065979  0.456257  1.066078"
      ]
     },
     "execution_count": 115,
     "metadata": {},
     "output_type": "execute_result"
    }
   ],
   "source": [
    "splits = 5\n",
    "results, big_losses_list = train_many(model_dict, x_train, y_train, batch_size = 'full' , splits = splits, epochs = 1, learning_rate = 0.01)\n",
    "results"
   ]
  },
  {
   "cell_type": "code",
   "execution_count": 110,
   "metadata": {},
   "outputs": [
    {
     "data": {
      "image/png": "[encoded data removed]",
      "text/plain": [
       "<Figure size 1440x432 with 15 Axes>"
      ]
     },
     "metadata": {
      "needs_background": "light"
     },
     "output_type": "display_data"
    }
   ],
   "source": [
    "plot_losses(big_losses_list, model_dict, splits)"
   ]
  },
  {
   "cell_type": "code",
   "execution_count": 114,
   "metadata": {},
   "outputs": [
    {
     "ename": "NameError",
     "evalue": "name 'get_score' is not defined",
     "output_type": "error",
     "traceback": [
      "\u001b[1;31m---------------------------------------------------------------------------\u001b[0m",
      "\u001b[1;31mNameError\u001b[0m                                 Traceback (most recent call last)",
      "\u001b[1;32m<ipython-input-114-11eeaccac97e>\u001b[0m in \u001b[0;36m<module>\u001b[1;34m\u001b[0m\n\u001b[1;32m----> 1\u001b[1;33m \u001b[0mget_score\u001b[0m\u001b[1;33m(\u001b[0m\u001b[0mmodel_dict\u001b[0m\u001b[1;33m[\u001b[0m\u001b[1;34m'model13'\u001b[0m\u001b[1;33m]\u001b[0m\u001b[1;33m.\u001b[0m\u001b[0mmodel\u001b[0m\u001b[1;33m,\u001b[0m \u001b[0mx_train\u001b[0m\u001b[1;33m,\u001b[0m \u001b[0my_train\u001b[0m\u001b[1;33m,\u001b[0m \u001b[0mscaler\u001b[0m\u001b[1;33m)\u001b[0m\u001b[1;33m\u001b[0m\u001b[1;33m\u001b[0m\u001b[0m\n\u001b[0m",
      "\u001b[1;31mNameError\u001b[0m: name 'get_score' is not defined"
     ]
    }
   ],
   "source": [
    "get_score(model_dict['model13'].model, x_train, y_train, scaler)"
   ]
  },
  {
   "cell_type": "code",
   "execution_count": 111,
   "metadata": {},
   "outputs": [
    {
     "data": {
      "text/plain": [
       "RandomForestClassifier(max_depth=2, random_state=0)"
      ]
     },
     "execution_count": 111,
     "metadata": {},
     "output_type": "execute_result"
    }
   ],
   "source": [
    "## Ensemble learning\n",
    "scaler = preprocessing.StandardScaler().fit(x_train.iloc[:,1:])\n",
    "x_ens = get_ens_df(x_train, scaler, model_dict)\n",
    "x_ens_val = get_ens_df(x_val, scaler, model_dict)\n",
    "\n",
    "RF_clf = RandomForestClassifier(max_depth=2, random_state=0)\n",
    "RF_clf.fit(x_ens, y_train['target'])\n"
   ]
  },
  {
   "cell_type": "code",
   "execution_count": 112,
   "metadata": {},
   "outputs": [
    {
     "name": "stdout",
     "output_type": "stream",
     "text": [
      "Train Accuracy: 0.5088399680620509\n",
      "Val Accuracy: 0.4860943168077388\n",
      "Train log loss: 0.9995935638498044\n",
      "Val log loss: 1.0247748557659306\n"
     ]
    }
   ],
   "source": [
    "print('Train Accuracy: {}'.format(RF_clf.score(x_ens, y_train['target'])))\n",
    "print('Val Accuracy: {}'.format(RF_clf.score(x_ens_val, y_val['target'])))\n",
    "print('Train log loss: {}'.format(log_loss(y_train['target'], RF_clf.predict_proba(x_ens))))\n",
    "print('Val log loss: {}'.format(log_loss(y_val['target'], RF_clf.predict_proba(x_ens_val))))"
   ]
  },
  {
   "cell_type": "code",
   "execution_count": null,
   "metadata": {},
   "outputs": [],
   "source": []
  },
  {
   "cell_type": "code",
   "execution_count": null,
   "metadata": {},
   "outputs": [],
   "source": []
  },
  {
   "cell_type": "code",
   "execution_count": null,
   "metadata": {},
   "outputs": [],
   "source": []
  }
 ],
 "metadata": {
  "kernelspec": {
   "display_name": "Python 3",
   "language": "python",
   "name": "python3"
  },
  "language_info": {
   "codemirror_mode": {
    "name": "ipython",
    "version": 3
   },
   "file_extension": ".py",
   "mimetype": "text/x-python",
   "name": "python",
   "nbconvert_exporter": "python",
   "pygments_lexer": "ipython3",
   "version": "3.7.3"
  }
 },
 "nbformat": 4,
 "nbformat_minor": 4
}
