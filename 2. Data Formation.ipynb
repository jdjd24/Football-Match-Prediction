{
 "cells": [
  {
   "cell_type": "code",
   "execution_count": 162,
   "metadata": {},
   "outputs": [],
   "source": [
    "import pandas as pd\n",
    "import numpy as np"
   ]
  },
  {
   "cell_type": "code",
   "execution_count": 10,
   "metadata": {},
   "outputs": [],
   "source": [
    "match = pd.read_csv('./Data/Match.csv', index_col=False)\n",
    "country = pd.read_csv('./Data/Country.csv', index_col=False)\n",
    "team = pd.read_csv('./Data/Team.csv', index_col=False)\n",
    "player = pd.read_csv('./Data/Player.csv', index_col=False)\n",
    "p_att = pd.read_csv('./Data/Player_Attributes.csv', index_col=False)\n",
    "league = pd.read_csv('./Data/League.csv', index_col=False)\n",
    "t_att = pd.read_csv('./Data/Team_Attributes.csv', index_col=False)\n"
   ]
  },
  {
   "cell_type": "code",
   "execution_count": 167,
   "metadata": {},
   "outputs": [],
   "source": [
    "## Add Scoring/Defensive form\n",
    "\n",
    "#Sort by earliest date first (need it in this format when applying exp average function)\n",
    "match = match.sort_values(by = ['date'])\n",
    "\n",
    "\n",
    "##loop over every season and every team\n",
    "for season in match['season'].unique():\n",
    "    df1 = match[match['season'] == season]\n",
    "    for team in df1['home_team_api_id'].unique():\n",
    "        df = df1[(df1['home_team_api_id'] == team)  | (df1['away_team_api_id'] == team)]\n",
    "        \n",
    "        ##goals score/conceded in each stage of the season by the team\n",
    "        goals_scored = df['home_team_goal'] * (df['home_team_api_id'] == team) +  df['away_team_goal']*(df['away_team_api_id'] == team)\n",
    "        goals_conceded = df['home_team_goal'] * (df['away_team_api_id'] == team) +  df['away_team_goal']*(df['home_team_api_id'] == team)\n",
    "        \n",
    "        ##take exp weighted average\n",
    "        ewm_scored = pd.Series(1).append(goals_scored[:-1].ewm(com = 1).mean())\n",
    "        ewd_conceded = pd.Series(1).append(goals_conceded[:-1].ewm(com = 1).mean())\n",
    "        ewm_scored.index = df.index\n",
    "        ewd_conceded.index = df.index\n",
    "\n",
    "        match.loc[df.index, 'scoring_form'] = ewm_scored\n",
    "        match.loc[df.index, 'defensive_form'] = ewd_conceded\n",
    "        \n",
    "match = match.sort_values(by = ['index'])\n"
   ]
  },
  {
   "cell_type": "code",
   "execution_count": 56,
   "metadata": {},
   "outputs": [],
   "source": [
    "columns_keep = ['index',\n",
    "'id',\n",
    "'country_id',\n",
    "'league_id',\n",
    "'season',\n",
    "'stage',\n",
    "'date',\n",
    "'match_api_id',\n",
    "'home_team_api_id',\n",
    "'away_team_api_id',\n",
    "'home_team_goal',\n",
    "'away_team_goal',\n",
    "'home_player_1',\n",
    "'home_player_2',\n",
    "'home_player_3',\n",
    "'home_player_4',\n",
    "'home_player_5',\n",
    "'home_player_6',\n",
    "'home_player_7',\n",
    "'home_player_8',\n",
    "'home_player_9',\n",
    "'home_player_10',\n",
    "'home_player_11',\n",
    "'away_player_1',\n",
    "'away_player_2',\n",
    "'away_player_3',\n",
    "'away_player_4',\n",
    "'away_player_5',\n",
    "'away_player_6',\n",
    "'away_player_7',\n",
    "'away_player_8',\n",
    "'away_player_9',\n",
    "'away_player_10',\n",
    "'away_player_11']\n"
   ]
  },
  {
   "cell_type": "code",
   "execution_count": null,
   "metadata": {},
   "outputs": [],
   "source": []
  }
 ],
 "metadata": {
  "kernelspec": {
   "display_name": "Python 3",
   "language": "python",
   "name": "python3"
  },
  "language_info": {
   "codemirror_mode": {
    "name": "ipython",
    "version": 3
   },
   "file_extension": ".py",
   "mimetype": "text/x-python",
   "name": "python",
   "nbconvert_exporter": "python",
   "pygments_lexer": "ipython3",
   "version": "3.7.3"
  }
 },
 "nbformat": 4,
 "nbformat_minor": 4
}
