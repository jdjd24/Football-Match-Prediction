{
 "cells": [
  {
   "cell_type": "code",
   "execution_count": 1,
   "metadata": {},
   "outputs": [],
   "source": [
    "import pandas as pd\n",
    "import numpy as np\n",
    "from sklearn import linear_model\n",
    "from sklearn import svm\n",
    "from sklearn import ensemble\n",
    "from sklearn import preprocessing\n",
    "from sklearn.model_selection import learning_curve\n",
    "from sklearn.multiclass import OneVsRestClassifier\n",
    "import matplotlib.pyplot as plt"
   ]
  },
  {
   "cell_type": "code",
   "execution_count": 2,
   "metadata": {},
   "outputs": [],
   "source": [
    "def load_in_data():\n",
    "    x_tr = pd.read_csv('x_train.csv', index_col = 'match_api_id')\n",
    "    y_tr = pd.read_csv('y_train.csv', index_col = 'match_api_id')\n",
    "    x_cv = pd.read_csv('x_val.csv', index_col = 'match_api_id')\n",
    "    y_cv = pd.read_csv('y_val.csv', index_col = 'match_api_id')\n",
    "    x_te = pd.read_csv('x_test.csv', index_col = 'match_api_id')\n",
    "    y_te = pd.read_csv('y_test.csv', index_col = 'match_api_id')\n",
    "    return x_tr, y_tr, x_cv, y_cv, x_te, y_te"
   ]
  },
  {
   "cell_type": "code",
   "execution_count": 24,
   "metadata": {},
   "outputs": [],
   "source": [
    "x_tr, y_tr, x_cv, y_cv, x_te, y_te = load_in_data()"
   ]
  },
  {
   "cell_type": "code",
   "execution_count": 25,
   "metadata": {},
   "outputs": [
    {
     "data": {
      "text/plain": [
       "['home_player_1_overall_rating',\n",
       " 'home_player_1_crossing',\n",
       " 'home_player_1_finishing',\n",
       " 'home_player_1_heading_accuracy',\n",
       " 'home_player_1_short_passing',\n",
       " 'home_player_1_volleys',\n",
       " 'home_player_1_dribbling',\n",
       " 'home_player_1_curve',\n",
       " 'home_player_1_long_passing',\n",
       " 'home_player_1_ball_control',\n",
       " 'home_player_1_acceleration',\n",
       " 'home_player_1_sprint_speed',\n",
       " 'home_player_1_reactions',\n",
       " 'home_player_1_balance',\n",
       " 'home_player_1_shot_power',\n",
       " 'home_player_1_strength',\n",
       " 'home_player_1_long_shots',\n",
       " 'home_player_1_aggression',\n",
       " 'home_player_1_interceptions',\n",
       " 'home_player_1_positioning',\n",
       " 'home_player_1_vision',\n",
       " 'home_player_1_penalties',\n",
       " 'home_player_1_marking',\n",
       " 'home_player_1_sliding_tackle',\n",
       " 'home_player_1_gk_diving',\n",
       " 'home_player_1_gk_handling',\n",
       " 'home_player_1_gk_positioning',\n",
       " 'home_player_1_gk_reflexes']"
      ]
     },
     "execution_count": 25,
     "metadata": {},
     "output_type": "execute_result"
    }
   ],
   "source": [
    "['home_player_1_overall_rating', 'home_player_1_crossing',\n",
    "       'home_player_1_finishing', 'home_player_1_heading_accuracy',\n",
    "       'home_player_1_short_passing', 'home_player_1_volleys',\n",
    "       'home_player_1_dribbling', 'home_player_1_curve',\n",
    "       'home_player_1_long_passing', 'home_player_1_ball_control',\n",
    "       'home_player_1_acceleration', 'home_player_1_sprint_speed',\n",
    "       'home_player_1_reactions', 'home_player_1_balance',\n",
    "       'home_player_1_shot_power', 'home_player_1_strength',\n",
    "       'home_player_1_long_shots', 'home_player_1_aggression',\n",
    "       'home_player_1_interceptions', 'home_player_1_positioning',\n",
    "       'home_player_1_vision', 'home_player_1_penalties',\n",
    "       'home_player_1_marking', 'home_player_1_sliding_tackle',\n",
    "       'home_player_1_gk_diving', 'home_player_1_gk_handling',\n",
    "       'home_player_1_gk_positioning', 'home_player_1_gk_reflexes']"
   ]
  },
  {
   "cell_type": "code",
   "execution_count": 26,
   "metadata": {},
   "outputs": [],
   "source": [
    "columns_keep = ['overall_rating',\n",
    "                'crossing',\n",
    "                'finishing',\n",
    "                'heading_accuracy',\n",
    "                'short_passing',\n",
    "                'volleys',\n",
    "                'dribbling',\n",
    "                'curve',\n",
    "                'long_passing',\n",
    "                'ball_control',\n",
    "                'acceleration',\n",
    "                'sprint_speed',\n",
    "                'reactions',\n",
    "                'balance',\n",
    "                'shot_power',\n",
    "                'strength',\n",
    "                'long_shots',\n",
    "                'aggression',\n",
    "                'interceptions',\n",
    "                'positioning',\n",
    "                'vision',\n",
    "                'penalties',\n",
    "                'marking',\n",
    "                'standing_tackle',\n",
    "                'sliding_tackle',\n",
    "                'gk_diving',\n",
    "                'gk_handling',\n",
    "                'gk_positioning',\n",
    "                'gk_reflexes']\n",
    "positions = ['home_player_1',\n",
    "             'home_player_2',\n",
    "             'home_player_3',\n",
    "             'home_player_4',\n",
    "             'home_player_5',\n",
    "             'home_player_6',\n",
    "             'home_player_7',\n",
    "             'home_player_8',\n",
    "             'home_player_9',\n",
    "             'home_player_10',\n",
    "             'home_player_11',\n",
    "             'away_player_1',\n",
    "             'away_player_2',\n",
    "             'away_player_3',\n",
    "             'away_player_4',\n",
    "             'away_player_5',\n",
    "             'away_player_6',\n",
    "             'away_player_7',\n",
    "             'away_player_8',\n",
    "             'away_player_9',\n",
    "             'away_player_10',\n",
    "             'away_player_11']\n",
    "columns = []\n",
    "for pos in positions:\n",
    "    arr = [pos + '_' + column_name for column_name in columns_keep]\n",
    "    columns = columns + arr\n",
    "x_tr = x_tr[columns]\n",
    "x_cv = x_cv[columns]\n",
    "x_te = x_te[columns]"
   ]
  },
  {
   "cell_type": "code",
   "execution_count": 27,
   "metadata": {},
   "outputs": [],
   "source": [
    "min_max_scaler = preprocessing.MinMaxScaler()\n",
    "x_tr = pd.DataFrame(min_max_scaler.fit_transform(x_tr), index = x_tr.index, columns = x_tr.columns)\n",
    "x_cv = pd.DataFrame(min_max_scaler.fit_transform(x_cv), index = x_cv.index, columns = x_cv.columns)\n",
    "x_te = pd.DataFrame(min_max_scaler.fit_transform(x_te), index = x_te.index, columns = x_te.columns)"
   ]
  },
  {
   "cell_type": "code",
   "execution_count": 28,
   "metadata": {},
   "outputs": [],
   "source": [
    "x_tr.fillna(x_tr.mean(), inplace=True)\n",
    "x_cv.fillna(x_cv.mean(), inplace=True)\n",
    "x_te.fillna(x_te.mean(), inplace=True)"
   ]
  },
  {
   "cell_type": "code",
   "execution_count": 29,
   "metadata": {},
   "outputs": [],
   "source": [
    "def plot_learning_curve(estimator, x_tr, y_tr):\n",
    "    train_sizes, train_scores, test_scores = \\\n",
    "        learning_curve(estimator, x_tr, y_tr, train_sizes = np.linspace(0.2, 1, 20))\n",
    "    \n",
    "    plt.plot(train_sizes, -train_scores.mean(1), 'o-', label = str(estimator.__class__.__name__) + ' train')\n",
    "    plt.plot(train_sizes, -test_scores.mean(1), 'o-', label = str(estimator.__class__.__name__) + ' test')\n",
    "    plt.legend(loc=\"best\")"
   ]
  },
  {
   "cell_type": "code",
   "execution_count": 30,
   "metadata": {},
   "outputs": [],
   "source": [
    "def do_stuff(model, x_tr, y_tr, x_cv, y_cv):\n",
    "    clf = OneVsRestClassifier(model).fit(x_tr, y_tr)\n",
    "    predict_tr = clf.predict(x_tr).reshape((-1, 1))\n",
    "    predict_cv = clf.predict(x_cv).reshape((-1, 1))\n",
    "    print(np.mean(predict_tr == y_tr))\n",
    "    print(np.mean(predict_cv == y_cv))\n",
    "    #plot_learning_curve(clf, x_tr, y_tr)\n",
    "    return clf"
   ]
  },
  {
   "cell_type": "code",
   "execution_count": 48,
   "metadata": {},
   "outputs": [],
   "source": [
    "def logistic_model(x_tr, y_tr, x_cv, y_cv):\n",
    "    log = linear_model.LogisticRegression(max_iter = 500, C = 1, l1_ratio = 0.9, penalty = 'elasticnet', solver = 'saga', verbose = 2)\n",
    "    clf = log.fit(x_tr, y_tr)\n",
    "    return clf\n",
    "\n",
    "def svm_model(x_tr, y_tr, x_cv, y_cv):\n",
    "    svc = svm.SVC(kernel = 'rbf', max_iter = 1000, verbose = 5)\n",
    "    return do_stuff(svc, x_tr, y_tr, x_cv, y_cv)\n",
    "    \n",
    "def rf_model(x_tr, y_tr, x_cv, y_cv):\n",
    "    rf = ensemble.RandomForestClassifier(n_estimators = 100, max_featuers = 'auto', max_depth = 3, verbose = 2)\n",
    "    return do_stuff(rf, x_tr, y_tr, x_cv, y_cv)"
   ]
  },
  {
   "cell_type": "code",
   "execution_count": 49,
   "metadata": {},
   "outputs": [
    {
     "name": "stderr",
     "output_type": "stream",
     "text": [
      "c:\\users\\renzh\\appdata\\local\\programs\\python\\python38-32\\lib\\site-packages\\sklearn\\utils\\validation.py:73: DataConversionWarning: A column-vector y was passed when a 1d array was expected. Please change the shape of y to (n_samples, ), for example using ravel().\n",
      "  return f(**kwargs)\n",
      "[Parallel(n_jobs=1)]: Using backend SequentialBackend with 1 concurrent workers.\n"
     ]
    },
    {
     "name": "stdout",
     "output_type": "stream",
     "text": [
      "max_iter reached after 260 seconds\n"
     ]
    },
    {
     "name": "stderr",
     "output_type": "stream",
     "text": [
      "c:\\users\\renzh\\appdata\\local\\programs\\python\\python38-32\\lib\\site-packages\\sklearn\\linear_model\\_sag.py:329: ConvergenceWarning: The max_iter was reached which means the coef_ did not converge\n",
      "  warnings.warn(\"The max_iter was reached which means \"\n",
      "[Parallel(n_jobs=1)]: Done   1 out of   1 | elapsed:  4.3min remaining:    0.0s\n",
      "[Parallel(n_jobs=1)]: Done   1 out of   1 | elapsed:  4.3min finished\n"
     ]
    }
   ],
   "source": [
    "clf = logistic_model(x_tr, y_tr, x_cv, y_cv)"
   ]
  },
  {
   "cell_type": "code",
   "execution_count": 10,
   "metadata": {
    "collapsed": true
   },
   "outputs": [
    {
     "name": "stdout",
     "output_type": "stream",
     "text": [
      "[LibSVM]"
     ]
    },
    {
     "name": "stderr",
     "output_type": "stream",
     "text": [
      "c:\\users\\renzh\\appdata\\local\\programs\\python\\python38-32\\lib\\site-packages\\sklearn\\svm\\_base.py:246: ConvergenceWarning: Solver terminated early (max_iter=100).  Consider pre-processing your data with StandardScaler or MinMaxScaler.\n",
      "  warnings.warn('Solver terminated early (max_iter=%i).'\n"
     ]
    },
    {
     "name": "stdout",
     "output_type": "stream",
     "text": [
      "[LibSVM]"
     ]
    },
    {
     "name": "stderr",
     "output_type": "stream",
     "text": [
      "c:\\users\\renzh\\appdata\\local\\programs\\python\\python38-32\\lib\\site-packages\\sklearn\\svm\\_base.py:246: ConvergenceWarning: Solver terminated early (max_iter=100).  Consider pre-processing your data with StandardScaler or MinMaxScaler.\n",
      "  warnings.warn('Solver terminated early (max_iter=%i).'\n"
     ]
    },
    {
     "name": "stdout",
     "output_type": "stream",
     "text": [
      "[LibSVM]"
     ]
    },
    {
     "name": "stderr",
     "output_type": "stream",
     "text": [
      "c:\\users\\renzh\\appdata\\local\\programs\\python\\python38-32\\lib\\site-packages\\sklearn\\svm\\_base.py:246: ConvergenceWarning: Solver terminated early (max_iter=100).  Consider pre-processing your data with StandardScaler or MinMaxScaler.\n",
      "  warnings.warn('Solver terminated early (max_iter=%i).'\n"
     ]
    },
    {
     "name": "stdout",
     "output_type": "stream",
     "text": [
      "result    0.337132\n",
      "dtype: float64\n",
      "result    0.370201\n",
      "dtype: float64\n"
     ]
    }
   ],
   "source": [
    "clf1 = svm_model(x_tr, y_tr, x_cv, y_cv)"
   ]
  },
  {
   "cell_type": "code",
   "execution_count": 43,
   "metadata": {},
   "outputs": [
    {
     "name": "stderr",
     "output_type": "stream",
     "text": [
      "[Parallel(n_jobs=1)]: Using backend SequentialBackend with 1 concurrent workers.\n",
      "[Parallel(n_jobs=1)]: Done   1 out of   1 | elapsed:    0.0s remaining:    0.0s\n",
      "[Parallel(n_jobs=1)]: Done   2 out of   2 | elapsed:    0.0s remaining:    0.0s\n",
      "[Parallel(n_jobs=1)]: Done   3 out of   3 | elapsed:    0.0s remaining:    0.0s\n",
      "[Parallel(n_jobs=1)]: Done   4 out of   4 | elapsed:    0.0s remaining:    0.0s\n"
     ]
    },
    {
     "name": "stdout",
     "output_type": "stream",
     "text": [
      "building tree 1 of 100\n",
      "building tree 2 of 100\n",
      "building tree 3 of 100\n",
      "building tree 4 of 100\n",
      "building tree 5 of 100\n",
      "building tree 6 of 100\n",
      "building tree 7 of 100\n",
      "building tree 8 of 100\n",
      "building tree 9 of 100\n",
      "building tree 10 of 100\n",
      "building tree 11 of 100\n",
      "building tree 12 of 100\n",
      "building tree 13 of 100\n",
      "building tree 14 of 100\n",
      "building tree 15 of 100\n",
      "building tree 16 of 100\n",
      "building tree 17 of 100\n",
      "building tree 18 of 100\n",
      "building tree 19 of 100\n",
      "building tree 20 of 100\n",
      "building tree 21 of 100\n",
      "building tree 22 of 100\n",
      "building tree 23 of 100\n",
      "building tree 24 of 100\n",
      "building tree 25 of 100\n",
      "building tree 26 of 100\n",
      "building tree 27 of 100\n",
      "building tree 28 of 100\n",
      "building tree 29 of 100\n",
      "building tree 30 of 100\n",
      "building tree 31 of 100\n",
      "building tree 32 of 100\n",
      "building tree 33 of 100\n",
      "building tree 34 of 100\n",
      "building tree 35 of 100\n",
      "building tree 36 of 100\n",
      "building tree 37 of 100\n",
      "building tree 38 of 100\n",
      "building tree 39 of 100\n",
      "building tree 40 of 100\n",
      "building tree 41 of 100\n",
      "building tree 42 of 100\n",
      "building tree 43 of 100\n",
      "building tree 44 of 100\n",
      "building tree 45 of 100\n",
      "building tree 46 of 100\n",
      "building tree 47 of 100\n",
      "building tree 48 of 100\n",
      "building tree 49 of 100\n",
      "building tree 50 of 100\n",
      "building tree 51 of 100\n",
      "building tree 52 of 100\n",
      "building tree 53 of 100\n",
      "building tree 54 of 100\n",
      "building tree 55 of 100\n",
      "building tree 56 of 100\n",
      "building tree 57 of 100\n",
      "building tree 58 of 100\n",
      "building tree 59 of 100\n",
      "building tree 60 of 100\n",
      "building tree 61 of 100\n",
      "building tree 62 of 100\n",
      "building tree 63 of 100\n",
      "building tree 64 of 100\n",
      "building tree 65 of 100\n",
      "building tree 66 of 100\n",
      "building tree 67 of 100\n",
      "building tree 68 of 100\n",
      "building tree 69 of 100\n",
      "building tree 70 of 100\n",
      "building tree 71 of 100\n",
      "building tree 72 of 100\n",
      "building tree 73 of 100\n",
      "building tree 74 of 100\n",
      "building tree 75 of 100\n",
      "building tree 76 of 100\n",
      "building tree 77 of 100\n",
      "building tree 78 of 100\n",
      "building tree 79 of 100\n",
      "building tree 80 of 100\n",
      "building tree 81 of 100\n",
      "building tree 82 of 100\n",
      "building tree 83 of 100\n",
      "building tree 84 of 100\n",
      "building tree 85 of 100\n",
      "building tree 86 of 100\n",
      "building tree 87 of 100\n",
      "building tree 88 of 100\n",
      "building tree 89 of 100\n",
      "building tree 90 of 100\n",
      "building tree 91 of 100\n",
      "building tree 92 of 100\n",
      "building tree 93 of 100\n",
      "building tree 94 of 100\n",
      "building tree 95 of 100\n",
      "building tree 96 of 100\n",
      "building tree 97 of 100\n",
      "building tree 98 of 100\n",
      "building tree 99 of 100\n",
      "building tree 100 of 100\n",
      "building tree 1 of 100\n",
      "building tree 2 of 100\n"
     ]
    },
    {
     "name": "stderr",
     "output_type": "stream",
     "text": [
      "[Parallel(n_jobs=1)]: Done 100 out of 100 | elapsed:    3.8s finished\n",
      "[Parallel(n_jobs=1)]: Using backend SequentialBackend with 1 concurrent workers.\n",
      "[Parallel(n_jobs=1)]: Done   1 out of   1 | elapsed:    0.0s remaining:    0.0s\n",
      "[Parallel(n_jobs=1)]: Done   2 out of   2 | elapsed:    0.0s remaining:    0.0s\n",
      "[Parallel(n_jobs=1)]: Done   3 out of   3 | elapsed:    0.0s remaining:    0.0s\n"
     ]
    },
    {
     "name": "stdout",
     "output_type": "stream",
     "text": [
      "building tree 3 of 100\n",
      "building tree 4 of 100\n",
      "building tree 5 of 100\n",
      "building tree 6 of 100\n",
      "building tree 7 of 100\n",
      "building tree 8 of 100\n"
     ]
    },
    {
     "name": "stderr",
     "output_type": "stream",
     "text": [
      "[Parallel(n_jobs=1)]: Done   4 out of   4 | elapsed:    0.0s remaining:    0.0s\n"
     ]
    },
    {
     "name": "stdout",
     "output_type": "stream",
     "text": [
      "building tree 9 of 100\n",
      "building tree 10 of 100\n",
      "building tree 11 of 100\n",
      "building tree 12 of 100\n",
      "building tree 13 of 100\n",
      "building tree 14 of 100\n",
      "building tree 15 of 100\n",
      "building tree 16 of 100\n",
      "building tree 17 of 100\n",
      "building tree 18 of 100\n",
      "building tree 19 of 100\n",
      "building tree 20 of 100\n",
      "building tree 21 of 100\n",
      "building tree 22 of 100\n",
      "building tree 23 of 100\n",
      "building tree 24 of 100\n",
      "building tree 25 of 100\n",
      "building tree 26 of 100\n",
      "building tree 27 of 100\n",
      "building tree 28 of 100\n",
      "building tree 29 of 100\n",
      "building tree 30 of 100\n",
      "building tree 31 of 100\n",
      "building tree 32 of 100\n",
      "building tree 33 of 100\n",
      "building tree 34 of 100\n",
      "building tree 35 of 100\n",
      "building tree 36 of 100\n",
      "building tree 37 of 100\n",
      "building tree 38 of 100\n",
      "building tree 39 of 100\n",
      "building tree 40 of 100\n",
      "building tree 41 of 100\n",
      "building tree 42 of 100\n",
      "building tree 43 of 100\n",
      "building tree 44 of 100\n",
      "building tree 45 of 100\n",
      "building tree 46 of 100\n",
      "building tree 47 of 100\n",
      "building tree 48 of 100\n",
      "building tree 49 of 100\n",
      "building tree 50 of 100\n",
      "building tree 51 of 100\n",
      "building tree 52 of 100\n",
      "building tree 53 of 100\n",
      "building tree 54 of 100\n",
      "building tree 55 of 100\n",
      "building tree 56 of 100\n",
      "building tree 57 of 100\n",
      "building tree 58 of 100\n",
      "building tree 59 of 100\n",
      "building tree 60 of 100\n",
      "building tree 61 of 100\n",
      "building tree 62 of 100\n",
      "building tree 63 of 100\n",
      "building tree 64 of 100\n",
      "building tree 65 of 100\n",
      "building tree 66 of 100\n",
      "building tree 67 of 100\n",
      "building tree 68 of 100\n",
      "building tree 69 of 100\n",
      "building tree 70 of 100\n",
      "building tree 71 of 100\n",
      "building tree 72 of 100\n",
      "building tree 73 of 100\n",
      "building tree 74 of 100\n",
      "building tree 75 of 100\n",
      "building tree 76 of 100\n",
      "building tree 77 of 100\n",
      "building tree 78 of 100\n",
      "building tree 79 of 100\n",
      "building tree 80 of 100\n",
      "building tree 81 of 100\n",
      "building tree 82 of 100\n",
      "building tree 83 of 100\n",
      "building tree 84 of 100\n",
      "building tree 85 of 100\n",
      "building tree 86 of 100\n",
      "building tree 87 of 100\n",
      "building tree 88 of 100\n",
      "building tree 89 of 100\n",
      "building tree 90 of 100\n",
      "building tree 91 of 100\n",
      "building tree 92 of 100\n",
      "building tree 93 of 100\n",
      "building tree 94 of 100\n",
      "building tree 95 of 100\n",
      "building tree 96 of 100\n",
      "building tree 97 of 100\n",
      "building tree 98 of 100\n",
      "building tree 99 of 100\n",
      "building tree 100 of 100\n"
     ]
    },
    {
     "name": "stderr",
     "output_type": "stream",
     "text": [
      "[Parallel(n_jobs=1)]: Done 100 out of 100 | elapsed:    3.7s finished\n",
      "[Parallel(n_jobs=1)]: Using backend SequentialBackend with 1 concurrent workers.\n",
      "[Parallel(n_jobs=1)]: Done   1 out of   1 | elapsed:    0.0s remaining:    0.0s\n",
      "[Parallel(n_jobs=1)]: Done   2 out of   2 | elapsed:    0.0s remaining:    0.0s\n"
     ]
    },
    {
     "name": "stdout",
     "output_type": "stream",
     "text": [
      "building tree 1 of 100\n",
      "building tree 2 of 100\n",
      "building tree 3 of 100\n",
      "building tree 4 of 100\n",
      "building tree 5 of 100\n",
      "building tree 6 of 100\n"
     ]
    },
    {
     "name": "stderr",
     "output_type": "stream",
     "text": [
      "[Parallel(n_jobs=1)]: Done   3 out of   3 | elapsed:    0.0s remaining:    0.0s\n",
      "[Parallel(n_jobs=1)]: Done   4 out of   4 | elapsed:    0.0s remaining:    0.0s\n"
     ]
    },
    {
     "name": "stdout",
     "output_type": "stream",
     "text": [
      "building tree 7 of 100\n",
      "building tree 8 of 100\n",
      "building tree 9 of 100\n",
      "building tree 10 of 100\n",
      "building tree 11 of 100\n",
      "building tree 12 of 100\n",
      "building tree 13 of 100\n",
      "building tree 14 of 100\n",
      "building tree 15 of 100\n",
      "building tree 16 of 100\n",
      "building tree 17 of 100\n",
      "building tree 18 of 100\n",
      "building tree 19 of 100\n",
      "building tree 20 of 100\n",
      "building tree 21 of 100\n",
      "building tree 22 of 100\n",
      "building tree 23 of 100\n",
      "building tree 24 of 100\n",
      "building tree 25 of 100\n",
      "building tree 26 of 100\n",
      "building tree 27 of 100\n",
      "building tree 28 of 100\n",
      "building tree 29 of 100\n",
      "building tree 30 of 100\n",
      "building tree 31 of 100\n",
      "building tree 32 of 100\n",
      "building tree 33 of 100\n",
      "building tree 34 of 100\n",
      "building tree 35 of 100\n",
      "building tree 36 of 100\n",
      "building tree 37 of 100\n",
      "building tree 38 of 100\n",
      "building tree 39 of 100\n",
      "building tree 40 of 100\n",
      "building tree 41 of 100\n",
      "building tree 42 of 100\n",
      "building tree 43 of 100\n",
      "building tree 44 of 100\n",
      "building tree 45 of 100\n",
      "building tree 46 of 100\n",
      "building tree 47 of 100\n",
      "building tree 48 of 100\n",
      "building tree 49 of 100\n",
      "building tree 50 of 100\n",
      "building tree 51 of 100\n",
      "building tree 52 of 100\n",
      "building tree 53 of 100\n",
      "building tree 54 of 100\n",
      "building tree 55 of 100\n",
      "building tree 56 of 100\n",
      "building tree 57 of 100\n",
      "building tree 58 of 100\n",
      "building tree 59 of 100\n",
      "building tree 60 of 100\n",
      "building tree 61 of 100\n",
      "building tree 62 of 100\n",
      "building tree 63 of 100\n",
      "building tree 64 of 100\n",
      "building tree 65 of 100\n",
      "building tree 66 of 100\n",
      "building tree 67 of 100\n",
      "building tree 68 of 100\n",
      "building tree 69 of 100\n",
      "building tree 70 of 100\n",
      "building tree 71 of 100\n",
      "building tree 72 of 100\n",
      "building tree 73 of 100\n",
      "building tree 74 of 100\n",
      "building tree 75 of 100\n",
      "building tree 76 of 100\n",
      "building tree 77 of 100\n",
      "building tree 78 of 100\n",
      "building tree 79 of 100\n",
      "building tree 80 of 100\n",
      "building tree 81 of 100\n",
      "building tree 82 of 100\n",
      "building tree 83 of 100\n",
      "building tree 84 of 100\n",
      "building tree 85 of 100\n",
      "building tree 86 of 100\n",
      "building tree 87 of 100\n",
      "building tree 88 of 100\n",
      "building tree 89 of 100\n",
      "building tree 90 of 100\n",
      "building tree 91 of 100\n",
      "building tree 92 of 100\n",
      "building tree 93 of 100\n",
      "building tree 94 of 100\n",
      "building tree 95 of 100\n",
      "building tree 96 of 100\n",
      "building tree 97 of 100\n",
      "building tree 98 of 100\n",
      "building tree 99 of 100\n",
      "building tree 100 of 100\n"
     ]
    },
    {
     "name": "stderr",
     "output_type": "stream",
     "text": [
      "[Parallel(n_jobs=1)]: Done 100 out of 100 | elapsed:    3.7s finished\n",
      "[Parallel(n_jobs=1)]: Using backend SequentialBackend with 1 concurrent workers.\n",
      "[Parallel(n_jobs=1)]: Done   1 out of   1 | elapsed:    0.0s remaining:    0.0s\n",
      "[Parallel(n_jobs=1)]: Done   2 out of   2 | elapsed:    0.0s remaining:    0.0s\n",
      "[Parallel(n_jobs=1)]: Done   3 out of   3 | elapsed:    0.0s remaining:    0.0s\n",
      "[Parallel(n_jobs=1)]: Done   4 out of   4 | elapsed:    0.0s remaining:    0.0s\n",
      "[Parallel(n_jobs=1)]: Done 100 out of 100 | elapsed:    0.1s finished\n",
      "[Parallel(n_jobs=1)]: Using backend SequentialBackend with 1 concurrent workers.\n",
      "[Parallel(n_jobs=1)]: Done   1 out of   1 | elapsed:    0.0s remaining:    0.0s\n",
      "[Parallel(n_jobs=1)]: Done   2 out of   2 | elapsed:    0.0s remaining:    0.0s\n",
      "[Parallel(n_jobs=1)]: Done   3 out of   3 | elapsed:    0.0s remaining:    0.0s\n",
      "[Parallel(n_jobs=1)]: Done   4 out of   4 | elapsed:    0.0s remaining:    0.0s\n",
      "[Parallel(n_jobs=1)]: Done 100 out of 100 | elapsed:    0.0s finished\n",
      "[Parallel(n_jobs=1)]: Using backend SequentialBackend with 1 concurrent workers.\n",
      "[Parallel(n_jobs=1)]: Done   1 out of   1 | elapsed:    0.0s remaining:    0.0s\n",
      "[Parallel(n_jobs=1)]: Done   2 out of   2 | elapsed:    0.0s remaining:    0.0s\n",
      "[Parallel(n_jobs=1)]: Done   3 out of   3 | elapsed:    0.0s remaining:    0.0s\n",
      "[Parallel(n_jobs=1)]: Done   4 out of   4 | elapsed:    0.0s remaining:    0.0s\n",
      "[Parallel(n_jobs=1)]: Done 100 out of 100 | elapsed:    0.1s finished\n",
      "[Parallel(n_jobs=1)]: Using backend SequentialBackend with 1 concurrent workers.\n",
      "[Parallel(n_jobs=1)]: Done   1 out of   1 | elapsed:    0.0s remaining:    0.0s\n",
      "[Parallel(n_jobs=1)]: Done   2 out of   2 | elapsed:    0.0s remaining:    0.0s\n",
      "[Parallel(n_jobs=1)]: Done   3 out of   3 | elapsed:    0.0s remaining:    0.0s\n",
      "[Parallel(n_jobs=1)]: Done   4 out of   4 | elapsed:    0.0s remaining:    0.0s\n",
      "[Parallel(n_jobs=1)]: Done 100 out of 100 | elapsed:    0.0s finished\n"
     ]
    },
    {
     "name": "stdout",
     "output_type": "stream",
     "text": [
      "result    0.49937\n",
      "dtype: float64\n",
      "result    0.514625\n",
      "dtype: float64\n"
     ]
    },
    {
     "name": "stderr",
     "output_type": "stream",
     "text": [
      "[Parallel(n_jobs=1)]: Using backend SequentialBackend with 1 concurrent workers.\n",
      "[Parallel(n_jobs=1)]: Done   1 out of   1 | elapsed:    0.0s remaining:    0.0s\n",
      "[Parallel(n_jobs=1)]: Done   2 out of   2 | elapsed:    0.0s remaining:    0.0s\n",
      "[Parallel(n_jobs=1)]: Done   3 out of   3 | elapsed:    0.0s remaining:    0.0s\n",
      "[Parallel(n_jobs=1)]: Done   4 out of   4 | elapsed:    0.0s remaining:    0.0s\n",
      "[Parallel(n_jobs=1)]: Done 100 out of 100 | elapsed:    0.0s finished\n",
      "[Parallel(n_jobs=1)]: Using backend SequentialBackend with 1 concurrent workers.\n",
      "[Parallel(n_jobs=1)]: Done   1 out of   1 | elapsed:    0.0s remaining:    0.0s\n",
      "[Parallel(n_jobs=1)]: Done   2 out of   2 | elapsed:    0.0s remaining:    0.0s\n",
      "[Parallel(n_jobs=1)]: Done   3 out of   3 | elapsed:    0.0s remaining:    0.0s\n",
      "[Parallel(n_jobs=1)]: Done   4 out of   4 | elapsed:    0.0s remaining:    0.0s\n",
      "[Parallel(n_jobs=1)]: Done 100 out of 100 | elapsed:    0.0s finished\n"
     ]
    }
   ],
   "source": [
    "clf2 = rf_model(x_tr, y_tr, x_cv, y_cv)"
   ]
  },
  {
   "cell_type": "code",
   "execution_count": 47,
   "metadata": {},
   "outputs": [
    {
     "name": "stdout",
     "output_type": "stream",
     "text": [
      "result    0.549151\n",
      "dtype: float64\n",
      "result    0.513711\n",
      "dtype: float64\n"
     ]
    },
    {
     "data": {
      "text/plain": [
       "result    0.535224\n",
       "dtype: float64"
      ]
     },
     "execution_count": 47,
     "metadata": {},
     "output_type": "execute_result"
    }
   ],
   "source": [
    "predict_tr = clf.predict(x_tr).reshape((-1, 1))\n",
    "predict_cv = clf.predict(x_cv).reshape((-1, 1))\n",
    "predict_te = clf.predict(x_te).reshape((-1, 1))\n",
    "print(np.mean(predict_tr == y_tr))\n",
    "print(np.mean(predict_cv == y_cv))\n",
    "np.mean(predict_te == y_te)"
   ]
  },
  {
   "cell_type": "code",
   "execution_count": 42,
   "metadata": {},
   "outputs": [
    {
     "data": {
      "text/plain": [
       "array([[ 0.00000000e+00,  0.00000000e+00,  0.00000000e+00,\n",
       "        -2.63553348e-02,  0.00000000e+00,  0.00000000e+00,\n",
       "         1.92773849e-01,  0.00000000e+00,  8.05225005e-02,\n",
       "        -1.56858522e-01, -2.03819933e-02, -8.30416979e-02,\n",
       "         8.43846553e-02,  0.00000000e+00,  0.00000000e+00,\n",
       "         0.00000000e+00,  0.00000000e+00,  0.00000000e+00,\n",
       "        -1.36520348e-01,  0.00000000e+00, -8.70792572e-02,\n",
       "         0.00000000e+00,  7.81609584e-02, -1.32211107e-01,\n",
       "         0.00000000e+00,  0.00000000e+00, -2.03228089e-01,\n",
       "        -1.21600278e-01,  2.10137937e-01],\n",
       "       [-1.36583161e-02,  0.00000000e+00, -6.90390688e-02,\n",
       "         0.00000000e+00,  1.73304104e-01, -6.71001283e-02,\n",
       "        -2.41346539e-02,  4.25870396e-02,  0.00000000e+00,\n",
       "        -2.52380425e-01,  1.52677019e-01,  0.00000000e+00,\n",
       "         0.00000000e+00, -2.42185174e-01, -5.22122770e-02,\n",
       "        -3.04700781e-01,  4.09458613e-02,  2.87914054e-02,\n",
       "         0.00000000e+00,  0.00000000e+00, -1.10021347e-01,\n",
       "        -6.97507035e-02,  0.00000000e+00, -5.28852044e-01,\n",
       "         0.00000000e+00,  0.00000000e+00,  0.00000000e+00,\n",
       "         0.00000000e+00, -5.96970785e-01],\n",
       "       [-1.35461432e+00,  1.27939189e-01, -7.35616040e-02,\n",
       "         0.00000000e+00,  4.39469215e-01,  3.36482162e-03,\n",
       "         0.00000000e+00, -2.68171676e-01,  0.00000000e+00,\n",
       "         0.00000000e+00,  0.00000000e+00,  1.68558045e-01,\n",
       "         0.00000000e+00,  0.00000000e+00,  1.26480961e-01,\n",
       "         5.31418259e-02, -2.71423733e-01, -1.33056719e-01,\n",
       "         1.11078431e-01,  2.66025630e-02, -1.14902938e-01,\n",
       "         8.35411345e-02, -1.78826260e-01,  0.00000000e+00,\n",
       "         0.00000000e+00, -8.82277961e-02,  0.00000000e+00,\n",
       "        -1.80809028e-01, -1.20970831e-01],\n",
       "       [ 0.00000000e+00,  4.12835829e-02, -8.68571814e-02,\n",
       "        -2.57218168e-01, -5.23000995e-01, -1.45530914e-01,\n",
       "         0.00000000e+00,  6.60281184e-02,  0.00000000e+00,\n",
       "         7.24863352e-02, -3.56086624e-01,  4.84839268e-01,\n",
       "        -2.97550753e-01,  0.00000000e+00,  0.00000000e+00,\n",
       "        -6.83941518e-02,  0.00000000e+00,  1.85582276e-04,\n",
       "         0.00000000e+00, -7.84944928e-02, -1.62913234e-01,\n",
       "         3.24807645e-01,  0.00000000e+00,  0.00000000e+00,\n",
       "        -2.06674841e-01,  0.00000000e+00,  7.62647474e-02,\n",
       "        -3.09921441e-02,  0.00000000e+00],\n",
       "       [-9.54830868e-02,  0.00000000e+00,  1.12329788e-01,\n",
       "         0.00000000e+00,  0.00000000e+00, -1.14398245e-01,\n",
       "         0.00000000e+00,  0.00000000e+00,  0.00000000e+00,\n",
       "         0.00000000e+00,  0.00000000e+00, -3.86722895e-02,\n",
       "        -4.50312634e-02,  7.60907327e-02,  1.30907464e-01,\n",
       "         0.00000000e+00,  1.84851153e-02,  0.00000000e+00,\n",
       "        -1.22805742e-01,  0.00000000e+00, -2.41384261e-01,\n",
       "         0.00000000e+00,  0.00000000e+00,  0.00000000e+00,\n",
       "         0.00000000e+00, -1.17429258e-02,  0.00000000e+00,\n",
       "        -6.74712065e-03,  3.53286909e-02],\n",
       "       [ 0.00000000e+00, -1.78186483e-01, -5.96140074e-03,\n",
       "         0.00000000e+00,  0.00000000e+00,  3.18717083e-01,\n",
       "         0.00000000e+00, -1.28031211e-01,  0.00000000e+00,\n",
       "         1.86051337e-02, -8.38610328e-03, -2.15539417e-01,\n",
       "         0.00000000e+00,  1.41651259e-02,  0.00000000e+00,\n",
       "         1.92084415e-01,  1.62995947e-01, -6.55508797e-02,\n",
       "        -1.72532404e-01, -3.83329009e-01,  4.99291946e-02,\n",
       "        -1.57912031e-01,  0.00000000e+00,  0.00000000e+00,\n",
       "         0.00000000e+00,  5.17135992e-02,  0.00000000e+00,\n",
       "        -1.44611940e-01,  2.79220453e-01],\n",
       "       [-7.06961213e-02,  2.08499226e-02,  0.00000000e+00,\n",
       "         8.22419548e-02, -2.66138897e-01,  0.00000000e+00,\n",
       "         0.00000000e+00,  1.69063135e-01,  1.31484122e-01,\n",
       "         0.00000000e+00, -8.47957700e-03,  0.00000000e+00,\n",
       "         0.00000000e+00, -1.73827162e-01, -3.42033930e-01,\n",
       "        -2.54526827e-01,  1.04843781e-01,  1.25619463e-02,\n",
       "         0.00000000e+00, -2.86460272e-02, -3.19266946e-01,\n",
       "         0.00000000e+00,  0.00000000e+00,  1.95987848e-01,\n",
       "        -2.97067958e-02,  0.00000000e+00,  0.00000000e+00,\n",
       "        -2.28548563e-01, -9.10472957e-03],\n",
       "       [-6.56943756e-01,  1.36909493e-01, -1.10611126e-01,\n",
       "         1.42312608e-01,  0.00000000e+00,  1.69308848e-01,\n",
       "         0.00000000e+00, -1.41602255e-02,  0.00000000e+00,\n",
       "         0.00000000e+00, -1.93477136e-01,  2.72654087e-01,\n",
       "        -2.08652424e-01,  0.00000000e+00, -4.95814570e-02,\n",
       "         3.27906753e-01,  0.00000000e+00,  0.00000000e+00,\n",
       "         0.00000000e+00,  1.05375849e-02, -4.30881867e-01,\n",
       "         1.36299046e-01,  0.00000000e+00,  0.00000000e+00,\n",
       "        -2.71188999e-01,  0.00000000e+00,  0.00000000e+00,\n",
       "        -2.25367005e-01,  0.00000000e+00],\n",
       "       [-1.74399484e-01,  0.00000000e+00,  0.00000000e+00,\n",
       "         0.00000000e+00,  0.00000000e+00, -3.48903083e-01,\n",
       "         5.97726107e-01,  6.53057527e-03,  1.30538994e-01,\n",
       "         0.00000000e+00, -8.60523769e-02,  0.00000000e+00,\n",
       "         0.00000000e+00,  0.00000000e+00,  0.00000000e+00,\n",
       "         0.00000000e+00, -4.20022571e-02,  0.00000000e+00,\n",
       "         0.00000000e+00, -3.90848204e-02, -4.48642414e-02,\n",
       "         0.00000000e+00, -1.31908660e-01,  3.86712079e-02,\n",
       "         1.94158125e-01,  0.00000000e+00,  1.10339055e-01,\n",
       "         0.00000000e+00,  0.00000000e+00],\n",
       "       [ 0.00000000e+00,  7.65923476e-02, -8.36412326e-01,\n",
       "         7.47601772e-02,  0.00000000e+00,  0.00000000e+00,\n",
       "        -1.13154862e-01,  1.53151453e-01,  0.00000000e+00,\n",
       "         2.47342411e-01, -2.27239813e-02, -2.55989030e-01,\n",
       "        -4.42237163e-01,  1.30001182e-01,  0.00000000e+00,\n",
       "         3.89072191e-02,  0.00000000e+00, -3.72060423e-01,\n",
       "         6.30537146e-02,  1.70527795e-01, -8.86648740e-01,\n",
       "         3.18954061e-01,  0.00000000e+00,  1.36180947e-01,\n",
       "        -2.21997687e-01,  0.00000000e+00,  1.05565316e-01,\n",
       "         0.00000000e+00,  0.00000000e+00],\n",
       "       [ 0.00000000e+00,  0.00000000e+00,  0.00000000e+00,\n",
       "         0.00000000e+00,  0.00000000e+00, -9.15910782e-02,\n",
       "         0.00000000e+00,  0.00000000e+00,  0.00000000e+00,\n",
       "         0.00000000e+00,  0.00000000e+00,  0.00000000e+00,\n",
       "        -1.27866855e-01, -3.16115311e-02,  5.69671689e-02,\n",
       "        -8.31179229e-02,  0.00000000e+00,  5.43648266e-02,\n",
       "         0.00000000e+00, -1.69137844e-01, -1.77677391e-01,\n",
       "         1.53505201e-01,  3.38828866e-01, -6.04032492e-02,\n",
       "        -1.42727583e-02,  5.67305965e-01,  0.00000000e+00,\n",
       "         0.00000000e+00, -3.78546200e-01],\n",
       "       [ 0.00000000e+00,  0.00000000e+00, -3.17070846e-01,\n",
       "         0.00000000e+00,  0.00000000e+00,  0.00000000e+00,\n",
       "        -3.85940290e-01,  0.00000000e+00,  1.24883114e-01,\n",
       "         6.33868726e-01, -1.62000791e-01,  0.00000000e+00,\n",
       "         1.71332659e-01, -8.77249790e-03,  1.71886278e-02,\n",
       "         0.00000000e+00,  2.04468970e-02, -1.59089042e-01,\n",
       "         0.00000000e+00,  0.00000000e+00,  6.22066858e-02,\n",
       "         4.12978408e-02,  0.00000000e+00,  8.38317497e-03,\n",
       "        -2.04235940e-01,  0.00000000e+00,  0.00000000e+00,\n",
       "         0.00000000e+00, -1.42493291e-01],\n",
       "       [ 2.08388957e-01,  0.00000000e+00,  0.00000000e+00,\n",
       "        -4.98360926e-02,  0.00000000e+00,  0.00000000e+00,\n",
       "        -1.88574381e-02,  1.57691717e-01,  9.57382564e-02,\n",
       "         1.42309154e-01,  0.00000000e+00,  0.00000000e+00,\n",
       "         7.74380589e-02,  1.15707006e-01,  2.89231934e-01,\n",
       "        -3.78398093e-02, -2.37999608e-02, -2.82647344e-01,\n",
       "         1.25310498e-01, -1.91128557e-01,  1.09868781e-01,\n",
       "         0.00000000e+00,  2.48654773e-01,  0.00000000e+00,\n",
       "        -1.62036513e-01,  0.00000000e+00,  0.00000000e+00,\n",
       "         0.00000000e+00, -1.15197357e-01],\n",
       "       [ 3.93892474e-01, -3.58030717e-03, -1.41119484e-02,\n",
       "         0.00000000e+00, -9.68012116e-02,  2.43353735e-01,\n",
       "        -9.41162640e-02, -5.78015972e-03,  0.00000000e+00,\n",
       "         0.00000000e+00, -2.57643993e-02,  1.72742678e-01,\n",
       "         0.00000000e+00,  2.79044245e-02, -1.43407301e-01,\n",
       "         1.41947560e-01, -1.03220953e-01,  0.00000000e+00,\n",
       "         0.00000000e+00,  0.00000000e+00,  1.21069646e-02,\n",
       "         3.18030578e-02,  2.63593192e-09,  0.00000000e+00,\n",
       "         0.00000000e+00,  0.00000000e+00,  5.92300764e-02,\n",
       "         1.47547106e-01, -3.43027557e-02],\n",
       "       [ 2.22502708e-01, -7.83575846e-02,  1.57584516e-01,\n",
       "         3.68910242e-01, -1.07199338e-01, -1.60698088e-01,\n",
       "         1.48632709e-01, -5.79202223e-02,  0.00000000e+00,\n",
       "         2.68392618e-01,  4.36125092e-04,  0.00000000e+00,\n",
       "         1.63690321e-01,  0.00000000e+00,  4.20403413e-01,\n",
       "         0.00000000e+00, -2.60913840e-01,  0.00000000e+00,\n",
       "        -6.89857144e-02,  0.00000000e+00,  0.00000000e+00,\n",
       "         2.36615509e-01,  3.29438603e-01,  0.00000000e+00,\n",
       "        -3.55870893e-01,  0.00000000e+00,  0.00000000e+00,\n",
       "         0.00000000e+00,  0.00000000e+00],\n",
       "       [ 4.16745252e-01, -1.04143941e-01,  1.14912432e-01,\n",
       "         0.00000000e+00,  0.00000000e+00,  0.00000000e+00,\n",
       "         3.57351164e-01,  0.00000000e+00, -1.84267959e-02,\n",
       "         0.00000000e+00,  0.00000000e+00,  2.56802519e-01,\n",
       "        -3.83109153e-01,  1.78678237e-01, -1.79071335e-02,\n",
       "         0.00000000e+00, -1.90932909e-01,  0.00000000e+00,\n",
       "         4.71824184e-01, -1.16338940e-01,  1.62226281e-01,\n",
       "         1.12228946e-01,  0.00000000e+00,  0.00000000e+00,\n",
       "         0.00000000e+00,  0.00000000e+00,  0.00000000e+00,\n",
       "         7.73646687e-02,  0.00000000e+00],\n",
       "       [ 3.86373293e-01, -8.78309832e-02,  0.00000000e+00,\n",
       "         1.84536793e-01,  0.00000000e+00, -1.17934859e-01,\n",
       "         0.00000000e+00,  1.91779279e-01, -5.07688015e-01,\n",
       "         0.00000000e+00,  0.00000000e+00,  0.00000000e+00,\n",
       "         1.78029826e-02,  0.00000000e+00,  1.43315461e-04,\n",
       "         0.00000000e+00,  0.00000000e+00, -1.55182982e-01,\n",
       "         0.00000000e+00,  9.52558990e-02,  0.00000000e+00,\n",
       "         1.48160706e-01, -5.72814279e-01,  0.00000000e+00,\n",
       "         6.36591246e-01,  1.25191630e-02,  0.00000000e+00,\n",
       "         6.84952417e-02, -1.15768665e-01],\n",
       "       [ 3.43288736e-01, -2.87386530e-01,  3.06596878e-01,\n",
       "         0.00000000e+00,  2.09023614e-01,  0.00000000e+00,\n",
       "         0.00000000e+00, -1.01983803e-01,  1.72228825e-01,\n",
       "         0.00000000e+00,  4.72329555e-04,  0.00000000e+00,\n",
       "         0.00000000e+00,  0.00000000e+00,  0.00000000e+00,\n",
       "         0.00000000e+00, -3.27700014e-02,  0.00000000e+00,\n",
       "        -1.87657880e-01,  0.00000000e+00,  0.00000000e+00,\n",
       "         0.00000000e+00,  0.00000000e+00,  1.60580510e-01,\n",
       "        -1.14641937e-01,  0.00000000e+00,  4.31288052e-02,\n",
       "         0.00000000e+00,  5.47363898e-02],\n",
       "       [ 2.74656080e-01, -5.35824117e-02,  2.34278662e-01,\n",
       "        -2.38044841e-01,  0.00000000e+00,  0.00000000e+00,\n",
       "         0.00000000e+00,  0.00000000e+00,  0.00000000e+00,\n",
       "        -5.41044532e-01,  0.00000000e+00,  4.23500526e-01,\n",
       "        -1.95497012e-01,  2.04649822e-01, -6.99406777e-01,\n",
       "         1.86917983e-01, -3.90572200e-02, -9.80623751e-02,\n",
       "         5.71924688e-02,  2.54450049e-02,  4.00849406e-01,\n",
       "         0.00000000e+00, -4.72674045e-01,  0.00000000e+00,\n",
       "         0.00000000e+00,  0.00000000e+00,  0.00000000e+00,\n",
       "         4.06786620e-02, -1.87495632e-01],\n",
       "       [ 0.00000000e+00,  1.41435233e-01, -1.07346508e-03,\n",
       "         0.00000000e+00,  0.00000000e+00,  0.00000000e+00,\n",
       "         0.00000000e+00,  0.00000000e+00,  3.88619252e-01,\n",
       "         9.73427436e-03, -9.39215116e-02,  3.11785005e-01,\n",
       "         0.00000000e+00,  0.00000000e+00, -2.58917111e-01,\n",
       "         5.56219495e-01, -1.07242387e-01,  0.00000000e+00,\n",
       "        -3.43008083e-01,  0.00000000e+00,  1.04018630e-01,\n",
       "         0.00000000e+00,  0.00000000e+00,  0.00000000e+00,\n",
       "         0.00000000e+00, -1.36996229e-01,  1.56389271e-01,\n",
       "        -1.76002706e-01,  2.01789757e-01],\n",
       "       [ 5.00721860e-01, -3.42722363e-01,  0.00000000e+00,\n",
       "         1.96200032e-01,  4.92707027e-01, -4.06738392e-01,\n",
       "        -1.67672341e-01,  2.87609089e-02,  4.00804428e-01,\n",
       "         1.83597524e-02,  0.00000000e+00,  3.45824894e-01,\n",
       "         0.00000000e+00,  0.00000000e+00,  2.80184371e-01,\n",
       "         0.00000000e+00, -2.10967958e-01,  0.00000000e+00,\n",
       "        -4.09032675e-01,  0.00000000e+00,  0.00000000e+00,\n",
       "         8.07661282e-02, -1.90880907e-01,  5.06661735e-02,\n",
       "         0.00000000e+00,  0.00000000e+00,  4.27340452e-02,\n",
       "        -5.65895446e-01,  0.00000000e+00],\n",
       "       [ 3.22371269e-01,  0.00000000e+00,  0.00000000e+00,\n",
       "         5.17610608e-02,  1.55439835e-01,  0.00000000e+00,\n",
       "         6.34207522e-01, -1.95726509e-02,  0.00000000e+00,\n",
       "         0.00000000e+00,  0.00000000e+00,  0.00000000e+00,\n",
       "         7.47378729e-02,  6.71611386e-02,  0.00000000e+00,\n",
       "        -3.17259410e-02,  0.00000000e+00,  2.43862188e-01,\n",
       "        -6.46155448e-02,  0.00000000e+00,  0.00000000e+00,\n",
       "        -3.06261196e-01,  0.00000000e+00,  1.81065672e-01,\n",
       "        -3.42380971e-01,  0.00000000e+00,  7.05006318e-02,\n",
       "        -2.54142427e-02,  0.00000000e+00]])"
      ]
     },
     "execution_count": 42,
     "metadata": {},
     "output_type": "execute_result"
    }
   ],
   "source": [
    "coefs = clf.coef_\n",
    "coefs[0].reshape((-1, 29))"
   ]
  },
  {
   "cell_type": "code",
   "execution_count": 35,
   "metadata": {},
   "outputs": [
    {
     "data": {
      "text/plain": [
       "28"
      ]
     },
     "execution_count": 35,
     "metadata": {},
     "output_type": "execute_result"
    }
   ],
   "source": [
    "x_tr.columns\n",
    "len([0,2,3,4,5,6,7,8,10,11,12,13,15,16,17,20,21,22,23,24,25,26,27,29,30,31,33,34])"
   ]
  },
  {
   "cell_type": "code",
   "execution_count": 88,
   "metadata": {},
   "outputs": [
    {
     "data": {
      "text/plain": [
       "(3, 770)"
      ]
     },
     "execution_count": 88,
     "metadata": {},
     "output_type": "execute_result"
    }
   ],
   "source": [
    "clf.coef_.shape"
   ]
  },
  {
   "cell_type": "code",
   "execution_count": 109,
   "metadata": {},
   "outputs": [],
   "source": [
    "c0 = coefs[0, :].reshape((22, 35))\n",
    "c1 = coefs[1, :].reshape((22, 35))\n",
    "c2 = coefs[2, :].reshape((22, 35))\n",
    "cols = x_tr.columns.to_numpy().reshape((22, 35))"
   ]
  },
  {
   "cell_type": "code",
   "execution_count": 104,
   "metadata": {},
   "outputs": [
    {
     "name": "stdout",
     "output_type": "stream",
     "text": [
      "[ 0  0  5  6  7  7 11 11 11 12 13 14 20 25 27 27 27 28 29 30 32 34]\n",
      "[ 0  1  2  2  3 10 11 15 15 16 17 20 21 21 21 23 24 25 28 30 31 32]\n",
      "[ 0  0  2  2  3  5  5  7 10 12 13 14 15 24 25 29 29 29 31 32 33 33]\n",
      "Index(['home_player_1_overall_rating', 'home_player_1_overall_rating',\n",
      "       'home_player_1_short_passing', 'home_player_1_volleys',\n",
      "       'home_player_1_dribbling', 'home_player_1_dribbling',\n",
      "       'home_player_1_ball_control', 'home_player_1_ball_control',\n",
      "       'home_player_1_ball_control', 'home_player_1_acceleration',\n",
      "       'home_player_1_sprint_speed', 'home_player_1_agility',\n",
      "       'home_player_1_strength', 'home_player_1_vision',\n",
      "       'home_player_1_marking', 'home_player_1_marking',\n",
      "       'home_player_1_marking', 'home_player_1_standing_tackle',\n",
      "       'home_player_1_sliding_tackle', 'home_player_1_gk_diving',\n",
      "       'home_player_1_gk_kicking', 'home_player_1_gk_reflexes'],\n",
      "      dtype='object')\n",
      "Index(['home_player_1_overall_rating', 'home_player_1_potential',\n",
      "       'home_player_1_crossing', 'home_player_1_crossing',\n",
      "       'home_player_1_finishing', 'home_player_1_long_passing',\n",
      "       'home_player_1_ball_control', 'home_player_1_reactions',\n",
      "       'home_player_1_reactions', 'home_player_1_balance',\n",
      "       'home_player_1_shot_power', 'home_player_1_strength',\n",
      "       'home_player_1_long_shots', 'home_player_1_long_shots',\n",
      "       'home_player_1_long_shots', 'home_player_1_interceptions',\n",
      "       'home_player_1_positioning', 'home_player_1_vision',\n",
      "       'home_player_1_standing_tackle', 'home_player_1_gk_diving',\n",
      "       'home_player_1_gk_handling', 'home_player_1_gk_kicking'],\n",
      "      dtype='object')\n",
      "Index(['home_player_1_overall_rating', 'home_player_1_overall_rating',\n",
      "       'home_player_1_crossing', 'home_player_1_crossing',\n",
      "       'home_player_1_finishing', 'home_player_1_short_passing',\n",
      "       'home_player_1_short_passing', 'home_player_1_dribbling',\n",
      "       'home_player_1_long_passing', 'home_player_1_acceleration',\n",
      "       'home_player_1_sprint_speed', 'home_player_1_agility',\n",
      "       'home_player_1_reactions', 'home_player_1_positioning',\n",
      "       'home_player_1_vision', 'home_player_1_sliding_tackle',\n",
      "       'home_player_1_sliding_tackle', 'home_player_1_sliding_tackle',\n",
      "       'home_player_1_gk_handling', 'home_player_1_gk_kicking',\n",
      "       'home_player_1_gk_positioning', 'home_player_1_gk_positioning'],\n",
      "      dtype='object')\n"
     ]
    }
   ],
   "source": [
    "maxes0 = np.argmax(c0, axis = 1)\n",
    "maxes1 = np.argmax(c1, axis = 1)\n",
    "maxes2 = np.argmax(c2, axis = 1)\n",
    "maxes0.sort()\n",
    "maxes1.sort()\n",
    "maxes2.sort()\n",
    "print(maxes0)\n",
    "print(maxes1)\n",
    "print(maxes2)\n",
    "print(x_tr.columns[maxes0])\n",
    "print(x_tr.columns[maxes1])\n",
    "print(x_tr.columns[maxes2])"
   ]
  },
  {
   "cell_type": "code",
   "execution_count": 54,
   "metadata": {},
   "outputs": [
    {
     "data": {
      "text/plain": [
       "array([-1,  0,  1], dtype=int64)"
      ]
     },
     "execution_count": 54,
     "metadata": {},
     "output_type": "execute_result"
    }
   ],
   "source": [
    "clf.classes_"
   ]
  },
  {
   "cell_type": "code",
   "execution_count": 105,
   "metadata": {},
   "outputs": [
    {
     "name": "stdout",
     "output_type": "stream",
     "text": [
      "[ 0  0  1  3  3  5  6  8  8  9  9 10 11 11 11 13 14 14 15 15 16 16 16 17\n",
      " 17 18 18 19 19 19 19 20 20 21 21]\n",
      "[ 0  1  1  1  2  2  3  3  4  4  5  5  5  6  6  7  7  8  8  8  9 10 10 10\n",
      " 11 11 15 15 16 16 16 18 19 20 20]\n",
      "[ 0  1  1  1  2  3  4  5  5  6  6  7  8  9  9 10 11 11 11 12 12 14 15 15\n",
      " 15 16 16 16 18 20 20 20 21 21 21]\n"
     ]
    }
   ],
   "source": [
    "maxes0 = np.argmax(c0, axis = 0)\n",
    "maxes1 = np.argmax(c1, axis = 0)\n",
    "maxes2 = np.argmax(c2, axis = 0)\n",
    "maxes0.sort()\n",
    "maxes1.sort()\n",
    "maxes2.sort()\n",
    "print(maxes0)\n",
    "print(maxes1)\n",
    "print(maxes2)"
   ]
  },
  {
   "cell_type": "code",
   "execution_count": 101,
   "metadata": {},
   "outputs": [
    {
     "data": {
      "text/plain": [
       "'home_player_1_aggression'"
      ]
     },
     "execution_count": 101,
     "metadata": {},
     "output_type": "execute_result"
    }
   ],
   "source": [
    "x_tr.columns[22]"
   ]
  },
  {
   "cell_type": "code",
   "execution_count": 96,
   "metadata": {},
   "outputs": [
    {
     "data": {
      "text/plain": [
       "35.0"
      ]
     },
     "execution_count": 96,
     "metadata": {},
     "output_type": "execute_result"
    }
   ],
   "source": [
    "770/22"
   ]
  },
  {
   "cell_type": "code",
   "execution_count": null,
   "metadata": {},
   "outputs": [],
   "source": []
  }
 ],
 "metadata": {
  "kernelspec": {
   "display_name": "Python 3",
   "language": "python",
   "name": "python3"
  },
  "language_info": {
   "codemirror_mode": {
    "name": "ipython",
    "version": 3
   },
   "file_extension": ".py",
   "mimetype": "text/x-python",
   "name": "python",
   "nbconvert_exporter": "python",
   "pygments_lexer": "ipython3",
   "version": "3.7.3"
  }
 },
 "nbformat": 4,
 "nbformat_minor": 4
}
