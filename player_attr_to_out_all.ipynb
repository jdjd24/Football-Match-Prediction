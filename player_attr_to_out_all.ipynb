{
 "cells": [
  {
   "cell_type": "code",
   "execution_count": 3,
   "metadata": {},
   "outputs": [],
   "source": [
    "import pandas as pd\n",
    "import numpy as np\n",
    "from sklearn import linear_model\n",
    "from sklearn import svm\n",
    "from sklearn import ensemble\n",
    "from sklearn import preprocessing\n",
    "from sklearn.model_selection import learning_curve\n",
    "from sklearn.multiclass import OneVsRestClassifier\n",
    "import matplotlib.pyplot as plt"
   ]
  },
  {
   "cell_type": "code",
   "execution_count": 4,
   "metadata": {},
   "outputs": [],
   "source": [
    "def load_in_data():\n",
    "    x_tr = pd.read_csv('x_train.csv')\n",
    "    y_tr = pd.read_csv('y_train.csv')\n",
    "    x_cv = pd.read_csv('x_val.csv')\n",
    "    y_cv = pd.read_csv('y_val.csv')\n",
    "    x_te = pd.read_csv('x_test.csv')\n",
    "    y_te = pd.read_csv('y_test.csv')\n",
    "    return x_tr, y_tr, x_cv, y_cv, x_te, y_te"
   ]
  },
  {
   "cell_type": "code",
   "execution_count": 5,
   "metadata": {},
   "outputs": [],
   "source": [
    "x_tr, y_tr, x_cv, y_cv, x_te, y_te = load_in_data()"
   ]
  },
  {
   "cell_type": "code",
   "execution_count": 6,
   "metadata": {},
   "outputs": [],
   "source": [
    "x_tr.fillna(x_tr.mean(), inplace=True)\n",
    "x_cv.fillna(x_cv.mean(), inplace=True)\n",
    "x_te.fillna(x_te.mean(), inplace=True)"
   ]
  },
  {
   "cell_type": "code",
   "execution_count": 7,
   "metadata": {},
   "outputs": [],
   "source": [
    "def plot_learning_curve(estimator, x_tr, y_tr):\n",
    "    train_sizes, train_scores, test_scores = \\\n",
    "        learning_curve(estimator, x_tr, y_tr, train_sizes = np.linspace(0.2, 1, 20))\n",
    "    \n",
    "    plt.plot(train_sizes, -train_scores.mean(1), 'o-', label = str(estimator.__class__.__name__) + ' train')\n",
    "    plt.plot(train_sizes, -test_scores.mean(1), 'o-', label = str(estimator.__class__.__name__) + ' test')\n",
    "    plt.legend(loc=\"best\")"
   ]
  },
  {
   "cell_type": "code",
   "execution_count": 8,
   "metadata": {},
   "outputs": [],
   "source": [
    "def do_stuff(model, x_tr, y_tr, x_cv, y_cv):\n",
    "    clf = OneVsRestClassifier(model).fit(x_tr, y_tr)\n",
    "    predict_tr = clf.predict(x_tr).reshape((-1, 1))\n",
    "    predict_cv = clf.predict(x_cv).reshape((-1, 1))\n",
    "    print(np.mean(predict_tr == y_tr))\n",
    "    print(np.mean(predict_cv == y_cv))\n",
    "    #plot_learning_curve(clf, x_tr, y_tr)\n",
    "    return clf"
   ]
  },
  {
   "cell_type": "code",
   "execution_count": 9,
   "metadata": {},
   "outputs": [],
   "source": [
    "def logistic_model(x_tr, y_tr, x_cv, y_cv):\n",
    "    log = linear_model.LogisticRegression(max_iter = 10000, penalty = 'l2')\n",
    "    return do_stuff(log, x_tr, y_tr, x_cv, y_cv)\n",
    "\n",
    "def svm_model(x_tr, y_tr, x_cv, y_cv):\n",
    "    svc = svm.SVC(kernel = 'poly', max_iter = 10000)\n",
    "    return do_stuff(svc, x_tr, y_tr, x_cv, y_cv)\n",
    "    \n",
    "def rf_model(x_tr, y_tr, x_cv, y_cv):\n",
    "    rf = ensemble.RandomForestClassifier(max_depth=2, random_state=0)\n",
    "    return do_stuff(rf, x_tr, y_tr, x_cv, y_cv)"
   ]
  },
  {
   "cell_type": "code",
   "execution_count": 10,
   "metadata": {},
   "outputs": [
    {
     "name": "stdout",
     "output_type": "stream",
     "text": [
      "0    0.560871\n",
      "dtype: float64\n",
      "0    0.510549\n",
      "dtype: float64\n"
     ]
    },
    {
     "data": {
      "text/plain": [
       "OneVsRestClassifier(estimator=LogisticRegression(max_iter=10000))"
      ]
     },
     "execution_count": 10,
     "metadata": {},
     "output_type": "execute_result"
    }
   ],
   "source": [
    "logistic_model(x_tr, y_tr, x_cv, y_cv)"
   ]
  },
  {
   "cell_type": "code",
   "execution_count": null,
   "metadata": {},
   "outputs": [],
   "source": [
    "svm_model(x_tr, y_tr, x_cv, y_cv)"
   ]
  },
  {
   "cell_type": "code",
   "execution_count": 12,
   "metadata": {},
   "outputs": [
    {
     "name": "stdout",
     "output_type": "stream",
     "text": [
      "0    0.483047\n",
      "dtype: float64\n",
      "0    0.486076\n",
      "dtype: float64\n"
     ]
    },
    {
     "data": {
      "text/plain": [
       "OneVsRestClassifier(estimator=RandomForestClassifier(max_depth=2,\n",
       "                                                     random_state=0))"
      ]
     },
     "execution_count": 12,
     "metadata": {},
     "output_type": "execute_result"
    }
   ],
   "source": [
    "rf_model(x_tr, y_tr, x_cv, y_cv)"
   ]
  },
  {
   "cell_type": "code",
   "execution_count": 11,
   "metadata": {},
   "outputs": [
    {
     "name": "stdout",
     "output_type": "stream",
     "text": [
      "0    0.560871\n",
      "dtype: float64\n",
      "0    0.510549\n",
      "dtype: float64\n"
     ]
    },
    {
     "data": {
      "text/plain": [
       "0    0.547679\n",
       "dtype: float64"
      ]
     },
     "execution_count": 11,
     "metadata": {},
     "output_type": "execute_result"
    }
   ],
   "source": [
    "clf = logistic_model(x_tr, y_tr, x_cv, y_cv)\n",
    "predict_te = clf.predict(x_te).reshape((-1, 1))\n",
    "np.mean(predict_te == y_te)"
   ]
  },
  {
   "cell_type": "code",
   "execution_count": null,
   "metadata": {},
   "outputs": [],
   "source": []
  }
 ],
 "metadata": {
  "kernelspec": {
   "display_name": "Python 3",
   "language": "python",
   "name": "python3"
  },
  "language_info": {
   "codemirror_mode": {
    "name": "ipython",
    "version": 3
   },
   "file_extension": ".py",
   "mimetype": "text/x-python",
   "name": "python",
   "nbconvert_exporter": "python",
   "pygments_lexer": "ipython3",
   "version": "3.7.3"
  }
 },
 "nbformat": 4,
 "nbformat_minor": 4
}
